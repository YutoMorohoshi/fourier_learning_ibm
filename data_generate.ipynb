{
 "cells": [
  {
   "cell_type": "markdown",
   "metadata": {},
   "source": [
    "# ToDo: \n",
    "+ ~~期待値がほぼ 0 になっている理由を探す。回避できるようなら回避~~\n",
    "+ ~~C = 3 * n_qubits の理由~~ (特に理由はない？)\n",
    "+ ~~QPU のばらつき改善~~\n",
    "+ 2 次のトロッターにしてみる\n",
    "+ GHZ を中心に寄せる。このままだと不要な Trotter gate があるので。"
   ]
  },
  {
   "cell_type": "markdown",
   "metadata": {},
   "source": [
    "## わかったこと\n",
    "+ ハミルトニアンをシフトさせなければ成功\n",
    "+ times = [2 * np.pi * k / C for k in range(n_features)] は失敗\n",
    "+ times = [np.pi * k / C for k in range(n_features)] は成功"
   ]
  },
  {
   "cell_type": "code",
   "execution_count": 1,
   "metadata": {},
   "outputs": [
    {
     "name": "stdout",
     "output_type": "stream",
     "text": [
      "Note: you may need to restart the kernel to use updated packages.\n"
     ]
    }
   ],
   "source": [
    "%matplotlib inline\n",
    "%pip freeze > requirements.txt\n",
    "%load_ext autoreload\n",
    "%autoreload 2"
   ]
  },
  {
   "cell_type": "code",
   "execution_count": 2,
   "metadata": {},
   "outputs": [
    {
     "name": "stdout",
     "output_type": "stream",
     "text": [
      "['/home/jovyan',\n",
      " '/opt/conda/lib/python311.zip',\n",
      " '/opt/conda/lib/python3.11',\n",
      " '/opt/conda/lib/python3.11/lib-dynload',\n",
      " '',\n",
      " '/opt/conda/lib/python3.11/site-packages',\n",
      " '/home/jovyan/fourier_learning_ibm/']\n"
     ]
    }
   ],
   "source": [
    "# Add the fourier_learning_ibm package to the path\n",
    "import sys, pprint\n",
    "\n",
    "sys.path.append(\"/home/jovyan/fourier_learning_ibm/\")\n",
    "pprint.pprint(sys.path)"
   ]
  },
  {
   "cell_type": "code",
   "execution_count": 3,
   "metadata": {},
   "outputs": [],
   "source": [
    "import numpy as np\n",
    "import scipy\n",
    "import matplotlib.pyplot as plt\n",
    "import pandas as pd\n",
    "import os\n",
    "from heisenberg_graph import (\n",
    "    HeisenbergModel,\n",
    "    get_n_steps,\n",
    "    get_graph,\n",
    "    get_positions,\n",
    "    get_initial_layout,\n",
    "    get_prob0,\n",
    "    extract_probs,\n",
    ")\n",
    "from qiskit import QuantumCircuit\n",
    "from qiskit.quantum_info.operators import Operator\n",
    "from qiskit.quantum_info import SparsePauliOp, Statevector\n",
    "from qiskit.circuit.library import PauliEvolutionGate\n",
    "from qiskit_ibm_runtime import QiskitRuntimeService, SamplerV2 as Sampler, Batch\n",
    "from qiskit_aer import AerSimulator\n",
    "from qiskit_aer.noise import NoiseModel\n",
    "import mthree\n",
    "import pickle\n",
    "import networkx as nx\n",
    "from datetime import datetime, timezone\n",
    "import json\n",
    "import math"
   ]
  },
  {
   "cell_type": "code",
   "execution_count": 5,
   "metadata": {},
   "outputs": [
    {
     "name": "stdout",
     "output_type": "stream",
     "text": [
      "[1.+0.j 0.+0.j 0.+0.j 0.+0.j 0.+0.j 0.+0.j 0.+0.j 0.+0.j 0.+0.j 0.+0.j\n",
      " 0.+0.j 0.+0.j 0.+0.j 0.+0.j 0.+0.j 0.+0.j 0.+0.j 0.+0.j 0.+0.j 0.+0.j\n",
      " 0.+0.j 0.+0.j 0.+0.j 0.+0.j 0.+0.j 0.+0.j 0.+0.j 0.+0.j 0.+0.j 0.+0.j\n",
      " 0.+0.j 0.+0.j 0.+0.j 0.+0.j 0.+0.j 0.+0.j 0.+0.j 0.+0.j 0.+0.j 0.+0.j\n",
      " 0.+0.j 0.+0.j 0.+0.j 0.+0.j 0.+0.j 0.+0.j 0.+0.j 0.+0.j 0.+0.j 0.+0.j\n",
      " 0.+0.j 0.+0.j 0.+0.j 0.+0.j 0.+0.j 0.+0.j 0.+0.j 0.+0.j 0.+0.j 0.+0.j\n",
      " 0.+0.j 0.+0.j 0.+0.j 0.+0.j]\n",
      "[1.+0.j 0.+0.j 0.+0.j 0.+0.j 0.+0.j 0.+0.j 0.+0.j 0.+0.j 0.+0.j 0.+0.j\n",
      " 0.+0.j 0.+0.j 0.+0.j 0.+0.j 0.+0.j 0.+0.j 0.+0.j 0.+0.j 0.+0.j 0.+0.j\n",
      " 0.+0.j 0.+0.j 0.+0.j 0.+0.j 0.+0.j 0.+0.j 0.+0.j 0.+0.j 0.+0.j 0.+0.j\n",
      " 0.+0.j 0.+0.j 0.+0.j 0.+0.j 0.+0.j 0.+0.j 0.+0.j 0.+0.j 0.+0.j 0.+0.j\n",
      " 0.+0.j 0.+0.j 0.+0.j 0.+0.j 0.+0.j 0.+0.j 0.+0.j 0.+0.j 0.+0.j 0.+0.j\n",
      " 0.+0.j 0.+0.j 0.+0.j 0.+0.j 0.+0.j 0.+0.j 0.+0.j 0.+0.j 0.+0.j 0.+0.j\n",
      " 0.+0.j 0.+0.j 0.+0.j 0.+0.j]\n",
      "True\n"
     ]
    }
   ],
   "source": [
    "n_qubits = 6\n",
    "\n",
    "initial_state = np.zeros(2**n_qubits, dtype=complex)\n",
    "initial_state[0] = 1\n",
    "print(initial_state)\n",
    "\n",
    "initial_state_2 = Statevector.from_label(\"0\" * n_qubits)\n",
    "print(initial_state_2.data)\n",
    "\n",
    "print(np.allclose(initial_state, initial_state_2.data))"
   ]
  },
  {
   "cell_type": "code",
   "execution_count": null,
   "metadata": {},
   "outputs": [
    {
     "name": "stdout",
     "output_type": "stream",
     "text": [
      "Using backend QPU: <IBMBackend('ibm_marrakesh')>\n",
      "Using backend simulator: AerSimulator('aer_simulator')\n",
      "Using backend noisy simulator: AerSimulator('aer_simulator'\n",
      "             noise_model=<NoiseModel on ['measure', 'reset', 'id', 'cz', 'sx', 'x']>)\n"
     ]
    }
   ],
   "source": [
    "# Option1: Use IBM Quantum backend.\n",
    "# If you did not previously save your credentials, use the following line instead:\n",
    "\n",
    "# !!!!!!!!!\n",
    "# DANGER: Do not hardcode your token in your code. Use environment variables instead.\n",
    "service = QiskitRuntimeService(\n",
    "    channel=\"ibm_quantum\",\n",
    "    token=\"YOUR_IBM_QUANTUM_TOKEN\",\n",
    ")\n",
    "# !!!!!!!!!\n",
    "\n",
    "# service = QiskitRuntimeService()\n",
    "# backend_qpu = service.least_busy(simulator=False, interactional=True)\n",
    "backend_qpu = service.backend(\"ibm_marrakesh\")\n",
    "\n",
    "# Option2: Use local AerSimulator as the backend.\n",
    "backend_sim = AerSimulator()\n",
    "\n",
    "noise_model = NoiseModel.from_backend(backend_qpu)\n",
    "backend_sim_noisy = AerSimulator(noise_model=noise_model)\n",
    "\n",
    "print(f\"Using backend QPU: {backend_qpu}\")\n",
    "print(f\"Using backend simulator: {backend_sim}\")\n",
    "print(f\"Using backend noisy simulator: {backend_sim_noisy}\")"
   ]
  },
  {
   "cell_type": "markdown",
   "metadata": {},
   "source": [
    "# データセット作成 $\\exp(-\\beta H)$"
   ]
  },
  {
   "cell_type": "code",
   "execution_count": 7,
   "metadata": {},
   "outputs": [],
   "source": [
    "n_samples = 100\n",
    "n_qubits = 6\n",
    "beta = 1\n",
    "\n",
    "graph_type = \"line\"\n",
    "# ghz_qubits = list(range(n_qubits // 2))\n",
    "# ghz_qubits = list(range(0, n_qubits, 2))\n",
    "# print(f\"GHZ qubits: {ghz_qubits}\")"
   ]
  },
  {
   "cell_type": "markdown",
   "metadata": {},
   "source": [
    "## Create graph (Demo)"
   ]
  },
  {
   "cell_type": "code",
   "execution_count": 8,
   "metadata": {},
   "outputs": [
    {
     "data": {
      "image/png": "[encoded data removed]",
      "text/plain": [
       "<Figure size 1000x300 with 1 Axes>"
      ]
     },
     "metadata": {},
     "output_type": "display_data"
    }
   ],
   "source": [
    "rng = np.random.default_rng(42)\n",
    "G = get_graph(n_qubits, rng, graph_type)\n",
    "\n",
    "positions = get_positions(n_qubits, graph_type)\n",
    "\n",
    "# エッジラベルを作成\n",
    "edge_J_labels = {edge: f\"{G.edges[edge]['J']:.2g}\" for edge in G.edges}\n",
    "edge_cnot_order_labels = {edge: f\"{G.edges[edge]['cnot']['order']}\" for edge in G.edges}\n",
    "\n",
    "# グラフを描画\n",
    "plt.figure(figsize=(10, 3))\n",
    "nx.draw(\n",
    "    G,\n",
    "    pos=positions,\n",
    "    with_labels=True,\n",
    "    node_color=[\"red\" if G.nodes[node][\"hadamard\"] else \"black\" for node in G.nodes],\n",
    "    node_size=300,\n",
    "    edge_color=\"gray\",\n",
    "    font_color=\"white\",\n",
    "    font_size=10,\n",
    ")\n",
    "\n",
    "# エッジの重みを描画\n",
    "nx.draw_networkx_edge_labels(\n",
    "    G,\n",
    "    pos=positions,\n",
    "    edge_labels=edge_J_labels,\n",
    "    font_size=10,\n",
    "    font_color=\"black\",\n",
    "    label_pos=0.6,\n",
    "    verticalalignment=\"top\",\n",
    ")\n",
    "\n",
    "# エッジの 'cnot' 'order' 属性を描画\n",
    "nx.draw_networkx_edge_labels(\n",
    "    G,\n",
    "    pos=positions,\n",
    "    edge_labels=edge_cnot_order_labels,\n",
    "    font_size=10,\n",
    "    font_color=\"green\",\n",
    "    label_pos=0.8,\n",
    "    verticalalignment=\"bottom\",\n",
    ")\n",
    "\n",
    "plt.show()"
   ]
  },
  {
   "cell_type": "code",
   "execution_count": 9,
   "metadata": {},
   "outputs": [],
   "source": [
    "# State |111000> (half 1 and half 0 state) (can be adjusted for other sizes)\n",
    "# index = \"1\" * (n_qubits // 2) + \"0\" * (n_qubits // 2)\n",
    "# print(f\"binary index: {index}\")\n",
    "\n",
    "# state = Statevector.from_label(index)\n",
    "# print(f\"index: {int(index, 2)}\")\n",
    "# print(state[int(index, 2)])"
   ]
  },
  {
   "cell_type": "code",
   "execution_count": 10,
   "metadata": {},
   "outputs": [
    {
     "name": "stdout",
     "output_type": "stream",
     "text": [
      "binary index: 011100\n",
      "decimal: 28\n",
      "(1+0j)\n"
     ]
    }
   ],
   "source": [
    "# State |0011...1100> (center qubits are 1 and the rest are 0)\n",
    "leftmost = n_qubits // 4\n",
    "rightmost = leftmost + n_qubits // 2 - 1\n",
    "index = []\n",
    "for i in range(n_qubits):\n",
    "    if leftmost <= i <= rightmost:\n",
    "        index.append(\"1\")\n",
    "    else:\n",
    "        index.append(\"0\")\n",
    "\n",
    "index = \"\".join(index)\n",
    "print(f\"binary index: {index}\")\n",
    "state = Statevector.from_label(index)\n",
    "\n",
    "print(f\"decimal: {int(index, 2)}\")\n",
    "print(state[int(index, 2)])"
   ]
  },
  {
   "cell_type": "markdown",
   "metadata": {},
   "source": [
    "## Non Trotter simulation (directly compute the expectation value)"
   ]
  },
  {
   "cell_type": "code",
   "execution_count": 11,
   "metadata": {},
   "outputs": [],
   "source": [
    "hamiltonian = HeisenbergModel(n_qubits, G)\n",
    "H = hamiltonian.H"
   ]
  },
  {
   "cell_type": "code",
   "execution_count": 12,
   "metadata": {},
   "outputs": [
    {
     "name": "stdout",
     "output_type": "stream",
     "text": [
      "True\n"
     ]
    }
   ],
   "source": [
    "H_dense = Operator(H).reverse_qargs().to_matrix()\n",
    "U_dense = scipy.linalg.expm(-beta * H_dense)\n",
    "H_sparse = Operator(H).reverse_qargs().to_matrix()\n",
    "H_sparse = scipy.sparse.csc_matrix(H_sparse)\n",
    "U_sparse = scipy.sparse.linalg.expm(-beta * H_sparse).toarray()\n",
    "\n",
    "print(np.allclose(U_dense, U_sparse))"
   ]
  },
  {
   "cell_type": "code",
   "execution_count": 13,
   "metadata": {},
   "outputs": [
    {
     "name": "stdout",
     "output_type": "stream",
     "text": [
      "Sample 0/100\n",
      "Sample 1/100\n",
      "Sample 2/100\n",
      "Sample 3/100\n",
      "Sample 4/100\n",
      "Sample 5/100\n",
      "Sample 6/100\n"
     ]
    },
    {
     "name": "stderr",
     "output_type": "stream",
     "text": [
      "/opt/conda/lib/python3.11/site-packages/scipy/sparse/linalg/_dsolve/linsolve.py:412: SparseEfficiencyWarning: splu converted its input to CSC format\n",
      "  warn('splu converted its input to CSC format', SparseEfficiencyWarning)\n",
      "/opt/conda/lib/python3.11/site-packages/scipy/sparse/linalg/_dsolve/linsolve.py:302: SparseEfficiencyWarning: spsolve is more efficient when sparse b is in the CSC matrix format\n",
      "  warn('spsolve is more efficient when sparse b '\n"
     ]
    },
    {
     "name": "stdout",
     "output_type": "stream",
     "text": [
      "Sample 7/100\n",
      "Sample 8/100\n",
      "Sample 9/100\n",
      "Sample 10/100\n",
      "Sample 11/100\n",
      "Sample 12/100\n",
      "Sample 13/100\n",
      "Sample 14/100\n",
      "Sample 15/100\n",
      "Sample 16/100\n",
      "Sample 17/100\n",
      "Sample 18/100\n",
      "Sample 19/100\n",
      "Sample 20/100\n",
      "Sample 21/100\n",
      "Sample 22/100\n",
      "Sample 23/100\n",
      "Sample 24/100\n",
      "Sample 25/100\n",
      "Sample 26/100\n",
      "Sample 27/100\n",
      "Sample 28/100\n",
      "Sample 29/100\n",
      "Sample 30/100\n",
      "Sample 31/100\n",
      "Sample 32/100\n",
      "Sample 33/100\n",
      "Sample 34/100\n",
      "Sample 35/100\n",
      "Sample 36/100\n",
      "Sample 37/100\n",
      "Sample 38/100\n",
      "Sample 39/100\n",
      "Sample 40/100\n",
      "Sample 41/100\n",
      "Sample 42/100\n",
      "Sample 43/100\n",
      "Sample 44/100\n",
      "Sample 45/100\n",
      "Sample 46/100\n",
      "Sample 47/100\n",
      "Sample 48/100\n",
      "Sample 49/100\n",
      "Sample 50/100\n",
      "Sample 51/100\n",
      "Sample 52/100\n",
      "Sample 53/100\n",
      "Sample 54/100\n",
      "Sample 55/100\n",
      "Sample 56/100\n",
      "Sample 57/100\n",
      "Sample 58/100\n",
      "Sample 59/100\n",
      "Sample 60/100\n",
      "Sample 61/100\n",
      "Sample 62/100\n",
      "Sample 63/100\n",
      "Sample 64/100\n",
      "Sample 65/100\n",
      "Sample 66/100\n",
      "Sample 67/100\n",
      "Sample 68/100\n",
      "Sample 69/100\n",
      "Sample 70/100\n",
      "Sample 71/100\n",
      "Sample 72/100\n",
      "Sample 73/100\n",
      "Sample 74/100\n",
      "Sample 75/100\n",
      "Sample 76/100\n",
      "Sample 77/100\n",
      "Sample 78/100\n",
      "Sample 79/100\n",
      "Sample 80/100\n",
      "Sample 81/100\n",
      "Sample 82/100\n",
      "Sample 83/100\n",
      "Sample 84/100\n",
      "Sample 85/100\n",
      "Sample 86/100\n",
      "Sample 87/100\n",
      "Sample 88/100\n",
      "Sample 89/100\n",
      "Sample 90/100\n",
      "Sample 91/100\n",
      "Sample 92/100\n",
      "Sample 93/100\n",
      "Sample 94/100\n",
      "Sample 95/100\n",
      "Sample 96/100\n",
      "Sample 97/100\n",
      "Sample 98/100\n",
      "Sample 99/100\n"
     ]
    },
    {
     "data": {
      "text/html": [
       "<div>\n",
       "<style scoped>\n",
       "    .dataframe tbody tr th:only-of-type {\n",
       "        vertical-align: middle;\n",
       "    }\n",
       "\n",
       "    .dataframe tbody tr th {\n",
       "        vertical-align: top;\n",
       "    }\n",
       "\n",
       "    .dataframe thead th {\n",
       "        text-align: right;\n",
       "    }\n",
       "</style>\n",
       "<table border=\"1\" class=\"dataframe\">\n",
       "  <thead>\n",
       "    <tr style=\"text-align: right;\">\n",
       "      <th></th>\n",
       "      <th>Js</th>\n",
       "      <th>expected_value</th>\n",
       "    </tr>\n",
       "  </thead>\n",
       "  <tbody>\n",
       "    <tr>\n",
       "      <th>0</th>\n",
       "      <td>[0.5479120971119267, -0.12224312049589536, 0.7...</td>\n",
       "      <td>7.391106</td>\n",
       "    </tr>\n",
       "    <tr>\n",
       "      <th>1</th>\n",
       "      <td>[0.9512447032735118, 0.5222794039807059, 0.572...</td>\n",
       "      <td>7.380861</td>\n",
       "    </tr>\n",
       "    <tr>\n",
       "      <th>2</th>\n",
       "      <td>[-0.25840395153483753, 0.8535299776972036, 0.2...</td>\n",
       "      <td>1.560675</td>\n",
       "    </tr>\n",
       "    <tr>\n",
       "      <th>3</th>\n",
       "      <td>[-0.5455225564304462, 0.1091695740316696, -0.8...</td>\n",
       "      <td>5.663484</td>\n",
       "    </tr>\n",
       "    <tr>\n",
       "      <th>4</th>\n",
       "      <td>[0.5161754801707477, -0.2909480637402633, 0.94...</td>\n",
       "      <td>16.957718</td>\n",
       "    </tr>\n",
       "    <tr>\n",
       "      <th>...</th>\n",
       "      <td>...</td>\n",
       "      <td>...</td>\n",
       "    </tr>\n",
       "    <tr>\n",
       "      <th>95</th>\n",
       "      <td>[-0.3905907924783374, -0.14419357263730004, 0....</td>\n",
       "      <td>1.463780</td>\n",
       "    </tr>\n",
       "    <tr>\n",
       "      <th>96</th>\n",
       "      <td>[-0.18243378114260578, -0.564742946606076, 0.1...</td>\n",
       "      <td>2.774891</td>\n",
       "    </tr>\n",
       "    <tr>\n",
       "      <th>97</th>\n",
       "      <td>[-0.16319991168627923, -0.05173464981965936, -...</td>\n",
       "      <td>1.709296</td>\n",
       "    </tr>\n",
       "    <tr>\n",
       "      <th>98</th>\n",
       "      <td>[0.40400436222074276, 0.2958969644024201, 0.30...</td>\n",
       "      <td>0.794244</td>\n",
       "    </tr>\n",
       "    <tr>\n",
       "      <th>99</th>\n",
       "      <td>[0.09828876719935886, -0.13716360964021979, 0....</td>\n",
       "      <td>0.885356</td>\n",
       "    </tr>\n",
       "  </tbody>\n",
       "</table>\n",
       "<p>100 rows × 2 columns</p>\n",
       "</div>"
      ],
      "text/plain": [
       "                                                   Js  expected_value\n",
       "0   [0.5479120971119267, -0.12224312049589536, 0.7...        7.391106\n",
       "1   [0.9512447032735118, 0.5222794039807059, 0.572...        7.380861\n",
       "2   [-0.25840395153483753, 0.8535299776972036, 0.2...        1.560675\n",
       "3   [-0.5455225564304462, 0.1091695740316696, -0.8...        5.663484\n",
       "4   [0.5161754801707477, -0.2909480637402633, 0.94...       16.957718\n",
       "..                                                ...             ...\n",
       "95  [-0.3905907924783374, -0.14419357263730004, 0....        1.463780\n",
       "96  [-0.18243378114260578, -0.564742946606076, 0.1...        2.774891\n",
       "97  [-0.16319991168627923, -0.05173464981965936, -...        1.709296\n",
       "98  [0.40400436222074276, 0.2958969644024201, 0.30...        0.794244\n",
       "99  [0.09828876719935886, -0.13716360964021979, 0....        0.885356\n",
       "\n",
       "[100 rows x 2 columns]"
      ]
     },
     "execution_count": 13,
     "metadata": {},
     "output_type": "execute_result"
    }
   ],
   "source": [
    "data = []\n",
    "graphs = []\n",
    "rng = np.random.default_rng(42)\n",
    "\n",
    "for i in range(n_samples):\n",
    "    print(f\"Sample {i}/{n_samples}\")\n",
    "    G = get_graph(n_qubits, rng, graph_type)\n",
    "    Js = [G.edges[edge][\"J\"] for edge in G.edges]\n",
    "    heisenberg = HeisenbergModel(n_qubits, G)\n",
    "\n",
    "    H = heisenberg.H\n",
    "    # H = H.to_matrix(sparse=True)\n",
    "    H = Operator(H).reverse_qargs().to_matrix()\n",
    "    H = scipy.sparse.csr_matrix(H)\n",
    "\n",
    "    fH = scipy.sparse.linalg.expm(-beta * H)\n",
    "    # Compute the expectation value <state|exp(-beta*H)|state>\n",
    "    y = np.vdot(state, fH @ state).real\n",
    "\n",
    "    data.append({\"Js\": Js, \"expected_value\": y})\n",
    "    graphs.append(G)\n",
    "\n",
    "df = pd.DataFrame(data)\n",
    "df"
   ]
  },
  {
   "cell_type": "markdown",
   "metadata": {},
   "source": [
    "## Pre-process data"
   ]
  },
  {
   "cell_type": "code",
   "execution_count": 14,
   "metadata": {},
   "outputs": [
    {
     "data": {
      "text/plain": [
       "count    100.000000\n",
       "mean       7.831787\n",
       "std       15.304763\n",
       "min        0.238580\n",
       "25%        1.503144\n",
       "50%        3.079344\n",
       "75%        7.383422\n",
       "max      124.721404\n",
       "Name: expected_value, dtype: float64"
      ]
     },
     "execution_count": 14,
     "metadata": {},
     "output_type": "execute_result"
    }
   ],
   "source": [
    "df[\"expected_value\"].describe()"
   ]
  },
  {
   "cell_type": "code",
   "execution_count": 15,
   "metadata": {},
   "outputs": [
    {
     "name": "stdout",
     "output_type": "stream",
     "text": [
      "Outliers: Index([4, 9, 20, 27, 30, 34, 37, 38, 43, 45, 58, 59, 66, 69, 72, 77, 78, 81,\n",
      "       82, 86],\n",
      "      dtype='int64')\n"
     ]
    }
   ],
   "source": [
    "# Query the 80% quantile\n",
    "q = df[\"expected_value\"].quantile(0.8)\n",
    "filtered_index = df.query(f\"expected_value < @q\").index\n",
    "diffrence = df.index.difference(filtered_index)\n",
    "print(f\"Outliers: {diffrence}\")\n",
    "\n",
    "# Remove outliers\n",
    "df = df.drop(diffrence).reset_index(drop=True)\n",
    "graphs = [graph for i, graph in enumerate(graphs) if i not in diffrence]"
   ]
  },
  {
   "cell_type": "code",
   "execution_count": 16,
   "metadata": {},
   "outputs": [
    {
     "data": {
      "text/html": [
       "<div>\n",
       "<style scoped>\n",
       "    .dataframe tbody tr th:only-of-type {\n",
       "        vertical-align: middle;\n",
       "    }\n",
       "\n",
       "    .dataframe tbody tr th {\n",
       "        vertical-align: top;\n",
       "    }\n",
       "\n",
       "    .dataframe thead th {\n",
       "        text-align: right;\n",
       "    }\n",
       "</style>\n",
       "<table border=\"1\" class=\"dataframe\">\n",
       "  <thead>\n",
       "    <tr style=\"text-align: right;\">\n",
       "      <th></th>\n",
       "      <th>Js</th>\n",
       "      <th>expected_value</th>\n",
       "    </tr>\n",
       "  </thead>\n",
       "  <tbody>\n",
       "    <tr>\n",
       "      <th>0</th>\n",
       "      <td>[0.5479120971119267, -0.12224312049589536, 0.7...</td>\n",
       "      <td>7.391106</td>\n",
       "    </tr>\n",
       "    <tr>\n",
       "      <th>1</th>\n",
       "      <td>[0.9512447032735118, 0.5222794039807059, 0.572...</td>\n",
       "      <td>7.380861</td>\n",
       "    </tr>\n",
       "    <tr>\n",
       "      <th>2</th>\n",
       "      <td>[-0.25840395153483753, 0.8535299776972036, 0.2...</td>\n",
       "      <td>1.560675</td>\n",
       "    </tr>\n",
       "    <tr>\n",
       "      <th>3</th>\n",
       "      <td>[-0.5455225564304462, 0.1091695740316696, -0.8...</td>\n",
       "      <td>5.663484</td>\n",
       "    </tr>\n",
       "    <tr>\n",
       "      <th>4</th>\n",
       "      <td>[-0.6107225842960649, -0.06655799254593164, -0...</td>\n",
       "      <td>1.889904</td>\n",
       "    </tr>\n",
       "    <tr>\n",
       "      <th>...</th>\n",
       "      <td>...</td>\n",
       "      <td>...</td>\n",
       "    </tr>\n",
       "    <tr>\n",
       "      <th>75</th>\n",
       "      <td>[-0.3905907924783374, -0.14419357263730004, 0....</td>\n",
       "      <td>1.463780</td>\n",
       "    </tr>\n",
       "    <tr>\n",
       "      <th>76</th>\n",
       "      <td>[-0.18243378114260578, -0.564742946606076, 0.1...</td>\n",
       "      <td>2.774891</td>\n",
       "    </tr>\n",
       "    <tr>\n",
       "      <th>77</th>\n",
       "      <td>[-0.16319991168627923, -0.05173464981965936, -...</td>\n",
       "      <td>1.709296</td>\n",
       "    </tr>\n",
       "    <tr>\n",
       "      <th>78</th>\n",
       "      <td>[0.40400436222074276, 0.2958969644024201, 0.30...</td>\n",
       "      <td>0.794244</td>\n",
       "    </tr>\n",
       "    <tr>\n",
       "      <th>79</th>\n",
       "      <td>[0.09828876719935886, -0.13716360964021979, 0....</td>\n",
       "      <td>0.885356</td>\n",
       "    </tr>\n",
       "  </tbody>\n",
       "</table>\n",
       "<p>80 rows × 2 columns</p>\n",
       "</div>"
      ],
      "text/plain": [
       "                                                   Js  expected_value\n",
       "0   [0.5479120971119267, -0.12224312049589536, 0.7...        7.391106\n",
       "1   [0.9512447032735118, 0.5222794039807059, 0.572...        7.380861\n",
       "2   [-0.25840395153483753, 0.8535299776972036, 0.2...        1.560675\n",
       "3   [-0.5455225564304462, 0.1091695740316696, -0.8...        5.663484\n",
       "4   [-0.6107225842960649, -0.06655799254593164, -0...        1.889904\n",
       "..                                                ...             ...\n",
       "75  [-0.3905907924783374, -0.14419357263730004, 0....        1.463780\n",
       "76  [-0.18243378114260578, -0.564742946606076, 0.1...        2.774891\n",
       "77  [-0.16319991168627923, -0.05173464981965936, -...        1.709296\n",
       "78  [0.40400436222074276, 0.2958969644024201, 0.30...        0.794244\n",
       "79  [0.09828876719935886, -0.13716360964021979, 0....        0.885356\n",
       "\n",
       "[80 rows x 2 columns]"
      ]
     },
     "metadata": {},
     "output_type": "display_data"
    },
    {
     "name": "stdout",
     "output_type": "stream",
     "text": [
      "Number of samples: 80\n"
     ]
    },
    {
     "data": {
      "text/plain": [
       "count    80.000000\n",
       "mean      3.011704\n",
       "std       2.358223\n",
       "min       0.238580\n",
       "25%       1.250583\n",
       "50%       2.110908\n",
       "75%       4.407075\n",
       "max       9.245448\n",
       "Name: expected_value, dtype: float64"
      ]
     },
     "execution_count": 16,
     "metadata": {},
     "output_type": "execute_result"
    }
   ],
   "source": [
    "display(df)\n",
    "\n",
    "n_samples = len(df)\n",
    "print(f\"Number of samples: {n_samples}\")\n",
    "df[\"expected_value\"].describe()"
   ]
  },
  {
   "cell_type": "markdown",
   "metadata": {},
   "source": [
    "## Check eigvals and Configure params"
   ]
  },
  {
   "cell_type": "code",
   "execution_count": 17,
   "metadata": {},
   "outputs": [],
   "source": [
    "# Plot histogram of eigenvalues\n",
    "# print(f\"Number of samples: {n_samples}\")\n",
    "# eigvals_array = np.array(eigvals_list).flatten()\n",
    "# plt.hist(eigvals_array, bins=50)\n",
    "# plt.xlabel(\"Eigenvalues\")\n",
    "# plt.ylabel(\"Frequency\")\n",
    "# plt.title(\"Eigenvalues of Hamiltonian\")\n",
    "# plt.show()"
   ]
  },
  {
   "cell_type": "code",
   "execution_count": 18,
   "metadata": {},
   "outputs": [
    {
     "name": "stdout",
     "output_type": "stream",
     "text": [
      "C: 60\n",
      "times: [0.0, 0.05235987755982988, 0.10471975511965977, 0.15707963267948966, 0.20943951023931953]\n"
     ]
    }
   ],
   "source": [
    "n_features = 5  # Number of Fourier features\n",
    "\n",
    "# Parameters for the Fourier feature generation\n",
    "# For shifted Hamiltonian\n",
    "# C = 20 * n_qubits  # upper bound for eigenvalues (WHY?)\n",
    "# times = [2 * np.pi * k / C for k in range(n_features)]\n",
    "\n",
    "# For unshifted Hamiltonian\n",
    "C = 10 * n_qubits  # upper bound for eigenvalues\n",
    "times = [np.pi * k / C for k in range(n_features)]\n",
    "\n",
    "# C = max(matrix_norms)  # upper bound for eigenvalues\n",
    "print(f\"C: {C}\")\n",
    "# print(f\"max matrix norm: {max(matrix_norms)}\")  # For debugging\n",
    "print(f\"times: {times}\")"
   ]
  },
  {
   "cell_type": "code",
   "execution_count": 19,
   "metadata": {},
   "outputs": [
    {
     "name": "stdout",
     "output_type": "stream",
     "text": [
      "/home/jovyan/fourier_learning_ibm\n"
     ]
    }
   ],
   "source": [
    "# Only for CP1\n",
    "%cd fourier_learning_ibm/"
   ]
  },
  {
   "cell_type": "code",
   "execution_count": 20,
   "metadata": {},
   "outputs": [
    {
     "name": "stdout",
     "output_type": "stream",
     "text": [
      "Note: This CURRENT_TIME is used for other notebooks.\n",
      "CURRENT_TIME: 2024-12-01T06:22Z\n",
      "Saving data to ./data/2024-12-01T06:22Z\n"
     ]
    }
   ],
   "source": [
    "CURRENT_TIME = (\n",
    "    datetime.now(timezone.utc).isoformat(timespec=\"minutes\").replace(\"+00:00\", \"Z\")\n",
    ")\n",
    "\n",
    "path = f\"./data/{CURRENT_TIME}\"\n",
    "# path = f\"./data/{current_time}/{n_qubits}_{backend_qpu.name}_{graph_type}\"\n",
    "os.makedirs(path, exist_ok=True)\n",
    "print(\"Note: This CURRENT_TIME is used for other notebooks.\")\n",
    "print(f\"CURRENT_TIME: {CURRENT_TIME}\")\n",
    "print(f\"Saving data to {path}\")"
   ]
  },
  {
   "cell_type": "code",
   "execution_count": 21,
   "metadata": {},
   "outputs": [],
   "source": [
    "# Save parameters\n",
    "\n",
    "# Save the graphs as a binary file\n",
    "with open(f\"{path}/params_object.pkl\", \"wb\") as f:\n",
    "    pickle.dump(\n",
    "        {\n",
    "            \"graphs\": graphs,\n",
    "            \"Js\": df[\"Js\"].values,\n",
    "            \"expected_values\": df[\"expected_value\"].values,\n",
    "        },\n",
    "        f,\n",
    "    )\n",
    "\n",
    "# Save the parameters as a JSON file\n",
    "with open(f\"{path}/params_text.json\", \"w\") as f:\n",
    "    json.dump(\n",
    "        {\n",
    "            \"n_samples\": n_samples,\n",
    "            \"n_qubits\": n_qubits,\n",
    "            \"graph_type\": graph_type,\n",
    "            \"backend_qpu_name\": backend_qpu.name,\n",
    "            \"beta\": beta,\n",
    "            \"C\": C,\n",
    "            \"n_features\": n_features,\n",
    "            \"times\": times,\n",
    "        },\n",
    "        f,\n",
    "    )"
   ]
  },
  {
   "cell_type": "code",
   "execution_count": null,
   "metadata": {},
   "outputs": [],
   "source": []
  }
 ],
 "metadata": {
  "kernelspec": {
   "display_name": "Python 3 (ipykernel)",
   "language": "python",
   "name": "python3"
  },
  "language_info": {
   "codemirror_mode": {
    "name": "ipython",
    "version": 3
   },
   "file_extension": ".py",
   "mimetype": "text/x-python",
   "name": "python",
   "nbconvert_exporter": "python",
   "pygments_lexer": "ipython3",
   "version": "3.11.6"
  }
 },
 "nbformat": 4,
 "nbformat_minor": 2
}
