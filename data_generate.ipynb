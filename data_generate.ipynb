{
 "cells": [
  {
   "cell_type": "markdown",
   "metadata": {},
   "source": [
    "# ToDo: \n",
    "+ ~~期待値がほぼ 0 になっている理由を探す。回避できるようなら回避~~\n",
    "+ ~~C = 3 * n_qubits の理由~~ (特に理由はない？)\n",
    "+ ~~QPU のばらつき改善~~\n",
    "+ ~~2 次のトロッターにしてみる~~\n",
    "+ ~~GHZ を中心に寄せる。このままだと不要な Trotter gate があるので。~~\n",
    "+ 不要な interaction を削除"
   ]
  },
  {
   "cell_type": "markdown",
   "metadata": {},
   "source": [
    "## わかったこと\n",
    "+ ハミルトニアンをシフトさせなければ成功\n",
    "+ times = [2 * np.pi * k / C for k in range(n_features)] は失敗\n",
    "+ times = [np.pi * k / C for k in range(n_features)] は成功"
   ]
  },
  {
   "cell_type": "code",
   "execution_count": 1,
   "metadata": {},
   "outputs": [
    {
     "name": "stdout",
     "output_type": "stream",
     "text": [
      "Note: you may need to restart the kernel to use updated packages.\n"
     ]
    }
   ],
   "source": [
    "%matplotlib inline\n",
    "%pip freeze > requirements.txt\n",
    "%load_ext autoreload\n",
    "%autoreload 2"
   ]
  },
  {
   "cell_type": "code",
   "execution_count": 2,
   "metadata": {},
   "outputs": [
    {
     "name": "stdout",
     "output_type": "stream",
     "text": [
      "['/home/jovyan',\n",
      " '/opt/conda/lib/python311.zip',\n",
      " '/opt/conda/lib/python3.11',\n",
      " '/opt/conda/lib/python3.11/lib-dynload',\n",
      " '',\n",
      " '/opt/conda/lib/python3.11/site-packages',\n",
      " '/home/jovyan/fourier_learning_ibm/']\n"
     ]
    }
   ],
   "source": [
    "# Add the fourier_learning_ibm package to the path\n",
    "import sys, pprint\n",
    "\n",
    "sys.path.append(\"/home/jovyan/fourier_learning_ibm/\")\n",
    "pprint.pprint(sys.path)"
   ]
  },
  {
   "cell_type": "code",
   "execution_count": 3,
   "metadata": {},
   "outputs": [],
   "source": [
    "import numpy as np\n",
    "import scipy\n",
    "import matplotlib.pyplot as plt\n",
    "import pandas as pd\n",
    "import os\n",
    "from heisenberg_graph import (\n",
    "    HeisenbergModel,\n",
    "    get_n_steps,\n",
    "    get_graph,\n",
    "    get_positions,\n",
    "    get_initial_layout,\n",
    "    get_prob0,\n",
    "    extract_probs,\n",
    ")\n",
    "from qiskit import QuantumCircuit\n",
    "from qiskit.quantum_info.operators import Operator\n",
    "from qiskit.quantum_info import SparsePauliOp, Statevector\n",
    "from qiskit.circuit.library import PauliEvolutionGate\n",
    "from qiskit_ibm_runtime import QiskitRuntimeService, SamplerV2 as Sampler, Batch\n",
    "from qiskit_aer import AerSimulator\n",
    "from qiskit_aer.noise import NoiseModel\n",
    "import mthree\n",
    "import pickle\n",
    "import networkx as nx\n",
    "from datetime import datetime, timezone\n",
    "import json\n",
    "import math"
   ]
  },
  {
   "cell_type": "code",
   "execution_count": 4,
   "metadata": {},
   "outputs": [],
   "source": [
    "# Set up the Qiskit Runtime service (this is an one-time setup)\n",
    "# QiskitRuntimeService.save_account(\n",
    "#     token=\"YOUR_API_TOKEN\",\n",
    "#     channel=\"ibm_quantum\",\n",
    "# )"
   ]
  },
  {
   "cell_type": "code",
   "execution_count": 5,
   "metadata": {},
   "outputs": [
    {
     "name": "stdout",
     "output_type": "stream",
     "text": [
      "Using backend QPU: <IBMBackend('ibm_marrakesh')>\n",
      "Using backend simulator: AerSimulator('aer_simulator')\n",
      "Using backend noisy simulator: AerSimulator('aer_simulator'\n",
      "             noise_model=<NoiseModel on ['id', 'sx', 'measure', 'cz', 'x', 'reset']>)\n"
     ]
    }
   ],
   "source": [
    "# Option1: Use IBM Quantum backend.\n",
    "# Load saved credentials\n",
    "service = QiskitRuntimeService()\n",
    "# backend_qpu = service.least_busy(simulator=False, interactional=True)\n",
    "backend_qpu = service.backend(\"ibm_marrakesh\")\n",
    "\n",
    "# Option2: Use local AerSimulator as the backend.\n",
    "backend_sim = AerSimulator()\n",
    "\n",
    "noise_model = NoiseModel.from_backend(backend_qpu)\n",
    "backend_sim_noisy = AerSimulator(noise_model=noise_model)\n",
    "\n",
    "print(f\"Using backend QPU: {backend_qpu}\")\n",
    "print(f\"Using backend simulator: {backend_sim}\")\n",
    "print(f\"Using backend noisy simulator: {backend_sim_noisy}\")"
   ]
  },
  {
   "cell_type": "markdown",
   "metadata": {},
   "source": [
    "# データセット作成 $f(H) = e^{-\\beta H}$"
   ]
  },
  {
   "cell_type": "code",
   "execution_count": 6,
   "metadata": {},
   "outputs": [],
   "source": [
    "n_samples = 70\n",
    "n_qubits = 12\n",
    "beta = 1\n",
    "\n",
    "graph_type = \"line\"\n",
    "# ghz_qubits = list(range(n_qubits // 2))\n",
    "# ghz_qubits = list(range(0, n_qubits, 2))\n",
    "# print(f\"GHZ qubits: {ghz_qubits}\")"
   ]
  },
  {
   "cell_type": "markdown",
   "metadata": {},
   "source": [
    "## Create graph (Demo)"
   ]
  },
  {
   "cell_type": "code",
   "execution_count": 7,
   "metadata": {},
   "outputs": [
    {
     "data": {
      "image/png": "[encoded data removed]",
      "text/plain": [
       "<Figure size 1000x300 with 1 Axes>"
      ]
     },
     "metadata": {},
     "output_type": "display_data"
    }
   ],
   "source": [
    "rng = np.random.default_rng(42)\n",
    "G = get_graph(n_qubits, rng, graph_type)\n",
    "\n",
    "positions = get_positions(n_qubits, graph_type)\n",
    "\n",
    "# エッジラベルを作成\n",
    "edge_J_labels = {edge: f\"{G.edges[edge]['J']:.2g}\" for edge in G.edges}\n",
    "edge_cnot_order_labels = {edge: f\"{G.edges[edge]['cnot']['order']}\" for edge in G.edges}\n",
    "\n",
    "# グラフを描画\n",
    "plt.figure(figsize=(10, 3))\n",
    "nx.draw(\n",
    "    G,\n",
    "    pos=positions,\n",
    "    with_labels=True,\n",
    "    node_color=[\"red\" if G.nodes[node][\"hadamard\"] else \"black\" for node in G.nodes],\n",
    "    node_size=300,\n",
    "    edge_color=\"gray\",\n",
    "    font_color=\"white\",\n",
    "    font_size=10,\n",
    ")\n",
    "\n",
    "# エッジの重みを描画\n",
    "nx.draw_networkx_edge_labels(\n",
    "    G,\n",
    "    pos=positions,\n",
    "    edge_labels=edge_J_labels,\n",
    "    font_size=10,\n",
    "    font_color=\"black\",\n",
    "    label_pos=0.6,\n",
    "    verticalalignment=\"top\",\n",
    ")\n",
    "\n",
    "# エッジの 'cnot' 'order' 属性を描画\n",
    "nx.draw_networkx_edge_labels(\n",
    "    G,\n",
    "    pos=positions,\n",
    "    edge_labels=edge_cnot_order_labels,\n",
    "    font_size=10,\n",
    "    font_color=\"green\",\n",
    "    label_pos=0.8,\n",
    "    verticalalignment=\"bottom\",\n",
    ")\n",
    "\n",
    "plt.show()"
   ]
  },
  {
   "cell_type": "code",
   "execution_count": 8,
   "metadata": {},
   "outputs": [
    {
     "name": "stdout",
     "output_type": "stream",
     "text": [
      "binary index: 000111111000\n",
      "decimal: 504\n",
      "(1+0j)\n"
     ]
    }
   ],
   "source": [
    "# State |0011...1100> (center qubits are 1 and the rest are 0)\n",
    "leftmost = n_qubits // 4\n",
    "rightmost = leftmost + n_qubits // 2 - 1\n",
    "index = []\n",
    "for i in range(n_qubits):\n",
    "    if leftmost <= i <= rightmost:\n",
    "        index.append(\"1\")\n",
    "    else:\n",
    "        index.append(\"0\")\n",
    "\n",
    "index = \"\".join(index)\n",
    "print(f\"binary index: {index}\")\n",
    "state = Statevector.from_label(index)\n",
    "\n",
    "print(f\"decimal: {int(index, 2)}\")\n",
    "print(state[int(index, 2)])"
   ]
  },
  {
   "cell_type": "markdown",
   "metadata": {},
   "source": [
    "## Non Trotter simulation (directly compute the expectation value)"
   ]
  },
  {
   "cell_type": "code",
   "execution_count": 9,
   "metadata": {},
   "outputs": [
    {
     "name": "stdout",
     "output_type": "stream",
     "text": [
      "Sample 0/70\n"
     ]
    },
    {
     "name": "stderr",
     "output_type": "stream",
     "text": [
      "/opt/conda/lib/python3.11/site-packages/scipy/sparse/linalg/_eigen/_svds.py:487: UserWarning: Exited at iteration 20 with accuracies \n",
      "[0.00021235]\n",
      "not reaching the requested tolerance 6.103515625e-05.\n",
      "Use iteration 19 instead with accuracy \n",
      "0.00015738486464079673.\n",
      "\n",
      "  _, eigvec = lobpcg(XH_X, X, tol=tol ** 2, maxiter=maxiter,\n",
      "/opt/conda/lib/python3.11/site-packages/scipy/sparse/linalg/_eigen/_svds.py:487: UserWarning: Exited postprocessing with accuracies \n",
      "[0.00015738]\n",
      "not reaching the requested tolerance 6.103515625e-05.\n",
      "  _, eigvec = lobpcg(XH_X, X, tol=tol ** 2, maxiter=maxiter,\n",
      "/opt/conda/lib/python3.11/site-packages/scipy/sparse/linalg/_dsolve/linsolve.py:412: SparseEfficiencyWarning: splu converted its input to CSC format\n",
      "  warn('splu converted its input to CSC format', SparseEfficiencyWarning)\n",
      "/opt/conda/lib/python3.11/site-packages/scipy/sparse/linalg/_dsolve/linsolve.py:302: SparseEfficiencyWarning: spsolve is more efficient when sparse b is in the CSC matrix format\n",
      "  warn('spsolve is more efficient when sparse b '\n"
     ]
    },
    {
     "name": "stdout",
     "output_type": "stream",
     "text": [
      "Sample 1/70\n",
      "Sample 2/70\n"
     ]
    },
    {
     "name": "stderr",
     "output_type": "stream",
     "text": [
      "/opt/conda/lib/python3.11/site-packages/scipy/sparse/linalg/_eigen/_svds.py:487: UserWarning: Exited at iteration 20 with accuracies \n",
      "[0.00029379]\n",
      "not reaching the requested tolerance 6.103515625e-05.\n",
      "Use iteration 21 instead with accuracy \n",
      "0.0002937935630508067.\n",
      "\n",
      "  _, eigvec = lobpcg(XH_X, X, tol=tol ** 2, maxiter=maxiter,\n",
      "/opt/conda/lib/python3.11/site-packages/scipy/sparse/linalg/_eigen/_svds.py:487: UserWarning: Exited postprocessing with accuracies \n",
      "[0.00029379]\n",
      "not reaching the requested tolerance 6.103515625e-05.\n",
      "  _, eigvec = lobpcg(XH_X, X, tol=tol ** 2, maxiter=maxiter,\n"
     ]
    },
    {
     "name": "stdout",
     "output_type": "stream",
     "text": [
      "Sample 3/70\n",
      "Sample 4/70\n"
     ]
    },
    {
     "name": "stderr",
     "output_type": "stream",
     "text": [
      "/opt/conda/lib/python3.11/site-packages/scipy/sparse/linalg/_eigen/_svds.py:487: UserWarning: Exited at iteration 20 with accuracies \n",
      "[0.00025681]\n",
      "not reaching the requested tolerance 6.103515625e-05.\n",
      "Use iteration 15 instead with accuracy \n",
      "0.000176089780862281.\n",
      "\n",
      "  _, eigvec = lobpcg(XH_X, X, tol=tol ** 2, maxiter=maxiter,\n",
      "/opt/conda/lib/python3.11/site-packages/scipy/sparse/linalg/_eigen/_svds.py:487: UserWarning: Exited postprocessing with accuracies \n",
      "[0.00017609]\n",
      "not reaching the requested tolerance 6.103515625e-05.\n",
      "  _, eigvec = lobpcg(XH_X, X, tol=tol ** 2, maxiter=maxiter,\n"
     ]
    },
    {
     "name": "stdout",
     "output_type": "stream",
     "text": [
      "Sample 5/70\n"
     ]
    },
    {
     "name": "stderr",
     "output_type": "stream",
     "text": [
      "/opt/conda/lib/python3.11/site-packages/scipy/sparse/linalg/_eigen/_svds.py:487: UserWarning: Exited at iteration 20 with accuracies \n",
      "[0.00025825]\n",
      "not reaching the requested tolerance 6.103515625e-05.\n",
      "Use iteration 9 instead with accuracy \n",
      "0.00017328510728933965.\n",
      "\n",
      "  _, eigvec = lobpcg(XH_X, X, tol=tol ** 2, maxiter=maxiter,\n",
      "/opt/conda/lib/python3.11/site-packages/scipy/sparse/linalg/_eigen/_svds.py:487: UserWarning: Exited postprocessing with accuracies \n",
      "[0.00017329]\n",
      "not reaching the requested tolerance 6.103515625e-05.\n",
      "  _, eigvec = lobpcg(XH_X, X, tol=tol ** 2, maxiter=maxiter,\n"
     ]
    },
    {
     "name": "stdout",
     "output_type": "stream",
     "text": [
      "Sample 6/70\n"
     ]
    },
    {
     "name": "stderr",
     "output_type": "stream",
     "text": [
      "/opt/conda/lib/python3.11/site-packages/scipy/sparse/linalg/_eigen/_svds.py:487: UserWarning: Exited at iteration 20 with accuracies \n",
      "[9.73331344e-05]\n",
      "not reaching the requested tolerance 6.103515625e-05.\n",
      "Use iteration 20 instead with accuracy \n",
      "7.159702021717895e-05.\n",
      "\n",
      "  _, eigvec = lobpcg(XH_X, X, tol=tol ** 2, maxiter=maxiter,\n",
      "/opt/conda/lib/python3.11/site-packages/scipy/sparse/linalg/_eigen/_svds.py:487: UserWarning: Exited postprocessing with accuracies \n",
      "[7.15970202e-05]\n",
      "not reaching the requested tolerance 6.103515625e-05.\n",
      "  _, eigvec = lobpcg(XH_X, X, tol=tol ** 2, maxiter=maxiter,\n"
     ]
    },
    {
     "ename": "KeyboardInterrupt",
     "evalue": "",
     "output_type": "error",
     "traceback": [
      "\u001b[0;31m---------------------------------------------------------------------------\u001b[0m",
      "\u001b[0;31mKeyboardInterrupt\u001b[0m                         Traceback (most recent call last)",
      "Cell \u001b[0;32mIn[9], line 21\u001b[0m\n\u001b[1;32m     18\u001b[0m H \u001b[38;5;241m=\u001b[39m scipy\u001b[38;5;241m.\u001b[39msparse\u001b[38;5;241m.\u001b[39mcsr_matrix(H)\n\u001b[1;32m     19\u001b[0m norm \u001b[38;5;241m=\u001b[39m scipy\u001b[38;5;241m.\u001b[39msparse\u001b[38;5;241m.\u001b[39mlinalg\u001b[38;5;241m.\u001b[39mnorm(H, \u001b[38;5;28mord\u001b[39m\u001b[38;5;241m=\u001b[39m\u001b[38;5;241m2\u001b[39m)\n\u001b[0;32m---> 21\u001b[0m fH \u001b[38;5;241m=\u001b[39m \u001b[43mscipy\u001b[49m\u001b[38;5;241;43m.\u001b[39;49m\u001b[43msparse\u001b[49m\u001b[38;5;241;43m.\u001b[39;49m\u001b[43mlinalg\u001b[49m\u001b[38;5;241;43m.\u001b[39;49m\u001b[43mexpm\u001b[49m\u001b[43m(\u001b[49m\u001b[38;5;241;43m-\u001b[39;49m\u001b[43mbeta\u001b[49m\u001b[43m \u001b[49m\u001b[38;5;241;43m*\u001b[39;49m\u001b[43m \u001b[49m\u001b[43mH\u001b[49m\u001b[43m)\u001b[49m\n\u001b[1;32m     22\u001b[0m \u001b[38;5;66;03m# Compute the expectation value <state|exp(-beta*H)|state>\u001b[39;00m\n\u001b[1;32m     23\u001b[0m y \u001b[38;5;241m=\u001b[39m np\u001b[38;5;241m.\u001b[39mvdot(state, fH \u001b[38;5;241m@\u001b[39m state)\u001b[38;5;241m.\u001b[39mreal\n",
      "File \u001b[0;32m/opt/conda/lib/python3.11/site-packages/scipy/sparse/linalg/_matfuncs.py:590\u001b[0m, in \u001b[0;36mexpm\u001b[0;34m(A)\u001b[0m\n\u001b[1;32m    545\u001b[0m \u001b[38;5;28;01mdef\u001b[39;00m \u001b[38;5;21mexpm\u001b[39m(A):\n\u001b[1;32m    546\u001b[0m \u001b[38;5;250m    \u001b[39m\u001b[38;5;124;03m\"\"\"\u001b[39;00m\n\u001b[1;32m    547\u001b[0m \u001b[38;5;124;03m    Compute the matrix exponential using Pade approximation.\u001b[39;00m\n\u001b[1;32m    548\u001b[0m \n\u001b[0;32m   (...)\u001b[0m\n\u001b[1;32m    588\u001b[0m \u001b[38;5;124;03m           [  0.        ,   0.        ,  20.08553692]])\u001b[39;00m\n\u001b[1;32m    589\u001b[0m \u001b[38;5;124;03m    \"\"\"\u001b[39;00m\n\u001b[0;32m--> 590\u001b[0m     \u001b[38;5;28;01mreturn\u001b[39;00m \u001b[43m_expm\u001b[49m\u001b[43m(\u001b[49m\u001b[43mA\u001b[49m\u001b[43m,\u001b[49m\u001b[43m \u001b[49m\u001b[43muse_exact_onenorm\u001b[49m\u001b[38;5;241;43m=\u001b[39;49m\u001b[38;5;124;43m'\u001b[39;49m\u001b[38;5;124;43mauto\u001b[39;49m\u001b[38;5;124;43m'\u001b[39;49m\u001b[43m)\u001b[49m\n",
      "File \u001b[0;32m/opt/conda/lib/python3.11/site-packages/scipy/sparse/linalg/_matfuncs.py:654\u001b[0m, in \u001b[0;36m_expm\u001b[0;34m(A, use_exact_onenorm)\u001b[0m\n\u001b[1;32m    652\u001b[0m \u001b[38;5;28;01mif\u001b[39;00m eta_3 \u001b[38;5;241m<\u001b[39m \u001b[38;5;241m9.504178996162932e-001\u001b[39m \u001b[38;5;129;01mand\u001b[39;00m _ell(h\u001b[38;5;241m.\u001b[39mA, \u001b[38;5;241m7\u001b[39m) \u001b[38;5;241m==\u001b[39m \u001b[38;5;241m0\u001b[39m:\n\u001b[1;32m    653\u001b[0m     U, V \u001b[38;5;241m=\u001b[39m h\u001b[38;5;241m.\u001b[39mpade7()\n\u001b[0;32m--> 654\u001b[0m     \u001b[38;5;28;01mreturn\u001b[39;00m \u001b[43m_solve_P_Q\u001b[49m\u001b[43m(\u001b[49m\u001b[43mU\u001b[49m\u001b[43m,\u001b[49m\u001b[43m \u001b[49m\u001b[43mV\u001b[49m\u001b[43m,\u001b[49m\u001b[43m \u001b[49m\u001b[43mstructure\u001b[49m\u001b[38;5;241;43m=\u001b[39;49m\u001b[43mstructure\u001b[49m\u001b[43m)\u001b[49m\n\u001b[1;32m    655\u001b[0m \u001b[38;5;28;01mif\u001b[39;00m eta_3 \u001b[38;5;241m<\u001b[39m \u001b[38;5;241m2.097847961257068e+000\u001b[39m \u001b[38;5;129;01mand\u001b[39;00m _ell(h\u001b[38;5;241m.\u001b[39mA, \u001b[38;5;241m9\u001b[39m) \u001b[38;5;241m==\u001b[39m \u001b[38;5;241m0\u001b[39m:\n\u001b[1;32m    656\u001b[0m     U, V \u001b[38;5;241m=\u001b[39m h\u001b[38;5;241m.\u001b[39mpade9()\n",
      "File \u001b[0;32m/opt/conda/lib/python3.11/site-packages/scipy/sparse/linalg/_matfuncs.py:706\u001b[0m, in \u001b[0;36m_solve_P_Q\u001b[0;34m(U, V, structure)\u001b[0m\n\u001b[1;32m    704\u001b[0m Q \u001b[38;5;241m=\u001b[39m \u001b[38;5;241m-\u001b[39mU \u001b[38;5;241m+\u001b[39m V\n\u001b[1;32m    705\u001b[0m \u001b[38;5;28;01mif\u001b[39;00m issparse(U) \u001b[38;5;129;01mor\u001b[39;00m is_pydata_spmatrix(U):\n\u001b[0;32m--> 706\u001b[0m     \u001b[38;5;28;01mreturn\u001b[39;00m \u001b[43mspsolve\u001b[49m\u001b[43m(\u001b[49m\u001b[43mQ\u001b[49m\u001b[43m,\u001b[49m\u001b[43m \u001b[49m\u001b[43mP\u001b[49m\u001b[43m)\u001b[49m\n\u001b[1;32m    707\u001b[0m \u001b[38;5;28;01melif\u001b[39;00m structure \u001b[38;5;129;01mis\u001b[39;00m \u001b[38;5;28;01mNone\u001b[39;00m:\n\u001b[1;32m    708\u001b[0m     \u001b[38;5;28;01mreturn\u001b[39;00m solve(Q, P)\n",
      "File \u001b[0;32m/opt/conda/lib/python3.11/site-packages/scipy/sparse/linalg/_dsolve/linsolve.py:317\u001b[0m, in \u001b[0;36mspsolve\u001b[0;34m(A, b, permc_spec, use_umfpack)\u001b[0m\n\u001b[1;32m    311\u001b[0m \u001b[38;5;28;01mfor\u001b[39;00m j \u001b[38;5;129;01min\u001b[39;00m \u001b[38;5;28mrange\u001b[39m(b\u001b[38;5;241m.\u001b[39mshape[\u001b[38;5;241m1\u001b[39m]):\n\u001b[1;32m    312\u001b[0m     \u001b[38;5;66;03m# TODO: replace this with\u001b[39;00m\n\u001b[1;32m    313\u001b[0m     \u001b[38;5;66;03m# bj = b[:, j].toarray().ravel()\u001b[39;00m\n\u001b[1;32m    314\u001b[0m     \u001b[38;5;66;03m# once 1D sparse arrays are supported.\u001b[39;00m\n\u001b[1;32m    315\u001b[0m     \u001b[38;5;66;03m# That is a slightly faster code path.\u001b[39;00m\n\u001b[1;32m    316\u001b[0m     bj \u001b[38;5;241m=\u001b[39m b[:, [j]]\u001b[38;5;241m.\u001b[39mtoarray()\u001b[38;5;241m.\u001b[39mravel()\n\u001b[0;32m--> 317\u001b[0m     xj \u001b[38;5;241m=\u001b[39m \u001b[43mAfactsolve\u001b[49m\u001b[43m(\u001b[49m\u001b[43mbj\u001b[49m\u001b[43m)\u001b[49m\n\u001b[1;32m    318\u001b[0m     w \u001b[38;5;241m=\u001b[39m np\u001b[38;5;241m.\u001b[39mflatnonzero(xj)\n\u001b[1;32m    319\u001b[0m     segment_length \u001b[38;5;241m=\u001b[39m w\u001b[38;5;241m.\u001b[39mshape[\u001b[38;5;241m0\u001b[39m]\n",
      "\u001b[0;31mKeyboardInterrupt\u001b[0m: "
     ]
    }
   ],
   "source": [
    "data = []\n",
    "graphs = []\n",
    "# For debugging\n",
    "# eigvals_abs_max = []\n",
    "rng = np.random.default_rng(42)\n",
    "\n",
    "for i in range(n_samples):\n",
    "    print(f\"Sample {i}/{n_samples}\")\n",
    "    G = get_graph(n_qubits, rng, graph_type)\n",
    "    Js = [G.edges[edge][\"J\"] for edge in G.edges]\n",
    "    heisenberg = HeisenbergModel(n_qubits, G)\n",
    "\n",
    "    H = heisenberg.H\n",
    "    # H = H.to_matrix(sparse=True)\n",
    "\n",
    "    # state is big endian, so we need to reverse the qubits of the Hamiltonian\n",
    "    H = Operator(H).reverse_qargs().to_matrix()\n",
    "    H = scipy.sparse.csr_matrix(H)\n",
    "    norm = scipy.sparse.linalg.norm(H, ord=2)\n",
    "\n",
    "    fH = scipy.sparse.linalg.expm(-beta * H)\n",
    "    # Compute the expectation value <state|exp(-beta*H)|state>\n",
    "    y = np.vdot(state, fH @ state).real\n",
    "\n",
    "    data.append({\"Js\": Js, \"expected_value\": y, \"norm\": norm})\n",
    "    graphs.append(G)\n",
    "\n",
    "    # For debugging\n",
    "    # eigvals_abs_max.append(max(np.abs(scipy.linalg.eigvals(H.toarray()))))\n",
    "\n",
    "df = pd.DataFrame(data)\n",
    "df"
   ]
  },
  {
   "cell_type": "markdown",
   "metadata": {},
   "source": [
    "## Pre-process data"
   ]
  },
  {
   "cell_type": "code",
   "execution_count": 10,
   "metadata": {},
   "outputs": [
    {
     "data": {
      "text/plain": [
       "count    70.000000\n",
       "mean      1.006832\n",
       "std       0.055220\n",
       "min       0.896964\n",
       "25%       0.969244\n",
       "50%       1.006104\n",
       "75%       1.043701\n",
       "max       1.158165\n",
       "Name: expected_value, dtype: float64"
      ]
     },
     "execution_count": 10,
     "metadata": {},
     "output_type": "execute_result"
    }
   ],
   "source": [
    "df[\"expected_value\"].describe()"
   ]
  },
  {
   "cell_type": "code",
   "execution_count": 11,
   "metadata": {},
   "outputs": [
    {
     "data": {
      "text/plain": [
       "count    70.000000\n",
       "mean      0.291823\n",
       "std       0.052357\n",
       "min       0.179178\n",
       "25%       0.253033\n",
       "50%       0.295732\n",
       "75%       0.331915\n",
       "max       0.397774\n",
       "Name: norm, dtype: float64"
      ]
     },
     "execution_count": 11,
     "metadata": {},
     "output_type": "execute_result"
    }
   ],
   "source": [
    "df[\"norm\"].describe()"
   ]
  },
  {
   "cell_type": "code",
   "execution_count": 12,
   "metadata": {},
   "outputs": [],
   "source": [
    "# # Query the 80% quantile\n",
    "# q = df[\"expected_value\"].quantile(0.8)\n",
    "# filtered_index = df.query(f\"expected_value < @q\").index\n",
    "# diffrence = df.index.difference(filtered_index)\n",
    "# print(f\"Outliers: {diffrence}\")\n",
    "\n",
    "# # Remove outliers\n",
    "# df = df.drop(diffrence).reset_index(drop=True)\n",
    "# graphs = [graph for i, graph in enumerate(graphs) if i not in diffrence]"
   ]
  },
  {
   "cell_type": "code",
   "execution_count": 13,
   "metadata": {},
   "outputs": [
    {
     "data": {
      "text/html": [
       "<div>\n",
       "<style scoped>\n",
       "    .dataframe tbody tr th:only-of-type {\n",
       "        vertical-align: middle;\n",
       "    }\n",
       "\n",
       "    .dataframe tbody tr th {\n",
       "        vertical-align: top;\n",
       "    }\n",
       "\n",
       "    .dataframe thead th {\n",
       "        text-align: right;\n",
       "    }\n",
       "</style>\n",
       "<table border=\"1\" class=\"dataframe\">\n",
       "  <thead>\n",
       "    <tr style=\"text-align: right;\">\n",
       "      <th></th>\n",
       "      <th>Js</th>\n",
       "      <th>expected_value</th>\n",
       "      <th>norm</th>\n",
       "    </tr>\n",
       "  </thead>\n",
       "  <tbody>\n",
       "    <tr>\n",
       "      <th>0</th>\n",
       "      <td>[0.0166033968821796, -0.0037043369847241034, 0...</td>\n",
       "      <td>0.950994</td>\n",
       "      <td>0.300042</td>\n",
       "    </tr>\n",
       "    <tr>\n",
       "      <th>1</th>\n",
       "      <td>[0.02586454477870314, 0.008719098186706943, 0....</td>\n",
       "      <td>1.010314</td>\n",
       "      <td>0.286416</td>\n",
       "    </tr>\n",
       "    <tr>\n",
       "      <th>2</th>\n",
       "      <td>[0.028527152993630504, 0.02382552250437562, 0....</td>\n",
       "      <td>1.020843</td>\n",
       "      <td>0.327132</td>\n",
       "    </tr>\n",
       "    <tr>\n",
       "      <th>3</th>\n",
       "      <td>[-0.007850926906977643, -0.001845102346920733,...</td>\n",
       "      <td>1.046820</td>\n",
       "      <td>0.227290</td>\n",
       "    </tr>\n",
       "    <tr>\n",
       "      <th>4</th>\n",
       "      <td>[0.020136957660315216, 0.018470567121018293, -...</td>\n",
       "      <td>1.022114</td>\n",
       "      <td>0.270980</td>\n",
       "    </tr>\n",
       "    <tr>\n",
       "      <th>...</th>\n",
       "      <td>...</td>\n",
       "      <td>...</td>\n",
       "      <td>...</td>\n",
       "    </tr>\n",
       "    <tr>\n",
       "      <th>65</th>\n",
       "      <td>[-0.019080039699783783, 0.0037679232568225557,...</td>\n",
       "      <td>1.070530</td>\n",
       "      <td>0.360786</td>\n",
       "    </tr>\n",
       "    <tr>\n",
       "      <th>66</th>\n",
       "      <td>[-0.015389902333034033, -0.026331488853431367,...</td>\n",
       "      <td>1.091646</td>\n",
       "      <td>0.353099</td>\n",
       "    </tr>\n",
       "    <tr>\n",
       "      <th>67</th>\n",
       "      <td>[-0.011995662497961305, -0.0064166195649637894...</td>\n",
       "      <td>1.092546</td>\n",
       "      <td>0.285954</td>\n",
       "    </tr>\n",
       "    <tr>\n",
       "      <th>68</th>\n",
       "      <td>[0.017004917425853597, 0.020679012497876147, -...</td>\n",
       "      <td>0.972772</td>\n",
       "      <td>0.277375</td>\n",
       "    </tr>\n",
       "    <tr>\n",
       "      <th>69</th>\n",
       "      <td>[-0.002377599682450531, 0.012821699490713809, ...</td>\n",
       "      <td>1.031842</td>\n",
       "      <td>0.373470</td>\n",
       "    </tr>\n",
       "  </tbody>\n",
       "</table>\n",
       "<p>70 rows × 3 columns</p>\n",
       "</div>"
      ],
      "text/plain": [
       "                                                   Js  expected_value  \\\n",
       "0   [0.0166033968821796, -0.0037043369847241034, 0...        0.950994   \n",
       "1   [0.02586454477870314, 0.008719098186706943, 0....        1.010314   \n",
       "2   [0.028527152993630504, 0.02382552250437562, 0....        1.020843   \n",
       "3   [-0.007850926906977643, -0.001845102346920733,...        1.046820   \n",
       "4   [0.020136957660315216, 0.018470567121018293, -...        1.022114   \n",
       "..                                                ...             ...   \n",
       "65  [-0.019080039699783783, 0.0037679232568225557,...        1.070530   \n",
       "66  [-0.015389902333034033, -0.026331488853431367,...        1.091646   \n",
       "67  [-0.011995662497961305, -0.0064166195649637894...        1.092546   \n",
       "68  [0.017004917425853597, 0.020679012497876147, -...        0.972772   \n",
       "69  [-0.002377599682450531, 0.012821699490713809, ...        1.031842   \n",
       "\n",
       "        norm  \n",
       "0   0.300042  \n",
       "1   0.286416  \n",
       "2   0.327132  \n",
       "3   0.227290  \n",
       "4   0.270980  \n",
       "..       ...  \n",
       "65  0.360786  \n",
       "66  0.353099  \n",
       "67  0.285954  \n",
       "68  0.277375  \n",
       "69  0.373470  \n",
       "\n",
       "[70 rows x 3 columns]"
      ]
     },
     "metadata": {},
     "output_type": "display_data"
    },
    {
     "name": "stdout",
     "output_type": "stream",
     "text": [
      "Number of samples: 70\n"
     ]
    },
    {
     "data": {
      "text/plain": [
       "count    70.000000\n",
       "mean      1.006832\n",
       "std       0.055220\n",
       "min       0.896964\n",
       "25%       0.969244\n",
       "50%       1.006104\n",
       "75%       1.043701\n",
       "max       1.158165\n",
       "Name: expected_value, dtype: float64"
      ]
     },
     "execution_count": 13,
     "metadata": {},
     "output_type": "execute_result"
    }
   ],
   "source": [
    "display(df)\n",
    "\n",
    "n_samples = len(df)\n",
    "print(f\"Number of samples: {n_samples}\")\n",
    "df[\"expected_value\"].describe()"
   ]
  },
  {
   "cell_type": "code",
   "execution_count": 14,
   "metadata": {},
   "outputs": [
    {
     "data": {
      "text/plain": [
       "count    70.000000\n",
       "mean      0.291823\n",
       "std       0.052357\n",
       "min       0.179178\n",
       "25%       0.253033\n",
       "50%       0.295732\n",
       "75%       0.331915\n",
       "max       0.397774\n",
       "Name: norm, dtype: float64"
      ]
     },
     "execution_count": 14,
     "metadata": {},
     "output_type": "execute_result"
    }
   ],
   "source": [
    "df[\"norm\"].describe()"
   ]
  },
  {
   "cell_type": "markdown",
   "metadata": {},
   "source": [
    "## Check eigvals and Configure params"
   ]
  },
  {
   "cell_type": "code",
   "execution_count": 15,
   "metadata": {},
   "outputs": [
    {
     "name": "stdout",
     "output_type": "stream",
     "text": [
      "C: 0.39777364186486336\n",
      "times: [0.0, 7.897940745548682, 15.795881491097363, 23.693822236646046, 31.591762982194727, 39.489703727743404, 47.38764447329209, 55.28558521884077, 63.18352596438945, 71.08146670993813]\n"
     ]
    }
   ],
   "source": [
    "n_features = 10  # Number of Fourier features\n",
    "\n",
    "# Parameters for the Fourier feature generation\n",
    "# For shifted Hamiltonian\n",
    "# C = 20 * n_qubits  # upper bound for eigenvalues (WHY?)\n",
    "# times = [2 * np.pi * k / C for k in range(n_features)]\n",
    "\n",
    "# For unshifted Hamiltonian\n",
    "# C = 10 * n_qubits  # upper bound for eigenvalues\n",
    "# C = max(df[\"norm\"]) * 10\n",
    "C = max(df[\"norm\"])\n",
    "times = [np.pi * k / C for k in range(n_features)]\n",
    "\n",
    "print(f\"C: {C}\")\n",
    "print(f\"times: {times}\")"
   ]
  },
  {
   "cell_type": "code",
   "execution_count": 16,
   "metadata": {},
   "outputs": [
    {
     "name": "stdout",
     "output_type": "stream",
     "text": [
      "/home/jovyan/fourier_learning_ibm\n"
     ]
    }
   ],
   "source": [
    "# Only for using Docker container\n",
    "%cd fourier_learning_ibm/"
   ]
  },
  {
   "cell_type": "code",
   "execution_count": 17,
   "metadata": {},
   "outputs": [
    {
     "name": "stdout",
     "output_type": "stream",
     "text": [
      "Note: This CURRENT_TIME is used for other notebooks.\n",
      "CURRENT_TIME: 2024-12-19T04:50Z\n",
      "Saving data to ./data/2024-12-19T04:50Z\n"
     ]
    }
   ],
   "source": [
    "CURRENT_TIME = (\n",
    "    datetime.now(timezone.utc).isoformat(timespec=\"minutes\").replace(\"+00:00\", \"Z\")\n",
    ")\n",
    "\n",
    "path = f\"./data/{CURRENT_TIME}\"\n",
    "os.makedirs(path, exist_ok=True)\n",
    "print(\"Note: This CURRENT_TIME is used for other notebooks.\")\n",
    "print(f\"CURRENT_TIME: {CURRENT_TIME}\")\n",
    "print(f\"Saving data to {path}\")"
   ]
  },
  {
   "cell_type": "code",
   "execution_count": 18,
   "metadata": {},
   "outputs": [],
   "source": [
    "# Save parameters\n",
    "\n",
    "# Save the graphs as a binary file\n",
    "with open(f\"{path}/params_object.pkl\", \"wb\") as f:\n",
    "    pickle.dump(\n",
    "        {\n",
    "            \"graphs\": graphs,\n",
    "            \"Js\": df[\"Js\"].values,\n",
    "            \"expected_values\": df[\"expected_value\"].values,\n",
    "        },\n",
    "        f,\n",
    "    )\n",
    "\n",
    "# Save the parameters as a JSON file\n",
    "with open(f\"{path}/params_text.json\", \"w\") as f:\n",
    "    json.dump(\n",
    "        {\n",
    "            \"n_samples\": n_samples,\n",
    "            \"n_qubits\": n_qubits,\n",
    "            \"graph_type\": graph_type,\n",
    "            \"backend_qpu_name\": backend_qpu.name,\n",
    "            \"beta\": beta,\n",
    "            \"C\": C,\n",
    "            \"n_features\": n_features,\n",
    "            \"times\": times,\n",
    "        },\n",
    "        f,\n",
    "        indent=4,\n",
    "    )"
   ]
  },
  {
   "cell_type": "code",
   "execution_count": null,
   "metadata": {},
   "outputs": [],
   "source": []
  },
  {
   "cell_type": "code",
   "execution_count": null,
   "metadata": {},
   "outputs": [],
   "source": []
  }
 ],
 "metadata": {
  "kernelspec": {
   "display_name": "Python 3 (ipykernel)",
   "language": "python",
   "name": "python3"
  },
  "language_info": {
   "codemirror_mode": {
    "name": "ipython",
    "version": 3
   },
   "file_extension": ".py",
   "mimetype": "text/x-python",
   "name": "python",
   "nbconvert_exporter": "python",
   "pygments_lexer": "ipython3",
   "version": "3.11.6"
  }
 },
 "nbformat": 4,
 "nbformat_minor": 2
}
