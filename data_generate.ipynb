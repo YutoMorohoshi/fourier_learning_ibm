{
 "cells": [
  {
   "cell_type": "markdown",
   "metadata": {},
   "source": [
    "# ToDo: \n",
    "+ ~~期待値がほぼ 0 になっている理由を探す。回避できるようなら回避~~\n",
    "+ ~~C = 3 * n_qubits の理由~~ (特に理由はない？)\n",
    "+ ~~QPU のばらつき改善~~\n",
    "+ ~~2 次のトロッターにしてみる~~\n",
    "+ ~~GHZ を中心に寄せる。このままだと不要な Trotter gate があるので。~~\n",
    "+ 不要な interaction を削除"
   ]
  },
  {
   "cell_type": "markdown",
   "metadata": {},
   "source": [
    "## わかったこと\n",
    "+ ハミルトニアンをシフトさせなければ成功\n",
    "+ times = [2 * np.pi * k / C for k in range(n_features)] は失敗\n",
    "+ times = [np.pi * k / C for k in range(n_features)] は成功"
   ]
  },
  {
   "cell_type": "code",
   "execution_count": 1,
   "metadata": {},
   "outputs": [
    {
     "name": "stdout",
     "output_type": "stream",
     "text": [
      "Note: you may need to restart the kernel to use updated packages.\n"
     ]
    }
   ],
   "source": [
    "%matplotlib inline\n",
    "%pip freeze > requirements.txt\n",
    "%load_ext autoreload\n",
    "%autoreload 2"
   ]
  },
  {
   "cell_type": "code",
   "execution_count": 2,
   "metadata": {},
   "outputs": [
    {
     "name": "stdout",
     "output_type": "stream",
     "text": [
      "['/home/jovyan',\n",
      " '/opt/conda/lib/python311.zip',\n",
      " '/opt/conda/lib/python3.11',\n",
      " '/opt/conda/lib/python3.11/lib-dynload',\n",
      " '',\n",
      " '/opt/conda/lib/python3.11/site-packages',\n",
      " '/home/jovyan/fourier_learning_ibm/']\n"
     ]
    }
   ],
   "source": [
    "# Add the fourier_learning_ibm package to the path\n",
    "import sys, pprint\n",
    "\n",
    "sys.path.append(\"/home/jovyan/fourier_learning_ibm/\")\n",
    "pprint.pprint(sys.path)"
   ]
  },
  {
   "cell_type": "code",
   "execution_count": 3,
   "metadata": {},
   "outputs": [],
   "source": [
    "import numpy as np\n",
    "import scipy\n",
    "import matplotlib.pyplot as plt\n",
    "import pandas as pd\n",
    "import os\n",
    "from heisenberg_graph import (\n",
    "    HeisenbergModel,\n",
    "    get_n_steps,\n",
    "    get_graph,\n",
    "    get_positions,\n",
    "    get_initial_layout,\n",
    "    get_prob0,\n",
    "    extract_probs,\n",
    ")\n",
    "from qiskit import QuantumCircuit\n",
    "from qiskit.quantum_info.operators import Operator\n",
    "from qiskit.quantum_info import SparsePauliOp, Statevector\n",
    "from qiskit.circuit.library import PauliEvolutionGate\n",
    "from qiskit_ibm_runtime import QiskitRuntimeService, SamplerV2 as Sampler, Batch\n",
    "from qiskit_aer import AerSimulator\n",
    "from qiskit_aer.noise import NoiseModel\n",
    "import mthree\n",
    "import pickle\n",
    "import networkx as nx\n",
    "from datetime import datetime, timezone\n",
    "import json\n",
    "import math"
   ]
  },
  {
   "cell_type": "code",
   "execution_count": 4,
   "metadata": {},
   "outputs": [],
   "source": [
    "# Set up the Qiskit Runtime service (this is a one-time setup)\n",
    "# QiskitRuntimeService.save_account(\n",
    "#     token=\"YOUR_API_TOKEN\",\n",
    "#     channel=\"ibm_quantum\",\n",
    "# )"
   ]
  },
  {
   "cell_type": "code",
   "execution_count": 5,
   "metadata": {},
   "outputs": [
    {
     "name": "stdout",
     "output_type": "stream",
     "text": [
      "Using backend QPU: <IBMBackend('ibm_marrakesh')>\n",
      "Using backend simulator: AerSimulator('aer_simulator')\n",
      "Using backend noisy simulator: AerSimulator('aer_simulator'\n",
      "             noise_model=<NoiseModel on ['measure', 'reset', 'x', 'id', 'cz', 'sx']>)\n"
     ]
    }
   ],
   "source": [
    "# Option1: Use IBM Quantum backend.\n",
    "# Load saved credentials\n",
    "service = QiskitRuntimeService()\n",
    "# backend_qpu = service.least_busy(simulator=False, interactional=True)\n",
    "backend_qpu = service.backend(\"ibm_marrakesh\")\n",
    "\n",
    "# Option2: Use local AerSimulator as the backend.\n",
    "backend_sim = AerSimulator()\n",
    "\n",
    "noise_model = NoiseModel.from_backend(backend_qpu)\n",
    "backend_sim_noisy = AerSimulator(noise_model=noise_model)\n",
    "\n",
    "print(f\"Using backend QPU: {backend_qpu}\")\n",
    "print(f\"Using backend simulator: {backend_sim}\")\n",
    "print(f\"Using backend noisy simulator: {backend_sim_noisy}\")"
   ]
  },
  {
   "cell_type": "markdown",
   "metadata": {},
   "source": [
    "# データセット作成 $f(H) = e^{-\\beta H}$"
   ]
  },
  {
   "cell_type": "code",
   "execution_count": 6,
   "metadata": {},
   "outputs": [],
   "source": [
    "n_samples = 70\n",
    "n_qubits = 12\n",
    "beta = 1\n",
    "\n",
    "graph_type = \"line\"\n",
    "# ghz_qubits = list(range(n_qubits // 2))\n",
    "# ghz_qubits = list(range(0, n_qubits, 2))\n",
    "# print(f\"GHZ qubits: {ghz_qubits}\")"
   ]
  },
  {
   "cell_type": "markdown",
   "metadata": {},
   "source": [
    "## Create graph (Demo)"
   ]
  },
  {
   "cell_type": "code",
   "execution_count": 7,
   "metadata": {},
   "outputs": [
    {
     "data": {
      "image/png": "[encoded data removed]",
      "text/plain": [
       "<Figure size 1000x300 with 1 Axes>"
      ]
     },
     "metadata": {},
     "output_type": "display_data"
    }
   ],
   "source": [
    "rng = np.random.default_rng(42)\n",
    "G = get_graph(n_qubits, rng, graph_type)\n",
    "\n",
    "positions = get_positions(n_qubits, graph_type)\n",
    "\n",
    "# エッジラベルを作成\n",
    "edge_J_labels = {edge: f\"{G.edges[edge]['J']:.2g}\" for edge in G.edges}\n",
    "edge_cnot_order_labels = {edge: f\"{G.edges[edge]['cnot']['order']}\" for edge in G.edges}\n",
    "\n",
    "# グラフを描画\n",
    "plt.figure(figsize=(10, 3))\n",
    "nx.draw(\n",
    "    G,\n",
    "    pos=positions,\n",
    "    with_labels=True,\n",
    "    node_color=[\"red\" if G.nodes[node][\"hadamard\"] else \"black\" for node in G.nodes],\n",
    "    node_size=300,\n",
    "    edge_color=\"gray\",\n",
    "    font_color=\"white\",\n",
    "    font_size=10,\n",
    ")\n",
    "\n",
    "# エッジの重みを描画\n",
    "nx.draw_networkx_edge_labels(\n",
    "    G,\n",
    "    pos=positions,\n",
    "    edge_labels=edge_J_labels,\n",
    "    font_size=10,\n",
    "    font_color=\"black\",\n",
    "    label_pos=0.6,\n",
    "    verticalalignment=\"top\",\n",
    ")\n",
    "\n",
    "# エッジの 'cnot' 'order' 属性を描画\n",
    "nx.draw_networkx_edge_labels(\n",
    "    G,\n",
    "    pos=positions,\n",
    "    edge_labels=edge_cnot_order_labels,\n",
    "    font_size=10,\n",
    "    font_color=\"green\",\n",
    "    label_pos=0.8,\n",
    "    verticalalignment=\"bottom\",\n",
    ")\n",
    "\n",
    "plt.show()"
   ]
  },
  {
   "cell_type": "code",
   "execution_count": 8,
   "metadata": {},
   "outputs": [
    {
     "name": "stdout",
     "output_type": "stream",
     "text": [
      "binary index: 000111111000\n",
      "decimal: 504\n",
      "(1+0j)\n"
     ]
    }
   ],
   "source": [
    "# State |0011...1100> (center qubits are 1 and the rest are 0)\n",
    "leftmost = n_qubits // 4\n",
    "rightmost = leftmost + n_qubits // 2 - 1\n",
    "index = []\n",
    "for i in range(n_qubits):\n",
    "    if leftmost <= i <= rightmost:\n",
    "        index.append(\"1\")\n",
    "    else:\n",
    "        index.append(\"0\")\n",
    "\n",
    "index = \"\".join(index)\n",
    "print(f\"binary index: {index}\")\n",
    "state = Statevector.from_label(index)\n",
    "\n",
    "print(f\"decimal: {int(index, 2)}\")\n",
    "print(state[int(index, 2)])"
   ]
  },
  {
   "cell_type": "markdown",
   "metadata": {},
   "source": [
    "## Non Trotter simulation (directly compute the expectation value)"
   ]
  },
  {
   "cell_type": "code",
   "execution_count": 9,
   "metadata": {},
   "outputs": [
    {
     "name": "stdout",
     "output_type": "stream",
     "text": [
      "Sample 0/70\n"
     ]
    },
    {
     "name": "stderr",
     "output_type": "stream",
     "text": [
      "/opt/conda/lib/python3.11/site-packages/scipy/sparse/linalg/_eigen/_svds.py:487: UserWarning: Exited at iteration 20 with accuracies \n",
      "[0.0115881]\n",
      "not reaching the requested tolerance 6.103515625e-05.\n",
      "Use iteration 21 instead with accuracy \n",
      "0.011588096477614435.\n",
      "\n",
      "  _, eigvec = lobpcg(XH_X, X, tol=tol ** 2, maxiter=maxiter,\n",
      "/opt/conda/lib/python3.11/site-packages/scipy/sparse/linalg/_eigen/_svds.py:487: UserWarning: Exited postprocessing with accuracies \n",
      "[0.0115881]\n",
      "not reaching the requested tolerance 6.103515625e-05.\n",
      "  _, eigvec = lobpcg(XH_X, X, tol=tol ** 2, maxiter=maxiter,\n",
      "/opt/conda/lib/python3.11/site-packages/scipy/sparse/linalg/_dsolve/linsolve.py:412: SparseEfficiencyWarning: splu converted its input to CSC format\n",
      "  warn('splu converted its input to CSC format', SparseEfficiencyWarning)\n",
      "/opt/conda/lib/python3.11/site-packages/scipy/sparse/linalg/_dsolve/linsolve.py:302: SparseEfficiencyWarning: spsolve is more efficient when sparse b is in the CSC matrix format\n",
      "  warn('spsolve is more efficient when sparse b '\n"
     ]
    },
    {
     "name": "stdout",
     "output_type": "stream",
     "text": [
      "Sample 1/70\n"
     ]
    },
    {
     "name": "stderr",
     "output_type": "stream",
     "text": [
      "/opt/conda/lib/python3.11/site-packages/scipy/sparse/linalg/_eigen/_svds.py:487: UserWarning: Exited at iteration 20 with accuracies \n",
      "[0.01771517]\n",
      "not reaching the requested tolerance 6.103515625e-05.\n",
      "Use iteration 21 instead with accuracy \n",
      "0.017715169975434517.\n",
      "\n",
      "  _, eigvec = lobpcg(XH_X, X, tol=tol ** 2, maxiter=maxiter,\n",
      "/opt/conda/lib/python3.11/site-packages/scipy/sparse/linalg/_eigen/_svds.py:487: UserWarning: Exited postprocessing with accuracies \n",
      "[0.01771517]\n",
      "not reaching the requested tolerance 6.103515625e-05.\n",
      "  _, eigvec = lobpcg(XH_X, X, tol=tol ** 2, maxiter=maxiter,\n"
     ]
    },
    {
     "name": "stdout",
     "output_type": "stream",
     "text": [
      "Sample 2/70\n"
     ]
    },
    {
     "name": "stderr",
     "output_type": "stream",
     "text": [
      "/opt/conda/lib/python3.11/site-packages/scipy/sparse/linalg/_eigen/_svds.py:487: UserWarning: Exited at iteration 20 with accuracies \n",
      "[0.10718395]\n",
      "not reaching the requested tolerance 6.103515625e-05.\n",
      "Use iteration 21 instead with accuracy \n",
      "0.10718394946356402.\n",
      "\n",
      "  _, eigvec = lobpcg(XH_X, X, tol=tol ** 2, maxiter=maxiter,\n",
      "/opt/conda/lib/python3.11/site-packages/scipy/sparse/linalg/_eigen/_svds.py:487: UserWarning: Exited postprocessing with accuracies \n",
      "[0.10718395]\n",
      "not reaching the requested tolerance 6.103515625e-05.\n",
      "  _, eigvec = lobpcg(XH_X, X, tol=tol ** 2, maxiter=maxiter,\n"
     ]
    },
    {
     "name": "stdout",
     "output_type": "stream",
     "text": [
      "Sample 3/70\n"
     ]
    },
    {
     "name": "stderr",
     "output_type": "stream",
     "text": [
      "/opt/conda/lib/python3.11/site-packages/scipy/sparse/linalg/_eigen/_svds.py:487: UserWarning: Exited at iteration 20 with accuracies \n",
      "[0.03435486]\n",
      "not reaching the requested tolerance 6.103515625e-05.\n",
      "Use iteration 21 instead with accuracy \n",
      "0.03435485973788856.\n",
      "\n",
      "  _, eigvec = lobpcg(XH_X, X, tol=tol ** 2, maxiter=maxiter,\n",
      "/opt/conda/lib/python3.11/site-packages/scipy/sparse/linalg/_eigen/_svds.py:487: UserWarning: Exited postprocessing with accuracies \n",
      "[0.03435486]\n",
      "not reaching the requested tolerance 6.103515625e-05.\n",
      "  _, eigvec = lobpcg(XH_X, X, tol=tol ** 2, maxiter=maxiter,\n"
     ]
    },
    {
     "name": "stdout",
     "output_type": "stream",
     "text": [
      "Sample 4/70\n"
     ]
    },
    {
     "name": "stderr",
     "output_type": "stream",
     "text": [
      "/opt/conda/lib/python3.11/site-packages/scipy/sparse/linalg/_eigen/_svds.py:487: UserWarning: Exited at iteration 20 with accuracies \n",
      "[0.22378777]\n",
      "not reaching the requested tolerance 6.103515625e-05.\n",
      "Use iteration 21 instead with accuracy \n",
      "0.2237877712772859.\n",
      "\n",
      "  _, eigvec = lobpcg(XH_X, X, tol=tol ** 2, maxiter=maxiter,\n",
      "/opt/conda/lib/python3.11/site-packages/scipy/sparse/linalg/_eigen/_svds.py:487: UserWarning: Exited postprocessing with accuracies \n",
      "[0.22378777]\n",
      "not reaching the requested tolerance 6.103515625e-05.\n",
      "  _, eigvec = lobpcg(XH_X, X, tol=tol ** 2, maxiter=maxiter,\n"
     ]
    },
    {
     "name": "stdout",
     "output_type": "stream",
     "text": [
      "Sample 5/70\n"
     ]
    },
    {
     "name": "stderr",
     "output_type": "stream",
     "text": [
      "/opt/conda/lib/python3.11/site-packages/scipy/sparse/linalg/_eigen/_svds.py:487: UserWarning: Exited at iteration 20 with accuracies \n",
      "[0.15873707]\n",
      "not reaching the requested tolerance 6.103515625e-05.\n",
      "Use iteration 20 instead with accuracy \n",
      "0.133941845160289.\n",
      "\n",
      "  _, eigvec = lobpcg(XH_X, X, tol=tol ** 2, maxiter=maxiter,\n",
      "/opt/conda/lib/python3.11/site-packages/scipy/sparse/linalg/_eigen/_svds.py:487: UserWarning: Exited postprocessing with accuracies \n",
      "[0.13394185]\n",
      "not reaching the requested tolerance 6.103515625e-05.\n",
      "  _, eigvec = lobpcg(XH_X, X, tol=tol ** 2, maxiter=maxiter,\n"
     ]
    },
    {
     "name": "stdout",
     "output_type": "stream",
     "text": [
      "Sample 6/70\n"
     ]
    },
    {
     "name": "stderr",
     "output_type": "stream",
     "text": [
      "/opt/conda/lib/python3.11/site-packages/scipy/sparse/linalg/_eigen/_svds.py:487: UserWarning: Exited at iteration 20 with accuracies \n",
      "[0.17083013]\n",
      "not reaching the requested tolerance 6.103515625e-05.\n",
      "Use iteration 19 instead with accuracy \n",
      "0.12036983962798463.\n",
      "\n",
      "  _, eigvec = lobpcg(XH_X, X, tol=tol ** 2, maxiter=maxiter,\n",
      "/opt/conda/lib/python3.11/site-packages/scipy/sparse/linalg/_eigen/_svds.py:487: UserWarning: Exited postprocessing with accuracies \n",
      "[0.12036984]\n",
      "not reaching the requested tolerance 6.103515625e-05.\n",
      "  _, eigvec = lobpcg(XH_X, X, tol=tol ** 2, maxiter=maxiter,\n"
     ]
    },
    {
     "name": "stdout",
     "output_type": "stream",
     "text": [
      "Sample 7/70\n"
     ]
    },
    {
     "name": "stderr",
     "output_type": "stream",
     "text": [
      "/opt/conda/lib/python3.11/site-packages/scipy/sparse/linalg/_eigen/_svds.py:487: UserWarning: Exited at iteration 20 with accuracies \n",
      "[0.56454186]\n",
      "not reaching the requested tolerance 6.103515625e-05.\n",
      "Use iteration 21 instead with accuracy \n",
      "0.5645418604586305.\n",
      "\n",
      "  _, eigvec = lobpcg(XH_X, X, tol=tol ** 2, maxiter=maxiter,\n",
      "/opt/conda/lib/python3.11/site-packages/scipy/sparse/linalg/_eigen/_svds.py:487: UserWarning: Exited postprocessing with accuracies \n",
      "[0.56454186]\n",
      "not reaching the requested tolerance 6.103515625e-05.\n",
      "  _, eigvec = lobpcg(XH_X, X, tol=tol ** 2, maxiter=maxiter,\n"
     ]
    },
    {
     "name": "stdout",
     "output_type": "stream",
     "text": [
      "Sample 8/70\n"
     ]
    },
    {
     "name": "stderr",
     "output_type": "stream",
     "text": [
      "/opt/conda/lib/python3.11/site-packages/scipy/sparse/linalg/_eigen/_svds.py:487: UserWarning: Exited at iteration 20 with accuracies \n",
      "[0.00033668]\n",
      "not reaching the requested tolerance 6.103515625e-05.\n",
      "Use iteration 21 instead with accuracy \n",
      "0.0003366766952463948.\n",
      "\n",
      "  _, eigvec = lobpcg(XH_X, X, tol=tol ** 2, maxiter=maxiter,\n",
      "/opt/conda/lib/python3.11/site-packages/scipy/sparse/linalg/_eigen/_svds.py:487: UserWarning: Exited postprocessing with accuracies \n",
      "[0.00033668]\n",
      "not reaching the requested tolerance 6.103515625e-05.\n",
      "  _, eigvec = lobpcg(XH_X, X, tol=tol ** 2, maxiter=maxiter,\n"
     ]
    },
    {
     "name": "stdout",
     "output_type": "stream",
     "text": [
      "Sample 9/70\n",
      "Sample 10/70\n"
     ]
    },
    {
     "name": "stderr",
     "output_type": "stream",
     "text": [
      "/opt/conda/lib/python3.11/site-packages/scipy/sparse/linalg/_eigen/_svds.py:487: UserWarning: Exited at iteration 20 with accuracies \n",
      "[0.17632061]\n",
      "not reaching the requested tolerance 6.103515625e-05.\n",
      "Use iteration 14 instead with accuracy \n",
      "0.15841681042258254.\n",
      "\n",
      "  _, eigvec = lobpcg(XH_X, X, tol=tol ** 2, maxiter=maxiter,\n",
      "/opt/conda/lib/python3.11/site-packages/scipy/sparse/linalg/_eigen/_svds.py:487: UserWarning: Exited postprocessing with accuracies \n",
      "[0.15841681]\n",
      "not reaching the requested tolerance 6.103515625e-05.\n",
      "  _, eigvec = lobpcg(XH_X, X, tol=tol ** 2, maxiter=maxiter,\n"
     ]
    },
    {
     "name": "stdout",
     "output_type": "stream",
     "text": [
      "Sample 11/70\n",
      "Sample 12/70\n"
     ]
    },
    {
     "name": "stderr",
     "output_type": "stream",
     "text": [
      "/opt/conda/lib/python3.11/site-packages/scipy/sparse/linalg/_eigen/_svds.py:487: UserWarning: Exited at iteration 20 with accuracies \n",
      "[0.00996658]\n",
      "not reaching the requested tolerance 6.103515625e-05.\n",
      "Use iteration 21 instead with accuracy \n",
      "0.009966579463263955.\n",
      "\n",
      "  _, eigvec = lobpcg(XH_X, X, tol=tol ** 2, maxiter=maxiter,\n",
      "/opt/conda/lib/python3.11/site-packages/scipy/sparse/linalg/_eigen/_svds.py:487: UserWarning: Exited postprocessing with accuracies \n",
      "[0.00996658]\n",
      "not reaching the requested tolerance 6.103515625e-05.\n",
      "  _, eigvec = lobpcg(XH_X, X, tol=tol ** 2, maxiter=maxiter,\n"
     ]
    },
    {
     "name": "stdout",
     "output_type": "stream",
     "text": [
      "Sample 13/70\n"
     ]
    },
    {
     "name": "stderr",
     "output_type": "stream",
     "text": [
      "/opt/conda/lib/python3.11/site-packages/scipy/sparse/linalg/_eigen/_svds.py:487: UserWarning: Exited at iteration 20 with accuracies \n",
      "[0.53911772]\n",
      "not reaching the requested tolerance 6.103515625e-05.\n",
      "Use iteration 19 instead with accuracy \n",
      "0.303511220514694.\n",
      "\n",
      "  _, eigvec = lobpcg(XH_X, X, tol=tol ** 2, maxiter=maxiter,\n",
      "/opt/conda/lib/python3.11/site-packages/scipy/sparse/linalg/_eigen/_svds.py:487: UserWarning: Exited postprocessing with accuracies \n",
      "[0.30351122]\n",
      "not reaching the requested tolerance 6.103515625e-05.\n",
      "  _, eigvec = lobpcg(XH_X, X, tol=tol ** 2, maxiter=maxiter,\n"
     ]
    },
    {
     "name": "stdout",
     "output_type": "stream",
     "text": [
      "Sample 14/70\n"
     ]
    },
    {
     "name": "stderr",
     "output_type": "stream",
     "text": [
      "/opt/conda/lib/python3.11/site-packages/scipy/sparse/linalg/_eigen/_svds.py:487: UserWarning: Exited at iteration 20 with accuracies \n",
      "[0.19052288]\n",
      "not reaching the requested tolerance 6.103515625e-05.\n",
      "Use iteration 21 instead with accuracy \n",
      "0.19052288365138237.\n",
      "\n",
      "  _, eigvec = lobpcg(XH_X, X, tol=tol ** 2, maxiter=maxiter,\n",
      "/opt/conda/lib/python3.11/site-packages/scipy/sparse/linalg/_eigen/_svds.py:487: UserWarning: Exited postprocessing with accuracies \n",
      "[0.19052288]\n",
      "not reaching the requested tolerance 6.103515625e-05.\n",
      "  _, eigvec = lobpcg(XH_X, X, tol=tol ** 2, maxiter=maxiter,\n"
     ]
    },
    {
     "name": "stdout",
     "output_type": "stream",
     "text": [
      "Sample 15/70\n"
     ]
    },
    {
     "name": "stderr",
     "output_type": "stream",
     "text": [
      "/opt/conda/lib/python3.11/site-packages/scipy/sparse/linalg/_eigen/_svds.py:487: UserWarning: Exited at iteration 20 with accuracies \n",
      "[0.43653896]\n",
      "not reaching the requested tolerance 6.103515625e-05.\n",
      "Use iteration 21 instead with accuracy \n",
      "0.43653896215881244.\n",
      "\n",
      "  _, eigvec = lobpcg(XH_X, X, tol=tol ** 2, maxiter=maxiter,\n",
      "/opt/conda/lib/python3.11/site-packages/scipy/sparse/linalg/_eigen/_svds.py:487: UserWarning: Exited postprocessing with accuracies \n",
      "[0.43653896]\n",
      "not reaching the requested tolerance 6.103515625e-05.\n",
      "  _, eigvec = lobpcg(XH_X, X, tol=tol ** 2, maxiter=maxiter,\n"
     ]
    },
    {
     "name": "stdout",
     "output_type": "stream",
     "text": [
      "Sample 16/70\n"
     ]
    },
    {
     "name": "stderr",
     "output_type": "stream",
     "text": [
      "/opt/conda/lib/python3.11/site-packages/scipy/sparse/linalg/_eigen/_svds.py:487: UserWarning: Exited at iteration 20 with accuracies \n",
      "[0.26744303]\n",
      "not reaching the requested tolerance 6.103515625e-05.\n",
      "Use iteration 13 instead with accuracy \n",
      "0.07117757851132257.\n",
      "\n",
      "  _, eigvec = lobpcg(XH_X, X, tol=tol ** 2, maxiter=maxiter,\n",
      "/opt/conda/lib/python3.11/site-packages/scipy/sparse/linalg/_eigen/_svds.py:487: UserWarning: Exited postprocessing with accuracies \n",
      "[0.07117758]\n",
      "not reaching the requested tolerance 6.103515625e-05.\n",
      "  _, eigvec = lobpcg(XH_X, X, tol=tol ** 2, maxiter=maxiter,\n"
     ]
    },
    {
     "name": "stdout",
     "output_type": "stream",
     "text": [
      "Sample 17/70\n"
     ]
    },
    {
     "name": "stderr",
     "output_type": "stream",
     "text": [
      "/opt/conda/lib/python3.11/site-packages/scipy/sparse/linalg/_eigen/_svds.py:487: UserWarning: Exited at iteration 20 with accuracies \n",
      "[0.00583474]\n",
      "not reaching the requested tolerance 6.103515625e-05.\n",
      "Use iteration 21 instead with accuracy \n",
      "0.00583473901790811.\n",
      "\n",
      "  _, eigvec = lobpcg(XH_X, X, tol=tol ** 2, maxiter=maxiter,\n",
      "/opt/conda/lib/python3.11/site-packages/scipy/sparse/linalg/_eigen/_svds.py:487: UserWarning: Exited postprocessing with accuracies \n",
      "[0.00583474]\n",
      "not reaching the requested tolerance 6.103515625e-05.\n",
      "  _, eigvec = lobpcg(XH_X, X, tol=tol ** 2, maxiter=maxiter,\n"
     ]
    },
    {
     "name": "stdout",
     "output_type": "stream",
     "text": [
      "Sample 18/70\n"
     ]
    },
    {
     "name": "stderr",
     "output_type": "stream",
     "text": [
      "/opt/conda/lib/python3.11/site-packages/scipy/sparse/linalg/_eigen/_svds.py:487: UserWarning: Exited at iteration 20 with accuracies \n",
      "[0.00314777]\n",
      "not reaching the requested tolerance 6.103515625e-05.\n",
      "Use iteration 21 instead with accuracy \n",
      "0.0031477676695032225.\n",
      "\n",
      "  _, eigvec = lobpcg(XH_X, X, tol=tol ** 2, maxiter=maxiter,\n",
      "/opt/conda/lib/python3.11/site-packages/scipy/sparse/linalg/_eigen/_svds.py:487: UserWarning: Exited postprocessing with accuracies \n",
      "[0.00314777]\n",
      "not reaching the requested tolerance 6.103515625e-05.\n",
      "  _, eigvec = lobpcg(XH_X, X, tol=tol ** 2, maxiter=maxiter,\n"
     ]
    },
    {
     "name": "stdout",
     "output_type": "stream",
     "text": [
      "Sample 19/70\n"
     ]
    },
    {
     "name": "stderr",
     "output_type": "stream",
     "text": [
      "/opt/conda/lib/python3.11/site-packages/scipy/sparse/linalg/_eigen/_svds.py:487: UserWarning: Exited at iteration 20 with accuracies \n",
      "[0.11393842]\n",
      "not reaching the requested tolerance 6.103515625e-05.\n",
      "Use iteration 17 instead with accuracy \n",
      "0.08884967189852351.\n",
      "\n",
      "  _, eigvec = lobpcg(XH_X, X, tol=tol ** 2, maxiter=maxiter,\n",
      "/opt/conda/lib/python3.11/site-packages/scipy/sparse/linalg/_eigen/_svds.py:487: UserWarning: Exited postprocessing with accuracies \n",
      "[0.08884967]\n",
      "not reaching the requested tolerance 6.103515625e-05.\n",
      "  _, eigvec = lobpcg(XH_X, X, tol=tol ** 2, maxiter=maxiter,\n"
     ]
    },
    {
     "name": "stdout",
     "output_type": "stream",
     "text": [
      "Sample 20/70\n"
     ]
    },
    {
     "name": "stderr",
     "output_type": "stream",
     "text": [
      "/opt/conda/lib/python3.11/site-packages/scipy/sparse/linalg/_eigen/_svds.py:487: UserWarning: Exited at iteration 20 with accuracies \n",
      "[0.00916346]\n",
      "not reaching the requested tolerance 6.103515625e-05.\n",
      "Use iteration 20 instead with accuracy \n",
      "0.0074944229653397774.\n",
      "\n",
      "  _, eigvec = lobpcg(XH_X, X, tol=tol ** 2, maxiter=maxiter,\n",
      "/opt/conda/lib/python3.11/site-packages/scipy/sparse/linalg/_eigen/_svds.py:487: UserWarning: Exited postprocessing with accuracies \n",
      "[0.00749442]\n",
      "not reaching the requested tolerance 6.103515625e-05.\n",
      "  _, eigvec = lobpcg(XH_X, X, tol=tol ** 2, maxiter=maxiter,\n"
     ]
    },
    {
     "name": "stdout",
     "output_type": "stream",
     "text": [
      "Sample 21/70\n"
     ]
    },
    {
     "name": "stderr",
     "output_type": "stream",
     "text": [
      "/opt/conda/lib/python3.11/site-packages/scipy/sparse/linalg/_eigen/_svds.py:487: UserWarning: Exited at iteration 20 with accuracies \n",
      "[0.20526108]\n",
      "not reaching the requested tolerance 6.103515625e-05.\n",
      "Use iteration 20 instead with accuracy \n",
      "0.10051335555842165.\n",
      "\n",
      "  _, eigvec = lobpcg(XH_X, X, tol=tol ** 2, maxiter=maxiter,\n",
      "/opt/conda/lib/python3.11/site-packages/scipy/sparse/linalg/_eigen/_svds.py:487: UserWarning: Exited postprocessing with accuracies \n",
      "[0.10051336]\n",
      "not reaching the requested tolerance 6.103515625e-05.\n",
      "  _, eigvec = lobpcg(XH_X, X, tol=tol ** 2, maxiter=maxiter,\n"
     ]
    },
    {
     "name": "stdout",
     "output_type": "stream",
     "text": [
      "Sample 22/70\n"
     ]
    },
    {
     "name": "stderr",
     "output_type": "stream",
     "text": [
      "/opt/conda/lib/python3.11/site-packages/scipy/sparse/linalg/_eigen/_svds.py:487: UserWarning: Exited at iteration 20 with accuracies \n",
      "[0.19536201]\n",
      "not reaching the requested tolerance 6.103515625e-05.\n",
      "Use iteration 19 instead with accuracy \n",
      "0.17832332254304648.\n",
      "\n",
      "  _, eigvec = lobpcg(XH_X, X, tol=tol ** 2, maxiter=maxiter,\n",
      "/opt/conda/lib/python3.11/site-packages/scipy/sparse/linalg/_eigen/_svds.py:487: UserWarning: Exited postprocessing with accuracies \n",
      "[0.17832332]\n",
      "not reaching the requested tolerance 6.103515625e-05.\n",
      "  _, eigvec = lobpcg(XH_X, X, tol=tol ** 2, maxiter=maxiter,\n"
     ]
    },
    {
     "name": "stdout",
     "output_type": "stream",
     "text": [
      "Sample 23/70\n"
     ]
    },
    {
     "name": "stderr",
     "output_type": "stream",
     "text": [
      "/opt/conda/lib/python3.11/site-packages/scipy/sparse/linalg/_eigen/_svds.py:487: UserWarning: Exited at iteration 20 with accuracies \n",
      "[0.06720481]\n",
      "not reaching the requested tolerance 6.103515625e-05.\n",
      "Use iteration 21 instead with accuracy \n",
      "0.06720480916249107.\n",
      "\n",
      "  _, eigvec = lobpcg(XH_X, X, tol=tol ** 2, maxiter=maxiter,\n",
      "/opt/conda/lib/python3.11/site-packages/scipy/sparse/linalg/_eigen/_svds.py:487: UserWarning: Exited postprocessing with accuracies \n",
      "[0.06720481]\n",
      "not reaching the requested tolerance 6.103515625e-05.\n",
      "  _, eigvec = lobpcg(XH_X, X, tol=tol ** 2, maxiter=maxiter,\n"
     ]
    },
    {
     "name": "stdout",
     "output_type": "stream",
     "text": [
      "Sample 24/70\n"
     ]
    },
    {
     "name": "stderr",
     "output_type": "stream",
     "text": [
      "/opt/conda/lib/python3.11/site-packages/scipy/sparse/linalg/_eigen/_svds.py:487: UserWarning: Exited at iteration 20 with accuracies \n",
      "[0.21719872]\n",
      "not reaching the requested tolerance 6.103515625e-05.\n",
      "Use iteration 21 instead with accuracy \n",
      "0.2171987220825411.\n",
      "\n",
      "  _, eigvec = lobpcg(XH_X, X, tol=tol ** 2, maxiter=maxiter,\n",
      "/opt/conda/lib/python3.11/site-packages/scipy/sparse/linalg/_eigen/_svds.py:487: UserWarning: Exited postprocessing with accuracies \n",
      "[0.21719872]\n",
      "not reaching the requested tolerance 6.103515625e-05.\n",
      "  _, eigvec = lobpcg(XH_X, X, tol=tol ** 2, maxiter=maxiter,\n"
     ]
    },
    {
     "name": "stdout",
     "output_type": "stream",
     "text": [
      "Sample 25/70\n"
     ]
    },
    {
     "name": "stderr",
     "output_type": "stream",
     "text": [
      "/opt/conda/lib/python3.11/site-packages/scipy/sparse/linalg/_eigen/_svds.py:487: UserWarning: Exited at iteration 20 with accuracies \n",
      "[0.01518194]\n",
      "not reaching the requested tolerance 6.103515625e-05.\n",
      "Use iteration 21 instead with accuracy \n",
      "0.01518193821295293.\n",
      "\n",
      "  _, eigvec = lobpcg(XH_X, X, tol=tol ** 2, maxiter=maxiter,\n",
      "/opt/conda/lib/python3.11/site-packages/scipy/sparse/linalg/_eigen/_svds.py:487: UserWarning: Exited postprocessing with accuracies \n",
      "[0.01518194]\n",
      "not reaching the requested tolerance 6.103515625e-05.\n",
      "  _, eigvec = lobpcg(XH_X, X, tol=tol ** 2, maxiter=maxiter,\n"
     ]
    },
    {
     "name": "stdout",
     "output_type": "stream",
     "text": [
      "Sample 26/70\n"
     ]
    },
    {
     "name": "stderr",
     "output_type": "stream",
     "text": [
      "/opt/conda/lib/python3.11/site-packages/scipy/sparse/linalg/_eigen/_svds.py:487: UserWarning: Exited at iteration 20 with accuracies \n",
      "[0.57691271]\n",
      "not reaching the requested tolerance 6.103515625e-05.\n",
      "Use iteration 14 instead with accuracy \n",
      "0.06555508075722194.\n",
      "\n",
      "  _, eigvec = lobpcg(XH_X, X, tol=tol ** 2, maxiter=maxiter,\n",
      "/opt/conda/lib/python3.11/site-packages/scipy/sparse/linalg/_eigen/_svds.py:487: UserWarning: Exited postprocessing with accuracies \n",
      "[0.06555508]\n",
      "not reaching the requested tolerance 6.103515625e-05.\n",
      "  _, eigvec = lobpcg(XH_X, X, tol=tol ** 2, maxiter=maxiter,\n"
     ]
    },
    {
     "name": "stdout",
     "output_type": "stream",
     "text": [
      "Sample 27/70\n"
     ]
    },
    {
     "name": "stderr",
     "output_type": "stream",
     "text": [
      "/opt/conda/lib/python3.11/site-packages/scipy/sparse/linalg/_eigen/_svds.py:487: UserWarning: Exited at iteration 20 with accuracies \n",
      "[0.00217292]\n",
      "not reaching the requested tolerance 6.103515625e-05.\n",
      "Use iteration 21 instead with accuracy \n",
      "0.0021729181322495536.\n",
      "\n",
      "  _, eigvec = lobpcg(XH_X, X, tol=tol ** 2, maxiter=maxiter,\n",
      "/opt/conda/lib/python3.11/site-packages/scipy/sparse/linalg/_eigen/_svds.py:487: UserWarning: Exited postprocessing with accuracies \n",
      "[0.00217292]\n",
      "not reaching the requested tolerance 6.103515625e-05.\n",
      "  _, eigvec = lobpcg(XH_X, X, tol=tol ** 2, maxiter=maxiter,\n"
     ]
    },
    {
     "name": "stdout",
     "output_type": "stream",
     "text": [
      "Sample 28/70\n"
     ]
    },
    {
     "name": "stderr",
     "output_type": "stream",
     "text": [
      "/opt/conda/lib/python3.11/site-packages/scipy/sparse/linalg/_eigen/_svds.py:487: UserWarning: Exited at iteration 20 with accuracies \n",
      "[0.06633067]\n",
      "not reaching the requested tolerance 6.103515625e-05.\n",
      "Use iteration 21 instead with accuracy \n",
      "0.06633067376247381.\n",
      "\n",
      "  _, eigvec = lobpcg(XH_X, X, tol=tol ** 2, maxiter=maxiter,\n",
      "/opt/conda/lib/python3.11/site-packages/scipy/sparse/linalg/_eigen/_svds.py:487: UserWarning: Exited postprocessing with accuracies \n",
      "[0.06633067]\n",
      "not reaching the requested tolerance 6.103515625e-05.\n",
      "  _, eigvec = lobpcg(XH_X, X, tol=tol ** 2, maxiter=maxiter,\n"
     ]
    },
    {
     "name": "stdout",
     "output_type": "stream",
     "text": [
      "Sample 29/70\n"
     ]
    },
    {
     "name": "stderr",
     "output_type": "stream",
     "text": [
      "/opt/conda/lib/python3.11/site-packages/scipy/sparse/linalg/_eigen/_svds.py:487: UserWarning: Exited at iteration 20 with accuracies \n",
      "[0.03445955]\n",
      "not reaching the requested tolerance 6.103515625e-05.\n",
      "Use iteration 20 instead with accuracy \n",
      "0.013821358245921081.\n",
      "\n",
      "  _, eigvec = lobpcg(XH_X, X, tol=tol ** 2, maxiter=maxiter,\n",
      "/opt/conda/lib/python3.11/site-packages/scipy/sparse/linalg/_eigen/_svds.py:487: UserWarning: Exited postprocessing with accuracies \n",
      "[0.01382136]\n",
      "not reaching the requested tolerance 6.103515625e-05.\n",
      "  _, eigvec = lobpcg(XH_X, X, tol=tol ** 2, maxiter=maxiter,\n"
     ]
    },
    {
     "name": "stdout",
     "output_type": "stream",
     "text": [
      "Sample 30/70\n"
     ]
    },
    {
     "name": "stderr",
     "output_type": "stream",
     "text": [
      "/opt/conda/lib/python3.11/site-packages/scipy/sparse/linalg/_eigen/_svds.py:487: UserWarning: Exited at iteration 20 with accuracies \n",
      "[0.00378169]\n",
      "not reaching the requested tolerance 6.103515625e-05.\n",
      "Use iteration 21 instead with accuracy \n",
      "0.0037816908824561627.\n",
      "\n",
      "  _, eigvec = lobpcg(XH_X, X, tol=tol ** 2, maxiter=maxiter,\n",
      "/opt/conda/lib/python3.11/site-packages/scipy/sparse/linalg/_eigen/_svds.py:487: UserWarning: Exited postprocessing with accuracies \n",
      "[0.00378169]\n",
      "not reaching the requested tolerance 6.103515625e-05.\n",
      "  _, eigvec = lobpcg(XH_X, X, tol=tol ** 2, maxiter=maxiter,\n"
     ]
    },
    {
     "name": "stdout",
     "output_type": "stream",
     "text": [
      "Sample 31/70\n"
     ]
    },
    {
     "name": "stderr",
     "output_type": "stream",
     "text": [
      "/opt/conda/lib/python3.11/site-packages/scipy/sparse/linalg/_eigen/_svds.py:487: UserWarning: Exited at iteration 20 with accuracies \n",
      "[0.03541535]\n",
      "not reaching the requested tolerance 6.103515625e-05.\n",
      "Use iteration 16 instead with accuracy \n",
      "0.023450446170326787.\n",
      "\n",
      "  _, eigvec = lobpcg(XH_X, X, tol=tol ** 2, maxiter=maxiter,\n",
      "/opt/conda/lib/python3.11/site-packages/scipy/sparse/linalg/_eigen/_svds.py:487: UserWarning: Exited postprocessing with accuracies \n",
      "[0.02345045]\n",
      "not reaching the requested tolerance 6.103515625e-05.\n",
      "  _, eigvec = lobpcg(XH_X, X, tol=tol ** 2, maxiter=maxiter,\n"
     ]
    },
    {
     "name": "stdout",
     "output_type": "stream",
     "text": [
      "Sample 32/70\n"
     ]
    },
    {
     "name": "stderr",
     "output_type": "stream",
     "text": [
      "/opt/conda/lib/python3.11/site-packages/scipy/sparse/linalg/_eigen/_svds.py:487: UserWarning: Exited at iteration 20 with accuracies \n",
      "[0.10453437]\n",
      "not reaching the requested tolerance 6.103515625e-05.\n",
      "Use iteration 19 instead with accuracy \n",
      "0.0850839230662856.\n",
      "\n",
      "  _, eigvec = lobpcg(XH_X, X, tol=tol ** 2, maxiter=maxiter,\n",
      "/opt/conda/lib/python3.11/site-packages/scipy/sparse/linalg/_eigen/_svds.py:487: UserWarning: Exited postprocessing with accuracies \n",
      "[0.08508392]\n",
      "not reaching the requested tolerance 6.103515625e-05.\n",
      "  _, eigvec = lobpcg(XH_X, X, tol=tol ** 2, maxiter=maxiter,\n"
     ]
    },
    {
     "name": "stdout",
     "output_type": "stream",
     "text": [
      "Sample 33/70\n"
     ]
    },
    {
     "name": "stderr",
     "output_type": "stream",
     "text": [
      "/opt/conda/lib/python3.11/site-packages/scipy/sparse/linalg/_eigen/_svds.py:487: UserWarning: Exited at iteration 20 with accuracies \n",
      "[0.02241721]\n",
      "not reaching the requested tolerance 6.103515625e-05.\n",
      "Use iteration 21 instead with accuracy \n",
      "0.022417214185775435.\n",
      "\n",
      "  _, eigvec = lobpcg(XH_X, X, tol=tol ** 2, maxiter=maxiter,\n",
      "/opt/conda/lib/python3.11/site-packages/scipy/sparse/linalg/_eigen/_svds.py:487: UserWarning: Exited postprocessing with accuracies \n",
      "[0.02241721]\n",
      "not reaching the requested tolerance 6.103515625e-05.\n",
      "  _, eigvec = lobpcg(XH_X, X, tol=tol ** 2, maxiter=maxiter,\n"
     ]
    },
    {
     "name": "stdout",
     "output_type": "stream",
     "text": [
      "Sample 34/70\n"
     ]
    },
    {
     "name": "stderr",
     "output_type": "stream",
     "text": [
      "/opt/conda/lib/python3.11/site-packages/scipy/sparse/linalg/_eigen/_svds.py:487: UserWarning: Exited at iteration 20 with accuracies \n",
      "[0.19536436]\n",
      "not reaching the requested tolerance 6.103515625e-05.\n",
      "Use iteration 19 instead with accuracy \n",
      "0.09397585200463779.\n",
      "\n",
      "  _, eigvec = lobpcg(XH_X, X, tol=tol ** 2, maxiter=maxiter,\n",
      "/opt/conda/lib/python3.11/site-packages/scipy/sparse/linalg/_eigen/_svds.py:487: UserWarning: Exited postprocessing with accuracies \n",
      "[0.09397585]\n",
      "not reaching the requested tolerance 6.103515625e-05.\n",
      "  _, eigvec = lobpcg(XH_X, X, tol=tol ** 2, maxiter=maxiter,\n"
     ]
    },
    {
     "name": "stdout",
     "output_type": "stream",
     "text": [
      "Sample 35/70\n"
     ]
    },
    {
     "name": "stderr",
     "output_type": "stream",
     "text": [
      "/opt/conda/lib/python3.11/site-packages/scipy/sparse/linalg/_eigen/_svds.py:487: UserWarning: Exited at iteration 20 with accuracies \n",
      "[0.00818523]\n",
      "not reaching the requested tolerance 6.103515625e-05.\n",
      "Use iteration 21 instead with accuracy \n",
      "0.008185234907586037.\n",
      "\n",
      "  _, eigvec = lobpcg(XH_X, X, tol=tol ** 2, maxiter=maxiter,\n",
      "/opt/conda/lib/python3.11/site-packages/scipy/sparse/linalg/_eigen/_svds.py:487: UserWarning: Exited postprocessing with accuracies \n",
      "[0.00818523]\n",
      "not reaching the requested tolerance 6.103515625e-05.\n",
      "  _, eigvec = lobpcg(XH_X, X, tol=tol ** 2, maxiter=maxiter,\n"
     ]
    },
    {
     "name": "stdout",
     "output_type": "stream",
     "text": [
      "Sample 36/70\n"
     ]
    },
    {
     "name": "stderr",
     "output_type": "stream",
     "text": [
      "/opt/conda/lib/python3.11/site-packages/scipy/sparse/linalg/_eigen/_svds.py:487: UserWarning: Exited at iteration 20 with accuracies \n",
      "[0.1403403]\n",
      "not reaching the requested tolerance 6.103515625e-05.\n",
      "Use iteration 21 instead with accuracy \n",
      "0.14034029585049818.\n",
      "\n",
      "  _, eigvec = lobpcg(XH_X, X, tol=tol ** 2, maxiter=maxiter,\n",
      "/opt/conda/lib/python3.11/site-packages/scipy/sparse/linalg/_eigen/_svds.py:487: UserWarning: Exited postprocessing with accuracies \n",
      "[0.1403403]\n",
      "not reaching the requested tolerance 6.103515625e-05.\n",
      "  _, eigvec = lobpcg(XH_X, X, tol=tol ** 2, maxiter=maxiter,\n"
     ]
    },
    {
     "name": "stdout",
     "output_type": "stream",
     "text": [
      "Sample 37/70\n"
     ]
    },
    {
     "name": "stderr",
     "output_type": "stream",
     "text": [
      "/opt/conda/lib/python3.11/site-packages/scipy/sparse/linalg/_eigen/_svds.py:487: UserWarning: Exited at iteration 20 with accuracies \n",
      "[0.11192212]\n",
      "not reaching the requested tolerance 6.103515625e-05.\n",
      "Use iteration 19 instead with accuracy \n",
      "0.10493677835820084.\n",
      "\n",
      "  _, eigvec = lobpcg(XH_X, X, tol=tol ** 2, maxiter=maxiter,\n",
      "/opt/conda/lib/python3.11/site-packages/scipy/sparse/linalg/_eigen/_svds.py:487: UserWarning: Exited postprocessing with accuracies \n",
      "[0.10493678]\n",
      "not reaching the requested tolerance 6.103515625e-05.\n",
      "  _, eigvec = lobpcg(XH_X, X, tol=tol ** 2, maxiter=maxiter,\n"
     ]
    },
    {
     "name": "stdout",
     "output_type": "stream",
     "text": [
      "Sample 38/70\n"
     ]
    },
    {
     "name": "stderr",
     "output_type": "stream",
     "text": [
      "/opt/conda/lib/python3.11/site-packages/scipy/sparse/linalg/_eigen/_svds.py:487: UserWarning: Exited at iteration 20 with accuracies \n",
      "[0.04579446]\n",
      "not reaching the requested tolerance 6.103515625e-05.\n",
      "Use iteration 21 instead with accuracy \n",
      "0.045794463673177147.\n",
      "\n",
      "  _, eigvec = lobpcg(XH_X, X, tol=tol ** 2, maxiter=maxiter,\n",
      "/opt/conda/lib/python3.11/site-packages/scipy/sparse/linalg/_eigen/_svds.py:487: UserWarning: Exited postprocessing with accuracies \n",
      "[0.04579446]\n",
      "not reaching the requested tolerance 6.103515625e-05.\n",
      "  _, eigvec = lobpcg(XH_X, X, tol=tol ** 2, maxiter=maxiter,\n"
     ]
    },
    {
     "name": "stdout",
     "output_type": "stream",
     "text": [
      "Sample 39/70\n"
     ]
    },
    {
     "name": "stderr",
     "output_type": "stream",
     "text": [
      "/opt/conda/lib/python3.11/site-packages/scipy/sparse/linalg/_eigen/_svds.py:487: UserWarning: Exited at iteration 20 with accuracies \n",
      "[0.04326063]\n",
      "not reaching the requested tolerance 6.103515625e-05.\n",
      "Use iteration 21 instead with accuracy \n",
      "0.04326063485267965.\n",
      "\n",
      "  _, eigvec = lobpcg(XH_X, X, tol=tol ** 2, maxiter=maxiter,\n",
      "/opt/conda/lib/python3.11/site-packages/scipy/sparse/linalg/_eigen/_svds.py:487: UserWarning: Exited postprocessing with accuracies \n",
      "[0.04326063]\n",
      "not reaching the requested tolerance 6.103515625e-05.\n",
      "  _, eigvec = lobpcg(XH_X, X, tol=tol ** 2, maxiter=maxiter,\n"
     ]
    },
    {
     "name": "stdout",
     "output_type": "stream",
     "text": [
      "Sample 40/70\n"
     ]
    },
    {
     "name": "stderr",
     "output_type": "stream",
     "text": [
      "/opt/conda/lib/python3.11/site-packages/scipy/sparse/linalg/_eigen/_svds.py:487: UserWarning: Exited at iteration 20 with accuracies \n",
      "[0.01729145]\n",
      "not reaching the requested tolerance 6.103515625e-05.\n",
      "Use iteration 21 instead with accuracy \n",
      "0.017291454866874174.\n",
      "\n",
      "  _, eigvec = lobpcg(XH_X, X, tol=tol ** 2, maxiter=maxiter,\n",
      "/opt/conda/lib/python3.11/site-packages/scipy/sparse/linalg/_eigen/_svds.py:487: UserWarning: Exited postprocessing with accuracies \n",
      "[0.01729145]\n",
      "not reaching the requested tolerance 6.103515625e-05.\n",
      "  _, eigvec = lobpcg(XH_X, X, tol=tol ** 2, maxiter=maxiter,\n"
     ]
    },
    {
     "name": "stdout",
     "output_type": "stream",
     "text": [
      "Sample 41/70\n"
     ]
    },
    {
     "name": "stderr",
     "output_type": "stream",
     "text": [
      "/opt/conda/lib/python3.11/site-packages/scipy/sparse/linalg/_eigen/_svds.py:487: UserWarning: Exited at iteration 20 with accuracies \n",
      "[0.49575053]\n",
      "not reaching the requested tolerance 6.103515625e-05.\n",
      "Use iteration 16 instead with accuracy \n",
      "0.08998616642254302.\n",
      "\n",
      "  _, eigvec = lobpcg(XH_X, X, tol=tol ** 2, maxiter=maxiter,\n",
      "/opt/conda/lib/python3.11/site-packages/scipy/sparse/linalg/_eigen/_svds.py:487: UserWarning: Exited postprocessing with accuracies \n",
      "[0.08998617]\n",
      "not reaching the requested tolerance 6.103515625e-05.\n",
      "  _, eigvec = lobpcg(XH_X, X, tol=tol ** 2, maxiter=maxiter,\n"
     ]
    },
    {
     "name": "stdout",
     "output_type": "stream",
     "text": [
      "Sample 42/70\n"
     ]
    },
    {
     "name": "stderr",
     "output_type": "stream",
     "text": [
      "/opt/conda/lib/python3.11/site-packages/scipy/sparse/linalg/_eigen/_svds.py:487: UserWarning: Exited at iteration 20 with accuracies \n",
      "[0.36030322]\n",
      "not reaching the requested tolerance 6.103515625e-05.\n",
      "Use iteration 19 instead with accuracy \n",
      "0.2921557533315702.\n",
      "\n",
      "  _, eigvec = lobpcg(XH_X, X, tol=tol ** 2, maxiter=maxiter,\n",
      "/opt/conda/lib/python3.11/site-packages/scipy/sparse/linalg/_eigen/_svds.py:487: UserWarning: Exited postprocessing with accuracies \n",
      "[0.29215575]\n",
      "not reaching the requested tolerance 6.103515625e-05.\n",
      "  _, eigvec = lobpcg(XH_X, X, tol=tol ** 2, maxiter=maxiter,\n"
     ]
    },
    {
     "name": "stdout",
     "output_type": "stream",
     "text": [
      "Sample 43/70\n",
      "Sample 44/70\n"
     ]
    },
    {
     "name": "stderr",
     "output_type": "stream",
     "text": [
      "/opt/conda/lib/python3.11/site-packages/scipy/sparse/linalg/_eigen/_svds.py:487: UserWarning: Exited at iteration 20 with accuracies \n",
      "[0.15690981]\n",
      "not reaching the requested tolerance 6.103515625e-05.\n",
      "Use iteration 16 instead with accuracy \n",
      "0.136812130837152.\n",
      "\n",
      "  _, eigvec = lobpcg(XH_X, X, tol=tol ** 2, maxiter=maxiter,\n",
      "/opt/conda/lib/python3.11/site-packages/scipy/sparse/linalg/_eigen/_svds.py:487: UserWarning: Exited postprocessing with accuracies \n",
      "[0.13681213]\n",
      "not reaching the requested tolerance 6.103515625e-05.\n",
      "  _, eigvec = lobpcg(XH_X, X, tol=tol ** 2, maxiter=maxiter,\n"
     ]
    },
    {
     "name": "stdout",
     "output_type": "stream",
     "text": [
      "Sample 45/70\n"
     ]
    },
    {
     "name": "stderr",
     "output_type": "stream",
     "text": [
      "/opt/conda/lib/python3.11/site-packages/scipy/sparse/linalg/_eigen/_svds.py:487: UserWarning: Exited at iteration 20 with accuracies \n",
      "[0.00073755]\n",
      "not reaching the requested tolerance 6.103515625e-05.\n",
      "Use iteration 20 instead with accuracy \n",
      "0.0005061592838713969.\n",
      "\n",
      "  _, eigvec = lobpcg(XH_X, X, tol=tol ** 2, maxiter=maxiter,\n",
      "/opt/conda/lib/python3.11/site-packages/scipy/sparse/linalg/_eigen/_svds.py:487: UserWarning: Exited postprocessing with accuracies \n",
      "[0.00050616]\n",
      "not reaching the requested tolerance 6.103515625e-05.\n",
      "  _, eigvec = lobpcg(XH_X, X, tol=tol ** 2, maxiter=maxiter,\n"
     ]
    },
    {
     "name": "stdout",
     "output_type": "stream",
     "text": [
      "Sample 46/70\n"
     ]
    },
    {
     "name": "stderr",
     "output_type": "stream",
     "text": [
      "/opt/conda/lib/python3.11/site-packages/scipy/sparse/linalg/_eigen/_svds.py:487: UserWarning: Exited at iteration 20 with accuracies \n",
      "[0.06145458]\n",
      "not reaching the requested tolerance 6.103515625e-05.\n",
      "Use iteration 21 instead with accuracy \n",
      "0.061454577953720516.\n",
      "\n",
      "  _, eigvec = lobpcg(XH_X, X, tol=tol ** 2, maxiter=maxiter,\n",
      "/opt/conda/lib/python3.11/site-packages/scipy/sparse/linalg/_eigen/_svds.py:487: UserWarning: Exited postprocessing with accuracies \n",
      "[0.06145458]\n",
      "not reaching the requested tolerance 6.103515625e-05.\n",
      "  _, eigvec = lobpcg(XH_X, X, tol=tol ** 2, maxiter=maxiter,\n"
     ]
    },
    {
     "name": "stdout",
     "output_type": "stream",
     "text": [
      "Sample 47/70\n"
     ]
    },
    {
     "name": "stderr",
     "output_type": "stream",
     "text": [
      "/opt/conda/lib/python3.11/site-packages/scipy/sparse/linalg/_eigen/_svds.py:487: UserWarning: Exited at iteration 20 with accuracies \n",
      "[1.21498314]\n",
      "not reaching the requested tolerance 6.103515625e-05.\n",
      "Use iteration 17 instead with accuracy \n",
      "0.9991482214253334.\n",
      "\n",
      "  _, eigvec = lobpcg(XH_X, X, tol=tol ** 2, maxiter=maxiter,\n",
      "/opt/conda/lib/python3.11/site-packages/scipy/sparse/linalg/_eigen/_svds.py:487: UserWarning: Exited postprocessing with accuracies \n",
      "[0.99914822]\n",
      "not reaching the requested tolerance 6.103515625e-05.\n",
      "  _, eigvec = lobpcg(XH_X, X, tol=tol ** 2, maxiter=maxiter,\n"
     ]
    },
    {
     "name": "stdout",
     "output_type": "stream",
     "text": [
      "Sample 48/70\n"
     ]
    },
    {
     "name": "stderr",
     "output_type": "stream",
     "text": [
      "/opt/conda/lib/python3.11/site-packages/scipy/sparse/linalg/_eigen/_svds.py:487: UserWarning: Exited at iteration 20 with accuracies \n",
      "[0.02045197]\n",
      "not reaching the requested tolerance 6.103515625e-05.\n",
      "Use iteration 21 instead with accuracy \n",
      "0.020451973891096157.\n",
      "\n",
      "  _, eigvec = lobpcg(XH_X, X, tol=tol ** 2, maxiter=maxiter,\n",
      "/opt/conda/lib/python3.11/site-packages/scipy/sparse/linalg/_eigen/_svds.py:487: UserWarning: Exited postprocessing with accuracies \n",
      "[0.02045197]\n",
      "not reaching the requested tolerance 6.103515625e-05.\n",
      "  _, eigvec = lobpcg(XH_X, X, tol=tol ** 2, maxiter=maxiter,\n"
     ]
    },
    {
     "name": "stdout",
     "output_type": "stream",
     "text": [
      "Sample 49/70\n"
     ]
    },
    {
     "name": "stderr",
     "output_type": "stream",
     "text": [
      "/opt/conda/lib/python3.11/site-packages/scipy/sparse/linalg/_eigen/_svds.py:487: UserWarning: Exited at iteration 20 with accuracies \n",
      "[0.14712069]\n",
      "not reaching the requested tolerance 6.103515625e-05.\n",
      "Use iteration 21 instead with accuracy \n",
      "0.14712068762020103.\n",
      "\n",
      "  _, eigvec = lobpcg(XH_X, X, tol=tol ** 2, maxiter=maxiter,\n",
      "/opt/conda/lib/python3.11/site-packages/scipy/sparse/linalg/_eigen/_svds.py:487: UserWarning: Exited postprocessing with accuracies \n",
      "[0.14712069]\n",
      "not reaching the requested tolerance 6.103515625e-05.\n",
      "  _, eigvec = lobpcg(XH_X, X, tol=tol ** 2, maxiter=maxiter,\n"
     ]
    },
    {
     "name": "stdout",
     "output_type": "stream",
     "text": [
      "Sample 50/70\n"
     ]
    },
    {
     "name": "stderr",
     "output_type": "stream",
     "text": [
      "/opt/conda/lib/python3.11/site-packages/scipy/sparse/linalg/_eigen/_svds.py:487: UserWarning: Exited at iteration 20 with accuracies \n",
      "[0.02757493]\n",
      "not reaching the requested tolerance 6.103515625e-05.\n",
      "Use iteration 21 instead with accuracy \n",
      "0.027574929517122253.\n",
      "\n",
      "  _, eigvec = lobpcg(XH_X, X, tol=tol ** 2, maxiter=maxiter,\n",
      "/opt/conda/lib/python3.11/site-packages/scipy/sparse/linalg/_eigen/_svds.py:487: UserWarning: Exited postprocessing with accuracies \n",
      "[0.02757493]\n",
      "not reaching the requested tolerance 6.103515625e-05.\n",
      "  _, eigvec = lobpcg(XH_X, X, tol=tol ** 2, maxiter=maxiter,\n"
     ]
    },
    {
     "name": "stdout",
     "output_type": "stream",
     "text": [
      "Sample 51/70\n"
     ]
    },
    {
     "name": "stderr",
     "output_type": "stream",
     "text": [
      "/opt/conda/lib/python3.11/site-packages/scipy/sparse/linalg/_eigen/_svds.py:487: UserWarning: Exited at iteration 20 with accuracies \n",
      "[0.03775013]\n",
      "not reaching the requested tolerance 6.103515625e-05.\n",
      "Use iteration 21 instead with accuracy \n",
      "0.03775012615695801.\n",
      "\n",
      "  _, eigvec = lobpcg(XH_X, X, tol=tol ** 2, maxiter=maxiter,\n",
      "/opt/conda/lib/python3.11/site-packages/scipy/sparse/linalg/_eigen/_svds.py:487: UserWarning: Exited postprocessing with accuracies \n",
      "[0.03775013]\n",
      "not reaching the requested tolerance 6.103515625e-05.\n",
      "  _, eigvec = lobpcg(XH_X, X, tol=tol ** 2, maxiter=maxiter,\n"
     ]
    },
    {
     "name": "stdout",
     "output_type": "stream",
     "text": [
      "Sample 52/70\n"
     ]
    },
    {
     "name": "stderr",
     "output_type": "stream",
     "text": [
      "/opt/conda/lib/python3.11/site-packages/scipy/sparse/linalg/_eigen/_svds.py:487: UserWarning: Exited at iteration 20 with accuracies \n",
      "[0.24435517]\n",
      "not reaching the requested tolerance 6.103515625e-05.\n",
      "Use iteration 17 instead with accuracy \n",
      "0.035135069709972724.\n",
      "\n",
      "  _, eigvec = lobpcg(XH_X, X, tol=tol ** 2, maxiter=maxiter,\n",
      "/opt/conda/lib/python3.11/site-packages/scipy/sparse/linalg/_eigen/_svds.py:487: UserWarning: Exited postprocessing with accuracies \n",
      "[0.03513507]\n",
      "not reaching the requested tolerance 6.103515625e-05.\n",
      "  _, eigvec = lobpcg(XH_X, X, tol=tol ** 2, maxiter=maxiter,\n"
     ]
    },
    {
     "name": "stdout",
     "output_type": "stream",
     "text": [
      "Sample 53/70\n"
     ]
    },
    {
     "name": "stderr",
     "output_type": "stream",
     "text": [
      "/opt/conda/lib/python3.11/site-packages/scipy/sparse/linalg/_eigen/_svds.py:487: UserWarning: Exited at iteration 20 with accuracies \n",
      "[0.25546133]\n",
      "not reaching the requested tolerance 6.103515625e-05.\n",
      "Use iteration 21 instead with accuracy \n",
      "0.2554613324243129.\n",
      "\n",
      "  _, eigvec = lobpcg(XH_X, X, tol=tol ** 2, maxiter=maxiter,\n",
      "/opt/conda/lib/python3.11/site-packages/scipy/sparse/linalg/_eigen/_svds.py:487: UserWarning: Exited postprocessing with accuracies \n",
      "[0.25546133]\n",
      "not reaching the requested tolerance 6.103515625e-05.\n",
      "  _, eigvec = lobpcg(XH_X, X, tol=tol ** 2, maxiter=maxiter,\n"
     ]
    },
    {
     "name": "stdout",
     "output_type": "stream",
     "text": [
      "Sample 54/70\n"
     ]
    },
    {
     "name": "stderr",
     "output_type": "stream",
     "text": [
      "/opt/conda/lib/python3.11/site-packages/scipy/sparse/linalg/_eigen/_svds.py:487: UserWarning: Exited at iteration 20 with accuracies \n",
      "[0.01938878]\n",
      "not reaching the requested tolerance 6.103515625e-05.\n",
      "Use iteration 20 instead with accuracy \n",
      "0.012180435187240718.\n",
      "\n",
      "  _, eigvec = lobpcg(XH_X, X, tol=tol ** 2, maxiter=maxiter,\n",
      "/opt/conda/lib/python3.11/site-packages/scipy/sparse/linalg/_eigen/_svds.py:487: UserWarning: Exited postprocessing with accuracies \n",
      "[0.01218044]\n",
      "not reaching the requested tolerance 6.103515625e-05.\n",
      "  _, eigvec = lobpcg(XH_X, X, tol=tol ** 2, maxiter=maxiter,\n"
     ]
    },
    {
     "name": "stdout",
     "output_type": "stream",
     "text": [
      "Sample 55/70\n"
     ]
    },
    {
     "name": "stderr",
     "output_type": "stream",
     "text": [
      "/opt/conda/lib/python3.11/site-packages/scipy/sparse/linalg/_eigen/_svds.py:487: UserWarning: Exited at iteration 20 with accuracies \n",
      "[0.11041993]\n",
      "not reaching the requested tolerance 6.103515625e-05.\n",
      "Use iteration 21 instead with accuracy \n",
      "0.11041993311101726.\n",
      "\n",
      "  _, eigvec = lobpcg(XH_X, X, tol=tol ** 2, maxiter=maxiter,\n",
      "/opt/conda/lib/python3.11/site-packages/scipy/sparse/linalg/_eigen/_svds.py:487: UserWarning: Exited postprocessing with accuracies \n",
      "[0.11041993]\n",
      "not reaching the requested tolerance 6.103515625e-05.\n",
      "  _, eigvec = lobpcg(XH_X, X, tol=tol ** 2, maxiter=maxiter,\n"
     ]
    },
    {
     "name": "stdout",
     "output_type": "stream",
     "text": [
      "Sample 56/70\n",
      "Sample 57/70\n"
     ]
    },
    {
     "name": "stderr",
     "output_type": "stream",
     "text": [
      "/opt/conda/lib/python3.11/site-packages/scipy/sparse/linalg/_eigen/_svds.py:487: UserWarning: Exited at iteration 20 with accuracies \n",
      "[0.07432352]\n",
      "not reaching the requested tolerance 6.103515625e-05.\n",
      "Use iteration 21 instead with accuracy \n",
      "0.07432351892226563.\n",
      "\n",
      "  _, eigvec = lobpcg(XH_X, X, tol=tol ** 2, maxiter=maxiter,\n",
      "/opt/conda/lib/python3.11/site-packages/scipy/sparse/linalg/_eigen/_svds.py:487: UserWarning: Exited postprocessing with accuracies \n",
      "[0.07432352]\n",
      "not reaching the requested tolerance 6.103515625e-05.\n",
      "  _, eigvec = lobpcg(XH_X, X, tol=tol ** 2, maxiter=maxiter,\n"
     ]
    },
    {
     "name": "stdout",
     "output_type": "stream",
     "text": [
      "Sample 58/70\n"
     ]
    },
    {
     "name": "stderr",
     "output_type": "stream",
     "text": [
      "/opt/conda/lib/python3.11/site-packages/scipy/sparse/linalg/_eigen/_svds.py:487: UserWarning: Exited at iteration 20 with accuracies \n",
      "[0.00604326]\n",
      "not reaching the requested tolerance 6.103515625e-05.\n",
      "Use iteration 21 instead with accuracy \n",
      "0.006043263125318011.\n",
      "\n",
      "  _, eigvec = lobpcg(XH_X, X, tol=tol ** 2, maxiter=maxiter,\n",
      "/opt/conda/lib/python3.11/site-packages/scipy/sparse/linalg/_eigen/_svds.py:487: UserWarning: Exited postprocessing with accuracies \n",
      "[0.00604326]\n",
      "not reaching the requested tolerance 6.103515625e-05.\n",
      "  _, eigvec = lobpcg(XH_X, X, tol=tol ** 2, maxiter=maxiter,\n"
     ]
    },
    {
     "name": "stdout",
     "output_type": "stream",
     "text": [
      "Sample 59/70\n"
     ]
    },
    {
     "name": "stderr",
     "output_type": "stream",
     "text": [
      "/opt/conda/lib/python3.11/site-packages/scipy/sparse/linalg/_eigen/_svds.py:487: UserWarning: Exited at iteration 20 with accuracies \n",
      "[0.27422569]\n",
      "not reaching the requested tolerance 6.103515625e-05.\n",
      "Use iteration 15 instead with accuracy \n",
      "0.14485452852665837.\n",
      "\n",
      "  _, eigvec = lobpcg(XH_X, X, tol=tol ** 2, maxiter=maxiter,\n",
      "/opt/conda/lib/python3.11/site-packages/scipy/sparse/linalg/_eigen/_svds.py:487: UserWarning: Exited postprocessing with accuracies \n",
      "[0.14485453]\n",
      "not reaching the requested tolerance 6.103515625e-05.\n",
      "  _, eigvec = lobpcg(XH_X, X, tol=tol ** 2, maxiter=maxiter,\n"
     ]
    },
    {
     "name": "stdout",
     "output_type": "stream",
     "text": [
      "Sample 60/70\n"
     ]
    },
    {
     "name": "stderr",
     "output_type": "stream",
     "text": [
      "/opt/conda/lib/python3.11/site-packages/scipy/sparse/linalg/_eigen/_svds.py:487: UserWarning: Exited at iteration 20 with accuracies \n",
      "[0.00182723]\n",
      "not reaching the requested tolerance 6.103515625e-05.\n",
      "Use iteration 21 instead with accuracy \n",
      "0.001827231600812505.\n",
      "\n",
      "  _, eigvec = lobpcg(XH_X, X, tol=tol ** 2, maxiter=maxiter,\n",
      "/opt/conda/lib/python3.11/site-packages/scipy/sparse/linalg/_eigen/_svds.py:487: UserWarning: Exited postprocessing with accuracies \n",
      "[0.00182723]\n",
      "not reaching the requested tolerance 6.103515625e-05.\n",
      "  _, eigvec = lobpcg(XH_X, X, tol=tol ** 2, maxiter=maxiter,\n"
     ]
    },
    {
     "name": "stdout",
     "output_type": "stream",
     "text": [
      "Sample 61/70\n"
     ]
    },
    {
     "name": "stderr",
     "output_type": "stream",
     "text": [
      "/opt/conda/lib/python3.11/site-packages/scipy/sparse/linalg/_eigen/_svds.py:487: UserWarning: Exited at iteration 20 with accuracies \n",
      "[0.00277756]\n",
      "not reaching the requested tolerance 6.103515625e-05.\n",
      "Use iteration 20 instead with accuracy \n",
      "0.002760740316936904.\n",
      "\n",
      "  _, eigvec = lobpcg(XH_X, X, tol=tol ** 2, maxiter=maxiter,\n",
      "/opt/conda/lib/python3.11/site-packages/scipy/sparse/linalg/_eigen/_svds.py:487: UserWarning: Exited postprocessing with accuracies \n",
      "[0.00276074]\n",
      "not reaching the requested tolerance 6.103515625e-05.\n",
      "  _, eigvec = lobpcg(XH_X, X, tol=tol ** 2, maxiter=maxiter,\n"
     ]
    },
    {
     "name": "stdout",
     "output_type": "stream",
     "text": [
      "Sample 62/70\n"
     ]
    },
    {
     "name": "stderr",
     "output_type": "stream",
     "text": [
      "/opt/conda/lib/python3.11/site-packages/scipy/sparse/linalg/_eigen/_svds.py:487: UserWarning: Exited at iteration 20 with accuracies \n",
      "[0.00530327]\n",
      "not reaching the requested tolerance 6.103515625e-05.\n",
      "Use iteration 19 instead with accuracy \n",
      "0.004519469548479041.\n",
      "\n",
      "  _, eigvec = lobpcg(XH_X, X, tol=tol ** 2, maxiter=maxiter,\n",
      "/opt/conda/lib/python3.11/site-packages/scipy/sparse/linalg/_eigen/_svds.py:487: UserWarning: Exited postprocessing with accuracies \n",
      "[0.00451947]\n",
      "not reaching the requested tolerance 6.103515625e-05.\n",
      "  _, eigvec = lobpcg(XH_X, X, tol=tol ** 2, maxiter=maxiter,\n"
     ]
    },
    {
     "name": "stdout",
     "output_type": "stream",
     "text": [
      "Sample 63/70\n"
     ]
    },
    {
     "name": "stderr",
     "output_type": "stream",
     "text": [
      "/opt/conda/lib/python3.11/site-packages/scipy/sparse/linalg/_eigen/_svds.py:487: UserWarning: Exited at iteration 20 with accuracies \n",
      "[0.00610708]\n",
      "not reaching the requested tolerance 6.103515625e-05.\n",
      "Use iteration 21 instead with accuracy \n",
      "0.006107078035774233.\n",
      "\n",
      "  _, eigvec = lobpcg(XH_X, X, tol=tol ** 2, maxiter=maxiter,\n",
      "/opt/conda/lib/python3.11/site-packages/scipy/sparse/linalg/_eigen/_svds.py:487: UserWarning: Exited postprocessing with accuracies \n",
      "[0.00610708]\n",
      "not reaching the requested tolerance 6.103515625e-05.\n",
      "  _, eigvec = lobpcg(XH_X, X, tol=tol ** 2, maxiter=maxiter,\n"
     ]
    },
    {
     "name": "stdout",
     "output_type": "stream",
     "text": [
      "Sample 64/70\n"
     ]
    },
    {
     "name": "stderr",
     "output_type": "stream",
     "text": [
      "/opt/conda/lib/python3.11/site-packages/scipy/sparse/linalg/_eigen/_svds.py:487: UserWarning: Exited at iteration 20 with accuracies \n",
      "[0.14704215]\n",
      "not reaching the requested tolerance 6.103515625e-05.\n",
      "Use iteration 21 instead with accuracy \n",
      "0.14704215089670183.\n",
      "\n",
      "  _, eigvec = lobpcg(XH_X, X, tol=tol ** 2, maxiter=maxiter,\n",
      "/opt/conda/lib/python3.11/site-packages/scipy/sparse/linalg/_eigen/_svds.py:487: UserWarning: Exited postprocessing with accuracies \n",
      "[0.14704215]\n",
      "not reaching the requested tolerance 6.103515625e-05.\n",
      "  _, eigvec = lobpcg(XH_X, X, tol=tol ** 2, maxiter=maxiter,\n"
     ]
    },
    {
     "name": "stdout",
     "output_type": "stream",
     "text": [
      "Sample 65/70\n"
     ]
    },
    {
     "name": "stderr",
     "output_type": "stream",
     "text": [
      "/opt/conda/lib/python3.11/site-packages/scipy/sparse/linalg/_eigen/_svds.py:487: UserWarning: Exited at iteration 20 with accuracies \n",
      "[0.16417855]\n",
      "not reaching the requested tolerance 6.103515625e-05.\n",
      "Use iteration 21 instead with accuracy \n",
      "0.16417854840720797.\n",
      "\n",
      "  _, eigvec = lobpcg(XH_X, X, tol=tol ** 2, maxiter=maxiter,\n",
      "/opt/conda/lib/python3.11/site-packages/scipy/sparse/linalg/_eigen/_svds.py:487: UserWarning: Exited postprocessing with accuracies \n",
      "[0.16417855]\n",
      "not reaching the requested tolerance 6.103515625e-05.\n",
      "  _, eigvec = lobpcg(XH_X, X, tol=tol ** 2, maxiter=maxiter,\n"
     ]
    },
    {
     "name": "stdout",
     "output_type": "stream",
     "text": [
      "Sample 66/70\n"
     ]
    },
    {
     "name": "stderr",
     "output_type": "stream",
     "text": [
      "/opt/conda/lib/python3.11/site-packages/scipy/sparse/linalg/_eigen/_svds.py:487: UserWarning: Exited at iteration 20 with accuracies \n",
      "[0.00455601]\n",
      "not reaching the requested tolerance 6.103515625e-05.\n",
      "Use iteration 21 instead with accuracy \n",
      "0.004556012069851703.\n",
      "\n",
      "  _, eigvec = lobpcg(XH_X, X, tol=tol ** 2, maxiter=maxiter,\n",
      "/opt/conda/lib/python3.11/site-packages/scipy/sparse/linalg/_eigen/_svds.py:487: UserWarning: Exited postprocessing with accuracies \n",
      "[0.00455601]\n",
      "not reaching the requested tolerance 6.103515625e-05.\n",
      "  _, eigvec = lobpcg(XH_X, X, tol=tol ** 2, maxiter=maxiter,\n"
     ]
    },
    {
     "name": "stdout",
     "output_type": "stream",
     "text": [
      "Sample 67/70\n"
     ]
    },
    {
     "name": "stderr",
     "output_type": "stream",
     "text": [
      "/opt/conda/lib/python3.11/site-packages/scipy/sparse/linalg/_eigen/_svds.py:487: UserWarning: Exited at iteration 20 with accuracies \n",
      "[0.354651]\n",
      "not reaching the requested tolerance 6.103515625e-05.\n",
      "Use iteration 15 instead with accuracy \n",
      "0.0700708030942214.\n",
      "\n",
      "  _, eigvec = lobpcg(XH_X, X, tol=tol ** 2, maxiter=maxiter,\n",
      "/opt/conda/lib/python3.11/site-packages/scipy/sparse/linalg/_eigen/_svds.py:487: UserWarning: Exited postprocessing with accuracies \n",
      "[0.0700708]\n",
      "not reaching the requested tolerance 6.103515625e-05.\n",
      "  _, eigvec = lobpcg(XH_X, X, tol=tol ** 2, maxiter=maxiter,\n"
     ]
    },
    {
     "name": "stdout",
     "output_type": "stream",
     "text": [
      "Sample 68/70\n"
     ]
    },
    {
     "name": "stderr",
     "output_type": "stream",
     "text": [
      "/opt/conda/lib/python3.11/site-packages/scipy/sparse/linalg/_eigen/_svds.py:487: UserWarning: Exited at iteration 20 with accuracies \n",
      "[0.05855191]\n",
      "not reaching the requested tolerance 6.103515625e-05.\n",
      "Use iteration 20 instead with accuracy \n",
      "0.05725827443334758.\n",
      "\n",
      "  _, eigvec = lobpcg(XH_X, X, tol=tol ** 2, maxiter=maxiter,\n",
      "/opt/conda/lib/python3.11/site-packages/scipy/sparse/linalg/_eigen/_svds.py:487: UserWarning: Exited postprocessing with accuracies \n",
      "[0.05725827]\n",
      "not reaching the requested tolerance 6.103515625e-05.\n",
      "  _, eigvec = lobpcg(XH_X, X, tol=tol ** 2, maxiter=maxiter,\n"
     ]
    },
    {
     "name": "stdout",
     "output_type": "stream",
     "text": [
      "Sample 69/70\n"
     ]
    },
    {
     "name": "stderr",
     "output_type": "stream",
     "text": [
      "/opt/conda/lib/python3.11/site-packages/scipy/sparse/linalg/_eigen/_svds.py:487: UserWarning: Exited at iteration 20 with accuracies \n",
      "[0.01592472]\n",
      "not reaching the requested tolerance 6.103515625e-05.\n",
      "Use iteration 21 instead with accuracy \n",
      "0.015924720345502297.\n",
      "\n",
      "  _, eigvec = lobpcg(XH_X, X, tol=tol ** 2, maxiter=maxiter,\n",
      "/opt/conda/lib/python3.11/site-packages/scipy/sparse/linalg/_eigen/_svds.py:487: UserWarning: Exited postprocessing with accuracies \n",
      "[0.01592472]\n",
      "not reaching the requested tolerance 6.103515625e-05.\n",
      "  _, eigvec = lobpcg(XH_X, X, tol=tol ** 2, maxiter=maxiter,\n"
     ]
    },
    {
     "data": {
      "text/html": [
       "<div>\n",
       "<style scoped>\n",
       "    .dataframe tbody tr th:only-of-type {\n",
       "        vertical-align: middle;\n",
       "    }\n",
       "\n",
       "    .dataframe tbody tr th {\n",
       "        vertical-align: top;\n",
       "    }\n",
       "\n",
       "    .dataframe thead th {\n",
       "        text-align: right;\n",
       "    }\n",
       "</style>\n",
       "<table border=\"1\" class=\"dataframe\">\n",
       "  <thead>\n",
       "    <tr style=\"text-align: right;\">\n",
       "      <th></th>\n",
       "      <th>Js</th>\n",
       "      <th>expected_value</th>\n",
       "      <th>norm</th>\n",
       "    </tr>\n",
       "  </thead>\n",
       "  <tbody>\n",
       "    <tr>\n",
       "      <th>0</th>\n",
       "      <td>[0.5479120971119267, -0.12224312049589536, 0.7...</td>\n",
       "      <td>1.557428</td>\n",
       "      <td>9.901511</td>\n",
       "    </tr>\n",
       "    <tr>\n",
       "      <th>1</th>\n",
       "      <td>[0.8535299776972036, 0.2877302401613291, 0.645...</td>\n",
       "      <td>4.323829</td>\n",
       "      <td>9.451757</td>\n",
       "    </tr>\n",
       "    <tr>\n",
       "      <th>2</th>\n",
       "      <td>[0.9413960487898065, 0.7862422426443954, 0.556...</td>\n",
       "      <td>13.987062</td>\n",
       "      <td>10.795326</td>\n",
       "    </tr>\n",
       "    <tr>\n",
       "      <th>3</th>\n",
       "      <td>[-0.25908058793026223, -0.06088837744838416, -...</td>\n",
       "      <td>16.139494</td>\n",
       "      <td>7.500441</td>\n",
       "    </tr>\n",
       "    <tr>\n",
       "      <th>4</th>\n",
       "      <td>[0.6645196027904021, 0.6095287149936037, -0.22...</td>\n",
       "      <td>3.728221</td>\n",
       "      <td>8.949773</td>\n",
       "    </tr>\n",
       "    <tr>\n",
       "      <th>...</th>\n",
       "      <td>...</td>\n",
       "      <td>...</td>\n",
       "      <td>...</td>\n",
       "    </tr>\n",
       "    <tr>\n",
       "      <th>65</th>\n",
       "      <td>[-0.6296413100928648, 0.12434146747514441, -0....</td>\n",
       "      <td>59.621119</td>\n",
       "      <td>11.905976</td>\n",
       "    </tr>\n",
       "    <tr>\n",
       "      <th>66</th>\n",
       "      <td>[-0.5078667769901231, -0.8689391321632352, -0....</td>\n",
       "      <td>59.795468</td>\n",
       "      <td>11.652270</td>\n",
       "    </tr>\n",
       "    <tr>\n",
       "      <th>67</th>\n",
       "      <td>[-0.395856862432723, -0.21174844564380502, -0....</td>\n",
       "      <td>19.171120</td>\n",
       "      <td>9.413636</td>\n",
       "    </tr>\n",
       "    <tr>\n",
       "      <th>68</th>\n",
       "      <td>[0.5611622750531686, 0.6824074124299129, -0.47...</td>\n",
       "      <td>1.087973</td>\n",
       "      <td>9.153248</td>\n",
       "    </tr>\n",
       "    <tr>\n",
       "      <th>69</th>\n",
       "      <td>[-0.07846078952086755, 0.42311608319355565, -0...</td>\n",
       "      <td>12.857141</td>\n",
       "      <td>12.324515</td>\n",
       "    </tr>\n",
       "  </tbody>\n",
       "</table>\n",
       "<p>70 rows × 3 columns</p>\n",
       "</div>"
      ],
      "text/plain": [
       "                                                   Js  expected_value  \\\n",
       "0   [0.5479120971119267, -0.12224312049589536, 0.7...        1.557428   \n",
       "1   [0.8535299776972036, 0.2877302401613291, 0.645...        4.323829   \n",
       "2   [0.9413960487898065, 0.7862422426443954, 0.556...       13.987062   \n",
       "3   [-0.25908058793026223, -0.06088837744838416, -...       16.139494   \n",
       "4   [0.6645196027904021, 0.6095287149936037, -0.22...        3.728221   \n",
       "..                                                ...             ...   \n",
       "65  [-0.6296413100928648, 0.12434146747514441, -0....       59.621119   \n",
       "66  [-0.5078667769901231, -0.8689391321632352, -0....       59.795468   \n",
       "67  [-0.395856862432723, -0.21174844564380502, -0....       19.171120   \n",
       "68  [0.5611622750531686, 0.6824074124299129, -0.47...        1.087973   \n",
       "69  [-0.07846078952086755, 0.42311608319355565, -0...       12.857141   \n",
       "\n",
       "         norm  \n",
       "0    9.901511  \n",
       "1    9.451757  \n",
       "2   10.795326  \n",
       "3    7.500441  \n",
       "4    8.949773  \n",
       "..        ...  \n",
       "65  11.905976  \n",
       "66  11.652270  \n",
       "67   9.413636  \n",
       "68   9.153248  \n",
       "69  12.324515  \n",
       "\n",
       "[70 rows x 3 columns]"
      ]
     },
     "execution_count": 9,
     "metadata": {},
     "output_type": "execute_result"
    }
   ],
   "source": [
    "data = []\n",
    "graphs = []\n",
    "# For debugging\n",
    "# eigvals_abs_max = []\n",
    "rng = np.random.default_rng(42)\n",
    "\n",
    "for i in range(n_samples):\n",
    "    print(f\"Sample {i}/{n_samples}\")\n",
    "    G = get_graph(n_qubits, rng, graph_type)\n",
    "    Js = [G.edges[edge][\"J\"] for edge in G.edges]\n",
    "    heisenberg = HeisenbergModel(n_qubits, G)\n",
    "\n",
    "    H = heisenberg.H\n",
    "    # H = H.to_matrix(sparse=True)\n",
    "\n",
    "    # state is big endian, so we need to reverse the qubits of the Hamiltonian\n",
    "    H = Operator(H).reverse_qargs().to_matrix()\n",
    "    H = scipy.sparse.csr_matrix(H)\n",
    "    norm = scipy.sparse.linalg.norm(H, ord=2)\n",
    "\n",
    "    fH = scipy.sparse.linalg.expm(-beta * H)\n",
    "    # Compute the expectation value <state|exp(-beta*H)|state>\n",
    "    y = np.vdot(state, fH @ state).real\n",
    "\n",
    "    data.append({\"Js\": Js, \"expected_value\": y, \"norm\": norm})\n",
    "    graphs.append(G)\n",
    "\n",
    "    # For debugging\n",
    "    # eigvals_abs_max.append(max(np.abs(scipy.linalg.eigvals(H.toarray()))))\n",
    "\n",
    "df = pd.DataFrame(data)\n",
    "df"
   ]
  },
  {
   "cell_type": "markdown",
   "metadata": {},
   "source": [
    "## Pre-process data"
   ]
  },
  {
   "cell_type": "code",
   "execution_count": 10,
   "metadata": {},
   "outputs": [
    {
     "data": {
      "text/plain": [
       "count     70.000000\n",
       "mean      15.468866\n",
       "std       40.997893\n",
       "min        0.057524\n",
       "25%        1.498523\n",
       "50%        3.938971\n",
       "75%       13.958430\n",
       "max      320.819950\n",
       "Name: expected_value, dtype: float64"
      ]
     },
     "execution_count": 10,
     "metadata": {},
     "output_type": "execute_result"
    }
   ],
   "source": [
    "df[\"expected_value\"].describe()"
   ]
  },
  {
   "cell_type": "code",
   "execution_count": 11,
   "metadata": {},
   "outputs": [
    {
     "data": {
      "text/plain": [
       "count    70.000000\n",
       "mean      9.630866\n",
       "std       1.727463\n",
       "min       5.911367\n",
       "25%       8.350066\n",
       "50%       9.760569\n",
       "75%      10.953199\n",
       "max      13.126572\n",
       "Name: norm, dtype: float64"
      ]
     },
     "execution_count": 11,
     "metadata": {},
     "output_type": "execute_result"
    }
   ],
   "source": [
    "df[\"norm\"].describe()"
   ]
  },
  {
   "cell_type": "code",
   "execution_count": 12,
   "metadata": {},
   "outputs": [
    {
     "name": "stdout",
     "output_type": "stream",
     "text": [
      "Outliers: Index([3, 11, 13, 15, 18, 23, 24, 34, 38, 48, 50, 65, 66, 67], dtype='int64')\n"
     ]
    }
   ],
   "source": [
    "# Query the 80% quantile\n",
    "q = df[\"expected_value\"].quantile(0.8)\n",
    "filtered_index = df.query(f\"expected_value < @q\").index\n",
    "diffrence = df.index.difference(filtered_index)\n",
    "print(f\"Outliers: {diffrence}\")\n",
    "\n",
    "# Remove outliers\n",
    "df = df.drop(diffrence).reset_index(drop=True)\n",
    "graphs = [graph for i, graph in enumerate(graphs) if i not in diffrence]"
   ]
  },
  {
   "cell_type": "code",
   "execution_count": 13,
   "metadata": {},
   "outputs": [
    {
     "data": {
      "text/html": [
       "<div>\n",
       "<style scoped>\n",
       "    .dataframe tbody tr th:only-of-type {\n",
       "        vertical-align: middle;\n",
       "    }\n",
       "\n",
       "    .dataframe tbody tr th {\n",
       "        vertical-align: top;\n",
       "    }\n",
       "\n",
       "    .dataframe thead th {\n",
       "        text-align: right;\n",
       "    }\n",
       "</style>\n",
       "<table border=\"1\" class=\"dataframe\">\n",
       "  <thead>\n",
       "    <tr style=\"text-align: right;\">\n",
       "      <th></th>\n",
       "      <th>Js</th>\n",
       "      <th>expected_value</th>\n",
       "      <th>norm</th>\n",
       "    </tr>\n",
       "  </thead>\n",
       "  <tbody>\n",
       "    <tr>\n",
       "      <th>0</th>\n",
       "      <td>[0.5479120971119267, -0.12224312049589536, 0.7...</td>\n",
       "      <td>1.557428</td>\n",
       "      <td>9.901511</td>\n",
       "    </tr>\n",
       "    <tr>\n",
       "      <th>1</th>\n",
       "      <td>[0.8535299776972036, 0.2877302401613291, 0.645...</td>\n",
       "      <td>4.323829</td>\n",
       "      <td>9.451757</td>\n",
       "    </tr>\n",
       "    <tr>\n",
       "      <th>2</th>\n",
       "      <td>[0.9413960487898065, 0.7862422426443954, 0.556...</td>\n",
       "      <td>13.987062</td>\n",
       "      <td>10.795326</td>\n",
       "    </tr>\n",
       "    <tr>\n",
       "      <th>3</th>\n",
       "      <td>[0.6645196027904021, 0.6095287149936037, -0.22...</td>\n",
       "      <td>3.728221</td>\n",
       "      <td>8.949773</td>\n",
       "    </tr>\n",
       "    <tr>\n",
       "      <th>4</th>\n",
       "      <td>[0.5614580620439358, -0.08216844892332009, 0.1...</td>\n",
       "      <td>4.634752</td>\n",
       "      <td>6.295602</td>\n",
       "    </tr>\n",
       "    <tr>\n",
       "      <th>5</th>\n",
       "      <td>[0.11841432149082709, -0.3920998038747756, -0....</td>\n",
       "      <td>6.514767</td>\n",
       "      <td>9.866210</td>\n",
       "    </tr>\n",
       "    <tr>\n",
       "      <th>6</th>\n",
       "      <td>[0.3238330294537901, 0.11406430468255668, 0.56...</td>\n",
       "      <td>4.442313</td>\n",
       "      <td>7.956945</td>\n",
       "    </tr>\n",
       "    <tr>\n",
       "      <th>7</th>\n",
       "      <td>[-0.6774564419327964, 0.0020895502067270755, -...</td>\n",
       "      <td>11.866389</td>\n",
       "      <td>9.692378</td>\n",
       "    </tr>\n",
       "    <tr>\n",
       "      <th>8</th>\n",
       "      <td>[0.9237953290990291, 0.8171613814152141, 0.399...</td>\n",
       "      <td>0.101123</td>\n",
       "      <td>12.124840</td>\n",
       "    </tr>\n",
       "    <tr>\n",
       "      <th>9</th>\n",
       "      <td>[-0.08844742033277786, -0.5952732704095394, -0...</td>\n",
       "      <td>0.321470</td>\n",
       "      <td>6.242837</td>\n",
       "    </tr>\n",
       "    <tr>\n",
       "      <th>10</th>\n",
       "      <td>[0.16212227940078994, -0.30626039093032587, 0....</td>\n",
       "      <td>0.841477</td>\n",
       "      <td>9.148974</td>\n",
       "    </tr>\n",
       "    <tr>\n",
       "      <th>11</th>\n",
       "      <td>[-0.7828485177291129, 0.3444801860796234, -0.4...</td>\n",
       "      <td>1.258786</td>\n",
       "      <td>10.478623</td>\n",
       "    </tr>\n",
       "    <tr>\n",
       "      <th>12</th>\n",
       "      <td>[-0.12980587999392412, 0.9847511281116741, 0.7...</td>\n",
       "      <td>4.871430</td>\n",
       "      <td>9.967190</td>\n",
       "    </tr>\n",
       "    <tr>\n",
       "      <th>13</th>\n",
       "      <td>[-0.8110666638769695, 0.493579222698052, -0.47...</td>\n",
       "      <td>1.897190</td>\n",
       "      <td>10.975545</td>\n",
       "    </tr>\n",
       "    <tr>\n",
       "      <th>14</th>\n",
       "      <td>[0.012659863241266, 0.38852487128577295, 0.162...</td>\n",
       "      <td>0.682599</td>\n",
       "      <td>8.407606</td>\n",
       "    </tr>\n",
       "    <tr>\n",
       "      <th>15</th>\n",
       "      <td>[-0.3981026164381205, -0.02283190929693335, 0....</td>\n",
       "      <td>13.461583</td>\n",
       "      <td>9.753754</td>\n",
       "    </tr>\n",
       "    <tr>\n",
       "      <th>16</th>\n",
       "      <td>[-0.16177136136739234, 0.9324638242863634, 0.1...</td>\n",
       "      <td>0.221874</td>\n",
       "      <td>11.270394</td>\n",
       "    </tr>\n",
       "    <tr>\n",
       "      <th>17</th>\n",
       "      <td>[-0.5347185160671326, 0.061539181198106974, 0....</td>\n",
       "      <td>1.623691</td>\n",
       "      <td>5.911367</td>\n",
       "    </tr>\n",
       "    <tr>\n",
       "      <th>18</th>\n",
       "      <td>[-0.21273908633594352, -0.3640178060959012, 0....</td>\n",
       "      <td>3.049083</td>\n",
       "      <td>8.027812</td>\n",
       "    </tr>\n",
       "    <tr>\n",
       "      <th>19</th>\n",
       "      <td>[-0.901491760144812, -0.2527717230808568, 0.04...</td>\n",
       "      <td>9.452609</td>\n",
       "      <td>12.696481</td>\n",
       "    </tr>\n",
       "    <tr>\n",
       "      <th>20</th>\n",
       "      <td>[0.6040517605471871, 0.5589550815426578, 0.284...</td>\n",
       "      <td>0.311486</td>\n",
       "      <td>7.809942</td>\n",
       "    </tr>\n",
       "    <tr>\n",
       "      <th>21</th>\n",
       "      <td>[-0.46707336499830787, -0.7204631780920863, -0...</td>\n",
       "      <td>14.032540</td>\n",
       "      <td>7.360645</td>\n",
       "    </tr>\n",
       "    <tr>\n",
       "      <th>22</th>\n",
       "      <td>[0.8977158534306808, 0.8326960390763558, -0.03...</td>\n",
       "      <td>0.057524</td>\n",
       "      <td>8.868568</td>\n",
       "    </tr>\n",
       "    <tr>\n",
       "      <th>23</th>\n",
       "      <td>[0.46978632462058156, -0.5951908137485633, 0.3...</td>\n",
       "      <td>11.136148</td>\n",
       "      <td>12.271275</td>\n",
       "    </tr>\n",
       "    <tr>\n",
       "      <th>24</th>\n",
       "      <td>[0.9177604918181608, 0.6017683521701933, 0.187...</td>\n",
       "      <td>0.139973</td>\n",
       "      <td>10.203349</td>\n",
       "    </tr>\n",
       "    <tr>\n",
       "      <th>25</th>\n",
       "      <td>[0.1299012229448837, 0.1448610280676994, -0.06...</td>\n",
       "      <td>4.962485</td>\n",
       "      <td>6.693039</td>\n",
       "    </tr>\n",
       "    <tr>\n",
       "      <th>26</th>\n",
       "      <td>[-0.8245819761784632, 0.31572657008105565, -0....</td>\n",
       "      <td>0.494108</td>\n",
       "      <td>8.080082</td>\n",
       "    </tr>\n",
       "    <tr>\n",
       "      <th>27</th>\n",
       "      <td>[0.9732630898486441, 0.43552047200728694, 0.90...</td>\n",
       "      <td>14.231628</td>\n",
       "      <td>10.886163</td>\n",
       "    </tr>\n",
       "    <tr>\n",
       "      <th>28</th>\n",
       "      <td>[0.6507990223926423, -0.40928194931182027, -0....</td>\n",
       "      <td>6.006021</td>\n",
       "      <td>9.793135</td>\n",
       "    </tr>\n",
       "    <tr>\n",
       "      <th>29</th>\n",
       "      <td>[0.6737931593218764, -0.7871609362572343, 0.99...</td>\n",
       "      <td>13.872535</td>\n",
       "      <td>11.930284</td>\n",
       "    </tr>\n",
       "    <tr>\n",
       "      <th>30</th>\n",
       "      <td>[0.6019277072833524, 0.8555908603445608, 0.544...</td>\n",
       "      <td>2.680166</td>\n",
       "      <td>9.669843</td>\n",
       "    </tr>\n",
       "    <tr>\n",
       "      <th>31</th>\n",
       "      <td>[0.70226219952387, -0.6895740151178182, 0.4692...</td>\n",
       "      <td>3.985742</td>\n",
       "      <td>11.567809</td>\n",
       "    </tr>\n",
       "    <tr>\n",
       "      <th>32</th>\n",
       "      <td>[0.7682914227336344, 0.4191565702012414, -0.65...</td>\n",
       "      <td>0.976621</td>\n",
       "      <td>9.855995</td>\n",
       "    </tr>\n",
       "    <tr>\n",
       "      <th>33</th>\n",
       "      <td>[0.8920489071161901, -0.39731473497056413, 0.1...</td>\n",
       "      <td>0.616179</td>\n",
       "      <td>8.074531</td>\n",
       "    </tr>\n",
       "    <tr>\n",
       "      <th>34</th>\n",
       "      <td>[-0.7318107802544693, -0.44384890843748526, -0...</td>\n",
       "      <td>3.245236</td>\n",
       "      <td>7.317648</td>\n",
       "    </tr>\n",
       "    <tr>\n",
       "      <th>35</th>\n",
       "      <td>[-0.9278803314452726, -0.16319991168627923, -0...</td>\n",
       "      <td>2.445760</td>\n",
       "      <td>6.964470</td>\n",
       "    </tr>\n",
       "    <tr>\n",
       "      <th>36</th>\n",
       "      <td>[0.09828876719935886, -0.13716360964021979, 0....</td>\n",
       "      <td>0.125010</td>\n",
       "      <td>7.407485</td>\n",
       "    </tr>\n",
       "    <tr>\n",
       "      <th>37</th>\n",
       "      <td>[-0.3710986165115975, 0.6747647246901372, -0.0...</td>\n",
       "      <td>16.069970</td>\n",
       "      <td>10.583271</td>\n",
       "    </tr>\n",
       "    <tr>\n",
       "      <th>38</th>\n",
       "      <td>[0.4853851334501713, -0.9706343128798585, 0.65...</td>\n",
       "      <td>2.535990</td>\n",
       "      <td>10.714351</td>\n",
       "    </tr>\n",
       "    <tr>\n",
       "      <th>39</th>\n",
       "      <td>[0.6726085811004758, 0.978266005367211, 0.1119...</td>\n",
       "      <td>0.178335</td>\n",
       "      <td>9.767385</td>\n",
       "    </tr>\n",
       "    <tr>\n",
       "      <th>40</th>\n",
       "      <td>[-0.5126650918885729, 0.6871767695250823, 0.27...</td>\n",
       "      <td>1.181044</td>\n",
       "      <td>8.095742</td>\n",
       "    </tr>\n",
       "    <tr>\n",
       "      <th>41</th>\n",
       "      <td>[-0.034854982825412106, 0.5372551789187583, 0....</td>\n",
       "      <td>1.849293</td>\n",
       "      <td>8.124614</td>\n",
       "    </tr>\n",
       "    <tr>\n",
       "      <th>42</th>\n",
       "      <td>[-0.20289498659691874, 0.8346753451033522, 0.2...</td>\n",
       "      <td>5.162746</td>\n",
       "      <td>8.483727</td>\n",
       "    </tr>\n",
       "    <tr>\n",
       "      <th>43</th>\n",
       "      <td>[-0.9853710874139687, -0.44395578679837233, 0....</td>\n",
       "      <td>3.651875</td>\n",
       "      <td>11.072574</td>\n",
       "    </tr>\n",
       "    <tr>\n",
       "      <th>44</th>\n",
       "      <td>[0.5640103414763544, 0.7336028765238529, -0.77...</td>\n",
       "      <td>3.380401</td>\n",
       "      <td>10.494293</td>\n",
       "    </tr>\n",
       "    <tr>\n",
       "      <th>45</th>\n",
       "      <td>[0.49996707587053724, -0.3070142773739024, -0....</td>\n",
       "      <td>2.352765</td>\n",
       "      <td>12.066806</td>\n",
       "    </tr>\n",
       "    <tr>\n",
       "      <th>46</th>\n",
       "      <td>[-0.8303614553763359, 0.11092342027552782, 0.6...</td>\n",
       "      <td>12.270398</td>\n",
       "      <td>11.105216</td>\n",
       "    </tr>\n",
       "    <tr>\n",
       "      <th>47</th>\n",
       "      <td>[0.5474413655032526, 0.7309130961113257, 0.478...</td>\n",
       "      <td>2.790893</td>\n",
       "      <td>9.661118</td>\n",
       "    </tr>\n",
       "    <tr>\n",
       "      <th>48</th>\n",
       "      <td>[-0.9407854217427736, -0.19728888489322416, 0....</td>\n",
       "      <td>9.808415</td>\n",
       "      <td>8.754616</td>\n",
       "    </tr>\n",
       "    <tr>\n",
       "      <th>49</th>\n",
       "      <td>[-0.45034989848986595, 0.7731151243437384, -0....</td>\n",
       "      <td>1.483638</td>\n",
       "      <td>10.214580</td>\n",
       "    </tr>\n",
       "    <tr>\n",
       "      <th>50</th>\n",
       "      <td>[0.14974385924606715, 0.9951600745258344, 0.40...</td>\n",
       "      <td>3.892201</td>\n",
       "      <td>8.685952</td>\n",
       "    </tr>\n",
       "    <tr>\n",
       "      <th>51</th>\n",
       "      <td>[-0.9646624380001756, -0.09344016699967317, 0....</td>\n",
       "      <td>1.543176</td>\n",
       "      <td>8.690611</td>\n",
       "    </tr>\n",
       "    <tr>\n",
       "      <th>52</th>\n",
       "      <td>[-0.3493145389666459, 0.818129628845897, 0.059...</td>\n",
       "      <td>0.499890</td>\n",
       "      <td>8.551197</td>\n",
       "    </tr>\n",
       "    <tr>\n",
       "      <th>53</th>\n",
       "      <td>[-0.43350613349977185, 0.12297878882876923, 0....</td>\n",
       "      <td>2.370708</td>\n",
       "      <td>10.179779</td>\n",
       "    </tr>\n",
       "    <tr>\n",
       "      <th>54</th>\n",
       "      <td>[0.5611622750531686, 0.6824074124299129, -0.47...</td>\n",
       "      <td>1.087973</td>\n",
       "      <td>9.153248</td>\n",
       "    </tr>\n",
       "    <tr>\n",
       "      <th>55</th>\n",
       "      <td>[-0.07846078952086755, 0.42311608319355565, -0...</td>\n",
       "      <td>12.857141</td>\n",
       "      <td>12.324515</td>\n",
       "    </tr>\n",
       "  </tbody>\n",
       "</table>\n",
       "</div>"
      ],
      "text/plain": [
       "                                                   Js  expected_value  \\\n",
       "0   [0.5479120971119267, -0.12224312049589536, 0.7...        1.557428   \n",
       "1   [0.8535299776972036, 0.2877302401613291, 0.645...        4.323829   \n",
       "2   [0.9413960487898065, 0.7862422426443954, 0.556...       13.987062   \n",
       "3   [0.6645196027904021, 0.6095287149936037, -0.22...        3.728221   \n",
       "4   [0.5614580620439358, -0.08216844892332009, 0.1...        4.634752   \n",
       "5   [0.11841432149082709, -0.3920998038747756, -0....        6.514767   \n",
       "6   [0.3238330294537901, 0.11406430468255668, 0.56...        4.442313   \n",
       "7   [-0.6774564419327964, 0.0020895502067270755, -...       11.866389   \n",
       "8   [0.9237953290990291, 0.8171613814152141, 0.399...        0.101123   \n",
       "9   [-0.08844742033277786, -0.5952732704095394, -0...        0.321470   \n",
       "10  [0.16212227940078994, -0.30626039093032587, 0....        0.841477   \n",
       "11  [-0.7828485177291129, 0.3444801860796234, -0.4...        1.258786   \n",
       "12  [-0.12980587999392412, 0.9847511281116741, 0.7...        4.871430   \n",
       "13  [-0.8110666638769695, 0.493579222698052, -0.47...        1.897190   \n",
       "14  [0.012659863241266, 0.38852487128577295, 0.162...        0.682599   \n",
       "15  [-0.3981026164381205, -0.02283190929693335, 0....       13.461583   \n",
       "16  [-0.16177136136739234, 0.9324638242863634, 0.1...        0.221874   \n",
       "17  [-0.5347185160671326, 0.061539181198106974, 0....        1.623691   \n",
       "18  [-0.21273908633594352, -0.3640178060959012, 0....        3.049083   \n",
       "19  [-0.901491760144812, -0.2527717230808568, 0.04...        9.452609   \n",
       "20  [0.6040517605471871, 0.5589550815426578, 0.284...        0.311486   \n",
       "21  [-0.46707336499830787, -0.7204631780920863, -0...       14.032540   \n",
       "22  [0.8977158534306808, 0.8326960390763558, -0.03...        0.057524   \n",
       "23  [0.46978632462058156, -0.5951908137485633, 0.3...       11.136148   \n",
       "24  [0.9177604918181608, 0.6017683521701933, 0.187...        0.139973   \n",
       "25  [0.1299012229448837, 0.1448610280676994, -0.06...        4.962485   \n",
       "26  [-0.8245819761784632, 0.31572657008105565, -0....        0.494108   \n",
       "27  [0.9732630898486441, 0.43552047200728694, 0.90...       14.231628   \n",
       "28  [0.6507990223926423, -0.40928194931182027, -0....        6.006021   \n",
       "29  [0.6737931593218764, -0.7871609362572343, 0.99...       13.872535   \n",
       "30  [0.6019277072833524, 0.8555908603445608, 0.544...        2.680166   \n",
       "31  [0.70226219952387, -0.6895740151178182, 0.4692...        3.985742   \n",
       "32  [0.7682914227336344, 0.4191565702012414, -0.65...        0.976621   \n",
       "33  [0.8920489071161901, -0.39731473497056413, 0.1...        0.616179   \n",
       "34  [-0.7318107802544693, -0.44384890843748526, -0...        3.245236   \n",
       "35  [-0.9278803314452726, -0.16319991168627923, -0...        2.445760   \n",
       "36  [0.09828876719935886, -0.13716360964021979, 0....        0.125010   \n",
       "37  [-0.3710986165115975, 0.6747647246901372, -0.0...       16.069970   \n",
       "38  [0.4853851334501713, -0.9706343128798585, 0.65...        2.535990   \n",
       "39  [0.6726085811004758, 0.978266005367211, 0.1119...        0.178335   \n",
       "40  [-0.5126650918885729, 0.6871767695250823, 0.27...        1.181044   \n",
       "41  [-0.034854982825412106, 0.5372551789187583, 0....        1.849293   \n",
       "42  [-0.20289498659691874, 0.8346753451033522, 0.2...        5.162746   \n",
       "43  [-0.9853710874139687, -0.44395578679837233, 0....        3.651875   \n",
       "44  [0.5640103414763544, 0.7336028765238529, -0.77...        3.380401   \n",
       "45  [0.49996707587053724, -0.3070142773739024, -0....        2.352765   \n",
       "46  [-0.8303614553763359, 0.11092342027552782, 0.6...       12.270398   \n",
       "47  [0.5474413655032526, 0.7309130961113257, 0.478...        2.790893   \n",
       "48  [-0.9407854217427736, -0.19728888489322416, 0....        9.808415   \n",
       "49  [-0.45034989848986595, 0.7731151243437384, -0....        1.483638   \n",
       "50  [0.14974385924606715, 0.9951600745258344, 0.40...        3.892201   \n",
       "51  [-0.9646624380001756, -0.09344016699967317, 0....        1.543176   \n",
       "52  [-0.3493145389666459, 0.818129628845897, 0.059...        0.499890   \n",
       "53  [-0.43350613349977185, 0.12297878882876923, 0....        2.370708   \n",
       "54  [0.5611622750531686, 0.6824074124299129, -0.47...        1.087973   \n",
       "55  [-0.07846078952086755, 0.42311608319355565, -0...       12.857141   \n",
       "\n",
       "         norm  \n",
       "0    9.901511  \n",
       "1    9.451757  \n",
       "2   10.795326  \n",
       "3    8.949773  \n",
       "4    6.295602  \n",
       "5    9.866210  \n",
       "6    7.956945  \n",
       "7    9.692378  \n",
       "8   12.124840  \n",
       "9    6.242837  \n",
       "10   9.148974  \n",
       "11  10.478623  \n",
       "12   9.967190  \n",
       "13  10.975545  \n",
       "14   8.407606  \n",
       "15   9.753754  \n",
       "16  11.270394  \n",
       "17   5.911367  \n",
       "18   8.027812  \n",
       "19  12.696481  \n",
       "20   7.809942  \n",
       "21   7.360645  \n",
       "22   8.868568  \n",
       "23  12.271275  \n",
       "24  10.203349  \n",
       "25   6.693039  \n",
       "26   8.080082  \n",
       "27  10.886163  \n",
       "28   9.793135  \n",
       "29  11.930284  \n",
       "30   9.669843  \n",
       "31  11.567809  \n",
       "32   9.855995  \n",
       "33   8.074531  \n",
       "34   7.317648  \n",
       "35   6.964470  \n",
       "36   7.407485  \n",
       "37  10.583271  \n",
       "38  10.714351  \n",
       "39   9.767385  \n",
       "40   8.095742  \n",
       "41   8.124614  \n",
       "42   8.483727  \n",
       "43  11.072574  \n",
       "44  10.494293  \n",
       "45  12.066806  \n",
       "46  11.105216  \n",
       "47   9.661118  \n",
       "48   8.754616  \n",
       "49  10.214580  \n",
       "50   8.685952  \n",
       "51   8.690611  \n",
       "52   8.551197  \n",
       "53  10.179779  \n",
       "54   9.153248  \n",
       "55  12.324515  "
      ]
     },
     "metadata": {},
     "output_type": "display_data"
    },
    {
     "name": "stdout",
     "output_type": "stream",
     "text": [
      "Number of samples: 56\n"
     ]
    },
    {
     "data": {
      "text/plain": [
       "count    56.000000\n",
       "mean      4.520066\n",
       "std       4.699656\n",
       "min       0.057524\n",
       "25%       1.060135\n",
       "50%       2.735529\n",
       "75%       5.373565\n",
       "max      16.069970\n",
       "Name: expected_value, dtype: float64"
      ]
     },
     "execution_count": 13,
     "metadata": {},
     "output_type": "execute_result"
    }
   ],
   "source": [
    "display(df)\n",
    "\n",
    "n_samples = len(df)\n",
    "print(f\"Number of samples: {n_samples}\")\n",
    "df[\"expected_value\"].describe()"
   ]
  },
  {
   "cell_type": "code",
   "execution_count": null,
   "metadata": {},
   "outputs": [
    {
     "data": {
      "text/plain": [
       "count    56.000000\n",
       "mean      9.453443\n",
       "std       1.670252\n",
       "min       5.911367\n",
       "25%       8.117396\n",
       "50%       9.681111\n",
       "75%      10.616041\n",
       "max      12.696481\n",
       "Name: norm, dtype: float64"
      ]
     },
     "execution_count": 14,
     "metadata": {},
     "output_type": "execute_result"
    }
   ],
   "source": [
    "df[\"norm\"].describe()"
   ]
  },
  {
   "cell_type": "markdown",
   "metadata": {},
   "source": [
    "## Check eigvals and Configure params"
   ]
  },
  {
   "cell_type": "code",
   "execution_count": 15,
   "metadata": {},
   "outputs": [
    {
     "name": "stdout",
     "output_type": "stream",
     "text": [
      "C: 12.696480593257155\n",
      "times: [0.0, 0.24743806998438841, 0.49487613996877683, 0.7423142099531652, 0.9897522799375537, 1.237190349921942, 1.4846284199063304, 1.7320664898907188, 1.9795045598751073, 2.226942629859496]\n"
     ]
    }
   ],
   "source": [
    "n_features = 10  # Number of Fourier features\n",
    "\n",
    "# Parameters for the Fourier feature generation\n",
    "# For shifted Hamiltonian\n",
    "# C = 20 * n_qubits  # upper bound for eigenvalues (WHY?)\n",
    "# times = [2 * np.pi * k / C for k in range(n_features)]\n",
    "\n",
    "# For unshifted Hamiltonian\n",
    "# C = 10 * n_qubits  # upper bound for eigenvalues\n",
    "C = max(df[\"norm\"])\n",
    "times = [np.pi * k / C for k in range(n_features)]\n",
    "\n",
    "print(f\"C: {C}\")\n",
    "print(f\"times: {times}\")"
   ]
  },
  {
   "cell_type": "code",
   "execution_count": 16,
   "metadata": {},
   "outputs": [
    {
     "name": "stdout",
     "output_type": "stream",
     "text": [
      "/home/jovyan/fourier_learning_ibm\n"
     ]
    }
   ],
   "source": [
    "# Only for CP1\n",
    "%cd fourier_learning_ibm/"
   ]
  },
  {
   "cell_type": "code",
   "execution_count": 17,
   "metadata": {},
   "outputs": [
    {
     "name": "stdout",
     "output_type": "stream",
     "text": [
      "Note: This CURRENT_TIME is used for other notebooks.\n",
      "CURRENT_TIME: 2024-12-13T08:56Z\n",
      "Saving data to ./data/2024-12-13T08:56Z\n"
     ]
    }
   ],
   "source": [
    "CURRENT_TIME = (\n",
    "    datetime.now(timezone.utc).isoformat(timespec=\"minutes\").replace(\"+00:00\", \"Z\")\n",
    ")\n",
    "\n",
    "path = f\"./data/{CURRENT_TIME}\"\n",
    "os.makedirs(path, exist_ok=True)\n",
    "print(\"Note: This CURRENT_TIME is used for other notebooks.\")\n",
    "print(f\"CURRENT_TIME: {CURRENT_TIME}\")\n",
    "print(f\"Saving data to {path}\")"
   ]
  },
  {
   "cell_type": "code",
   "execution_count": 18,
   "metadata": {},
   "outputs": [],
   "source": [
    "# Save parameters\n",
    "\n",
    "# Save the graphs as a binary file\n",
    "with open(f\"{path}/params_object.pkl\", \"wb\") as f:\n",
    "    pickle.dump(\n",
    "        {\n",
    "            \"graphs\": graphs,\n",
    "            \"Js\": df[\"Js\"].values,\n",
    "            \"expected_values\": df[\"expected_value\"].values,\n",
    "        },\n",
    "        f,\n",
    "    )\n",
    "\n",
    "# Save the parameters as a JSON file\n",
    "with open(f\"{path}/params_text.json\", \"w\") as f:\n",
    "    json.dump(\n",
    "        {\n",
    "            \"n_samples\": n_samples,\n",
    "            \"n_qubits\": n_qubits,\n",
    "            \"graph_type\": graph_type,\n",
    "            \"backend_qpu_name\": backend_qpu.name,\n",
    "            \"beta\": beta,\n",
    "            \"C\": C,\n",
    "            \"n_features\": n_features,\n",
    "            \"times\": times,\n",
    "        },\n",
    "        f,\n",
    "        indent=4,\n",
    "    )"
   ]
  },
  {
   "cell_type": "code",
   "execution_count": null,
   "metadata": {},
   "outputs": [],
   "source": []
  },
  {
   "cell_type": "code",
   "execution_count": null,
   "metadata": {},
   "outputs": [],
   "source": []
  }
 ],
 "metadata": {
  "kernelspec": {
   "display_name": "Python 3 (ipykernel)",
   "language": "python",
   "name": "python3"
  }
 },
 "nbformat": 4,
 "nbformat_minor": 2
}
