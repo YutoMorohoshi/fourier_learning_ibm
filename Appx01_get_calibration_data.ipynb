{
 "cells": [
  {
   "cell_type": "code",
   "execution_count": 1,
   "metadata": {},
   "outputs": [],
   "source": [
    "# See: https://quantumcomputing.stackexchange.com/questions/40011/how-to-download-historical-calibration-data-from-ibm-quantum-devices\n",
    "from qiskit_ibm_runtime import QiskitRuntimeService\n",
    "from datetime import datetime\n",
    "\n",
    "import numpy as np"
   ]
  },
  {
   "cell_type": "code",
   "execution_count": 2,
   "metadata": {},
   "outputs": [],
   "source": [
    "# Get the backend instance\n",
    "service = QiskitRuntimeService()\n",
    "\n",
    "ibm_backend = service.backend(\"ibm_marrakesh\")\n",
    "\n",
    "# Set the date and time for which you want to fetch the properties\n",
    "when = datetime(hour=13, day=5, month=3, year=2025)  # March 5, 2025\n",
    "\n",
    "# Fetch the properties\n",
    "properties = ibm_backend.properties(datetime=when)"
   ]
  },
  {
   "cell_type": "code",
   "execution_count": 3,
   "metadata": {},
   "outputs": [
    {
     "name": "stdout",
     "output_type": "stream",
     "text": [
      "[0, 1, 2, 3, 4, 5, 6, 7, 8, 9, 10, 11, 12, 13, 14, 15, 19, 35, 34, 33, 32, 31, 30, 29, 28, 27, 26, 25, 37, 45, 46, 47, 57, 67, 66, 65, 77, 85, 86, 87]\n",
      "40\n"
     ]
    }
   ],
   "source": [
    "qubits_to_check = [\n",
    "    0,\n",
    "    1,\n",
    "    2,\n",
    "    3,\n",
    "    4,\n",
    "    5,\n",
    "    6,\n",
    "    7,\n",
    "    8,\n",
    "    9,\n",
    "    10,\n",
    "    11,\n",
    "    12,\n",
    "    13,\n",
    "    14,\n",
    "    15,\n",
    "    19,\n",
    "    35,\n",
    "    34,\n",
    "    33,\n",
    "    32,\n",
    "    31,\n",
    "    30,\n",
    "    29,\n",
    "    28,\n",
    "    27,\n",
    "    26,\n",
    "    25,\n",
    "    37,\n",
    "    45,\n",
    "    46,\n",
    "    47,\n",
    "    57,\n",
    "    67,\n",
    "    66,\n",
    "    65,\n",
    "    77,\n",
    "    85,\n",
    "    86,\n",
    "    87,\n",
    "]\n",
    "print(qubits_to_check)\n",
    "print(len(qubits_to_check))"
   ]
  },
  {
   "cell_type": "code",
   "execution_count": 4,
   "metadata": {},
   "outputs": [
    {
     "name": "stdout",
     "output_type": "stream",
     "text": [
      "Median readout error for used qubits: 0.0087890625\n",
      "Median T1 for used qubits[us]: 219.42377392187578\n",
      "Median T2 for used qubits[us]: 130.09544303265318\n"
     ]
    }
   ],
   "source": [
    "# Fetch readout error, T1, and T2 for all qubits\n",
    "qubits_to_check = [\n",
    "    0,\n",
    "    1,\n",
    "    2,\n",
    "    3,\n",
    "    4,\n",
    "    5,\n",
    "    6,\n",
    "    7,\n",
    "    8,\n",
    "    9,\n",
    "    10,\n",
    "    11,\n",
    "    12,\n",
    "    13,\n",
    "    14,\n",
    "    15,\n",
    "    19,\n",
    "    35,\n",
    "    34,\n",
    "    33,\n",
    "    32,\n",
    "    31,\n",
    "    30,\n",
    "    29,\n",
    "    28,\n",
    "    27,\n",
    "    26,\n",
    "    25,\n",
    "    37,\n",
    "    45,\n",
    "    46,\n",
    "    47,\n",
    "    57,\n",
    "    67,\n",
    "    66,\n",
    "    65,\n",
    "    77,\n",
    "    85,\n",
    "    86,\n",
    "    87,\n",
    "]\n",
    "readout_errors = []\n",
    "T1s = []\n",
    "T2s = []\n",
    "\n",
    "for i in qubits_to_check:\n",
    "    for j in range(len(properties.qubits[i])):\n",
    "        if properties.qubits[i][j].name == \"readout_error\":\n",
    "            readout_errors.append(properties.qubits[i][j].value)\n",
    "            # print(f\"Qubit {i} readout error: {properties.qubits[i][j].value}\")\n",
    "        if properties.qubits[i][j].name == \"T1\":\n",
    "            T1s.append(properties.qubits[i][j].value)\n",
    "            # print(f\"Qubit {i} T1: {properties.qubits[i][j].value}\")\n",
    "        if properties.qubits[i][j].name == \"T2\":\n",
    "            T2s.append(properties.qubits[i][j].value)\n",
    "            # print(f\"Qubit {i} T2: {properties.qubits[i][j].value}\")\n",
    "\n",
    "# Print the median values for readout error, T1, and T2\n",
    "print(f\"Median readout error for used qubits: {np.median(readout_errors)}\")\n",
    "print(f\"Median T1 for used qubits[us]: {np.median(T1s)}\")\n",
    "print(f\"Median T2 for used qubits[us]: {np.median(T2s)}\")"
   ]
  },
  {
   "cell_type": "code",
   "execution_count": 7,
   "metadata": {},
   "outputs": [
    {
     "name": "stdout",
     "output_type": "stream",
     "text": [
      "Median cz gate error for used qubits: 0.0027245360123335227\n"
     ]
    }
   ],
   "source": [
    "# Fetch CZ error for qubits to check\n",
    "cz_errors = []\n",
    "\n",
    "for i, j in properties.gate_property(\"cz\").keys():\n",
    "    # Only consider pairs where i < j to avoid duplicates\n",
    "    # Check if the qubits are in the list of qubits to check\n",
    "    if i < j and i in qubits_to_check and j in qubits_to_check:\n",
    "        cz_errors.append(properties.gate_property(\"cz\", [i, j])[\"gate_error\"][0])\n",
    "        # print(f\"Qubits {i} and {j} cz gate error: {properties.gate_property('cz', [i, j])['gate_error'][0]}\")\n",
    "\n",
    "# Print the median value for cz gate error\n",
    "print(f\"Median cz gate error for used qubits: {np.median(cz_errors)}\")"
   ]
  },
  {
   "cell_type": "code",
   "execution_count": null,
   "metadata": {},
   "outputs": [],
   "source": []
  }
 ],
 "metadata": {
  "kernelspec": {
   "display_name": "Python 3 (ipykernel)",
   "language": "python",
   "name": "python3"
  }
 },
 "nbformat": 4,
 "nbformat_minor": 2
}
