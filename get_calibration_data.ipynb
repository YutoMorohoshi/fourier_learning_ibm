{
 "cells": [
  {
   "cell_type": "code",
   "execution_count": 1,
   "metadata": {},
   "outputs": [],
   "source": [
    "# See: https://quantumcomputing.stackexchange.com/questions/40011/how-to-download-historical-calibration-data-from-ibm-quantum-devices\n",
    "from qiskit_ibm_runtime import QiskitRuntimeService\n",
    "from datetime import datetime\n",
    "\n",
    "import numpy as np"
   ]
  },
  {
   "cell_type": "code",
   "execution_count": 2,
   "metadata": {},
   "outputs": [],
   "source": [
    "# Get the backend instance\n",
    "service = QiskitRuntimeService()\n",
    "\n",
    "ibm_backend = service.backend(\"ibm_marrakesh\")\n",
    "\n",
    "# Set the date and time for which you want to fetch the properties\n",
    "when = datetime(hour=13, day=5, month=3, year=2025)  # March 5, 2025\n",
    "\n",
    "# Fetch the properties\n",
    "properties = ibm_backend.properties(datetime=when)"
   ]
  },
  {
   "cell_type": "code",
   "execution_count": 3,
   "metadata": {},
   "outputs": [
    {
     "name": "stdout",
     "output_type": "stream",
     "text": [
      "Median readout error for all qubits: 0.01025390625\n",
      "Median T1 for all qubits[us]: 202.8820516769769\n",
      "Median T2 for all qubits[us]: 107.13108376624923\n"
     ]
    }
   ],
   "source": [
    "# Fetch readout error, T1, and T2 for all qubits\n",
    "readout_errors = []\n",
    "T1s = []\n",
    "T2s = []\n",
    "\n",
    "for i in range(len(properties.qubits)):\n",
    "    for j in range(len(properties.qubits[i])):\n",
    "        if properties.qubits[i][j].name == \"readout_error\":\n",
    "            readout_errors.append(properties.qubits[i][j].value)\n",
    "            # print(f\"Qubit {i} readout error: {properties.qubits[i][j].value}\")\n",
    "        if properties.qubits[i][j].name == \"T1\":\n",
    "            T1s.append(properties.qubits[i][j].value)\n",
    "            # print(f\"Qubit {i} T1: {properties.qubits[i][j].value}\")\n",
    "        if properties.qubits[i][j].name == \"T2\":\n",
    "            T2s.append(properties.qubits[i][j].value)\n",
    "            # print(f\"Qubit {i} T2: {properties.qubits[i][j].value}\")\n",
    "\n",
    "# Print the median values for readout error, T1, and T2\n",
    "print(f\"Median readout error for all qubits: {np.median(readout_errors)}\")\n",
    "print(f\"Median T1 for all qubits[us]: {np.median(T1s)}\")\n",
    "print(f\"Median T2 for all qubits[us]: {np.median(T2s)}\")"
   ]
  },
  {
   "cell_type": "code",
   "execution_count": null,
   "metadata": {},
   "outputs": [
    {
     "name": "stdout",
     "output_type": "stream",
     "text": [
      "Median cz gate error for all qubit pairs: 0.003212248498842274\n"
     ]
    }
   ],
   "source": [
    "# Fetch CZ error for all qubit pairs\n",
    "cz_errors = []\n",
    "\n",
    "for i, j in properties.gate_property(\"cz\").keys():\n",
    "    if i < j:\n",
    "        cz_errors.append(properties.gate_property(\"cz\", [i, j])[\"gate_error\"][0])\n",
    "        # print(f\"Qubits {i} and {j} cz gate error: {properties.gate_property('cz', [i, j])['gate_error'][0]}\")\n",
    "\n",
    "# Print the median value for cz gate error\n",
    "print(f\"Median cz gate error for all qubit pairs: {np.median(cz_errors)}\")"
   ]
  },
  {
   "cell_type": "code",
   "execution_count": null,
   "metadata": {},
   "outputs": [],
   "source": []
  }
 ],
 "metadata": {
  "kernelspec": {
   "display_name": "Python 3 (ipykernel)",
   "language": "python",
   "name": "python3"
  }
 },
 "nbformat": 4,
 "nbformat_minor": 2
}
