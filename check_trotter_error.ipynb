{
 "cells": [
  {
   "cell_type": "code",
   "execution_count": null,
   "metadata": {},
   "outputs": [],
   "source": [
    "%matplotlib inline\n",
    "%load_ext autoreload\n",
    "%autoreload 2"
   ]
  },
  {
   "cell_type": "code",
   "execution_count": null,
   "metadata": {},
   "outputs": [],
   "source": [
    "# Add the fourier_learning_ibm package to the path\n",
    "# This is necessary only when running the notebook in the docker container\n",
    "import sys, pprint\n",
    "\n",
    "sys.path.append(\"/home/jovyan/fourier_learning_ibm/\")\n",
    "pprint.pprint(sys.path)\n",
    "\n",
    "# This is necessary only when running the notebook in the docker container\n",
    "%cd fourier_learning_ibm/"
   ]
  },
  {
   "cell_type": "code",
   "execution_count": null,
   "metadata": {},
   "outputs": [],
   "source": [
    "import numpy as np\n",
    "from numpy.linalg import qr\n",
    "import pandas as pd\n",
    "import matplotlib.pyplot as plt\n",
    "import scipy\n",
    "import time\n",
    "import networkx as nx\n",
    "from heisenberg import (\n",
    "    HeisenbergModel,\n",
    "    get_graph,\n",
    "    get_positions,\n",
    ")\n",
    "from setup import setup_backend\n",
    "from heisenberg import HeisenbergModel, get_graph, get_positions\n",
    "from qiskit import transpile\n",
    "from qiskit.quantum_info.operators import Operator\n",
    "from qiskit.quantum_info import (\n",
    "    Statevector,\n",
    "    state_fidelity,\n",
    ")\n",
    "import json"
   ]
  },
  {
   "cell_type": "code",
   "execution_count": null,
   "metadata": {},
   "outputs": [],
   "source": [
    "import warnings\n",
    "\n",
    "warnings.filterwarnings(\"ignore\")"
   ]
  },
  {
   "cell_type": "code",
   "execution_count": null,
   "metadata": {},
   "outputs": [],
   "source": [
    "# state vector simulator\n",
    "backend_qpu, backend_sim_noiseless, backend_sim_noisy = setup_backend(\n",
    "    qpu_name=\"ibm_marrakesh\"\n",
    ")"
   ]
  },
  {
   "cell_type": "code",
   "execution_count": null,
   "metadata": {},
   "outputs": [],
   "source": [
    "# # MPS simulator\n",
    "# backend_qpu, backend_sim_noiseless, backend_sim_noisy = setup_backend(\n",
    "#     qpu_name=\"ibm_marrakesh\", method=\"matrix_product_state\"\n",
    "# )"
   ]
  },
  {
   "cell_type": "code",
   "execution_count": null,
   "metadata": {},
   "outputs": [],
   "source": [
    "# Config number of qubits\n",
    "n_qubits = 4"
   ]
  },
  {
   "cell_type": "markdown",
   "metadata": {},
   "source": [
    "## 積公式エラーの計算　(やらなくても良い)\n",
    "\n",
    "実機ノイズがない状態で、積公式によるエラーを調べる。"
   ]
  },
  {
   "cell_type": "code",
   "execution_count": null,
   "metadata": {},
   "outputs": [],
   "source": [
    "max_n_step = 500\n",
    "times = [0, 1, 2, 3, 4, 5, 6, 7, 8, 9] + list(np.arange(10, 200, 5))\n",
    "results = []\n",
    "\n",
    "rng = np.random.default_rng(42)\n",
    "Js = rng.uniform(-1, 1, size=n_qubits - 1)\n",
    "G = get_graph(n_qubits, Js)\n",
    "heisenberg = HeisenbergModel(n_qubits, G)\n",
    "\n",
    "for t in times:\n",
    "    # initial state\n",
    "    state_init = Statevector.from_label(\"0\" * n_qubits)\n",
    "\n",
    "    # Exact simulation (Non-Trotter)\n",
    "    state_exact, U_exact = heisenberg.exact_simulation(t, phase=0)\n",
    "\n",
    "    # Trotter simulation\n",
    "    for n_step in range(0, round(max_n_step / 50) * 50 + 1, 50):  # 50 刻みで計算する\n",
    "        if n_step == 0:\n",
    "            n_step = 1\n",
    "\n",
    "        circuit = heisenberg.get_circuit(t, n_step, phase=0)\n",
    "        circuit.remove_final_measurements()\n",
    "\n",
    "        print(\"preparing U_trotter...\")\n",
    "        U_trotter = Operator.from_circuit(circuit)\n",
    "\n",
    "        print(\"processing...\")\n",
    "        state_trotter = state_init.evolve(U_trotter)\n",
    "\n",
    "        print(\"calculating fidelity...\")\n",
    "        sta_fidelity = state_fidelity(state_exact, state_trotter)\n",
    "        print(f\"t: {t:.3f}, n_step: {n_step}, fidelity: {sta_fidelity:.3f}\")\n",
    "\n",
    "        results.append(\n",
    "            {\n",
    "                \"t\": t,\n",
    "                \"n_step\": n_step,\n",
    "                \"sta_fidelity\": sta_fidelity,\n",
    "            }\n",
    "        )"
   ]
  },
  {
   "cell_type": "code",
   "execution_count": null,
   "metadata": {},
   "outputs": [],
   "source": [
    "df = pd.DataFrame(results)\n",
    "# t と n_step ごとに sta_fidelity をグループ化\n",
    "df_grouped = df.groupby([\"t\", \"n_step\"]).agg({\"sta_fidelity\": \"mean\"})\n",
    "df_grouped = df_grouped.reset_index()\n",
    "display(df_grouped)\n",
    "\n",
    "# plot\n",
    "plt.figure(figsize=(10, 5))\n",
    "for n_step in df_grouped[\"n_step\"].unique():\n",
    "    df_tmp = df_grouped[df_grouped[\"n_step\"] == n_step]\n",
    "    plt.plot(df_tmp[\"t\"], df_tmp[\"sta_fidelity\"], label=f\"n_step={n_step}\", marker=\"o\")\n",
    "# random_pro_fidelity = 1 / (2**n_qubits)\n",
    "# plt.axhline(y=random_pro_fidelity, color=\"red\", linestyle=\"dashed\", label=\"1/(2**n)\")\n",
    "plt.xlabel(\"Time\")\n",
    "plt.ylabel(\"State Fidelity\")\n",
    "plt.legend(bbox_to_anchor=(0, -0.1), loc=\"upper left\")\n",
    "plt.grid()\n",
    "plt.title(f\"Stete Fidelity vs Time ({n_qubits}Q)\")\n",
    "# plt.savefig(f\"results/get_param/{n_qubits}Q/fidelity_vs_time.pdf\")\n",
    "plt.show()"
   ]
  },
  {
   "cell_type": "code",
   "execution_count": null,
   "metadata": {},
   "outputs": [],
   "source": [
    "max_times = {}\n",
    "threshold = 0.98\n",
    "\n",
    "# 各 n_step ごとに、threshold を超える最大の time を取得\n",
    "for n_step in df_grouped[\"n_step\"].unique():\n",
    "    df_tmp = df_grouped[df_grouped[\"n_step\"] == n_step]\n",
    "    max_time = df_tmp[df_tmp[\"sta_fidelity\"] > threshold][\"t\"].max()\n",
    "    max_times[n_step] = max_time\n",
    "\n",
    "print(max_times)"
   ]
  }
 ],
 "metadata": {
  "language_info": {
   "name": "python"
  }
 },
 "nbformat": 4,
 "nbformat_minor": 2
}
